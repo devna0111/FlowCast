{
 "cells": [
  {
   "cell_type": "code",
   "execution_count": 10,
   "id": "840e82d9",
   "metadata": {},
   "outputs": [
    {
     "data": {
      "text/html": [
       "\n",
       "<style>\n",
       "div.container{width:86% !important;}\n",
       "div.cell.code_cell.rendered{width:100%;}\n",
       "div.CodeMirror {font-family:Consolas; font-size:12pt;}\n",
       "div.output {font-size:15pt; font-weight:bold;}\n",
       "div.input {font-family:Consolas; font-size:12pt;}\n",
       "div.prompt {min-width:70px;}\n",
       "div#toc-wrapper{padding-top:120px;}\n",
       "div.text_cell_render ul li{font-size:12pt;padding:5px;}\n",
       "table.dataframe{font-size:15px;}\n",
       "</style>\n"
      ],
      "text/plain": [
       "<IPython.core.display.HTML object>"
      ]
     },
     "metadata": {},
     "output_type": "display_data"
    }
   ],
   "source": [
    "from IPython.display import display, HTML\n",
    "display(HTML(\"\"\"\n",
    "<style>\n",
    "div.container{width:86% !important;}\n",
    "div.cell.code_cell.rendered{width:100%;}\n",
    "div.CodeMirror {font-family:Consolas; font-size:12pt;}\n",
    "div.output {font-size:15pt; font-weight:bold;}\n",
    "div.input {font-family:Consolas; font-size:12pt;}\n",
    "div.prompt {min-width:70px;}\n",
    "div#toc-wrapper{padding-top:120px;}\n",
    "div.text_cell_render ul li{font-size:12pt;padding:5px;}\n",
    "table.dataframe{font-size:15px;}\n",
    "</style>\n",
    "\"\"\"))"
   ]
  },
  {
   "cell_type": "code",
   "execution_count": 11,
   "id": "de6d0647",
   "metadata": {},
   "outputs": [],
   "source": [
    "import pymysql\n",
    "from dotenv import load_dotenv\n",
    "import os\n",
    "import pandas as pd\n",
    "from datetime import datetime, timedelta\n",
    "import matplotlib.pyplot as plt\n",
    "from tensorflow.keras.optimizers import Adam\n",
    "plt.rc('font', family = 'Hancom Gothic')"
   ]
  },
  {
   "cell_type": "markdown",
   "id": "153ca4a0",
   "metadata": {},
   "source": [
    "## 파라미터 \n",
    "n_estimators: 100~1000 (early_stopping_rounds 함께 사용 권장)\n",
    "\n",
    "learning_rate: 0.01~0.2 (낮출수록 n_estimators를 늘려야 함)\n",
    "\n",
    "max_depth: 5~10 (너무 높이면 과적합)\n",
    "\n",
    "num_leaves: 15~63 (2^max_depth와 연관, 과적합 방지)\n",
    "\n",
    "min_child_samples: 10~50 (샘플이 많을수록 높여야)\n",
    "\n",
    "subsample(또는 bagging_fraction): 0.7~0.9\n",
    "\n",
    "colsample_bytree(또는 feature_fraction): 0.7~0.9\n",
    "\n",
    "class_weight: 'balanced'"
   ]
  },
  {
   "cell_type": "code",
   "execution_count": 12,
   "id": "d7c90df5",
   "metadata": {},
   "outputs": [],
   "source": [
    "# 하이퍼파라미터\n",
    "my_depth = 10\n",
    "my_epochs = 200\n",
    "my_learning_rate =0.001\n",
    "my_optimizer = Adam(learning_rate=my_learning_rate)\n",
    "my_batch_size = 100 # 작게 하면 더 미세하게 학습, 크게 하면 빠르고 덜 세밀\n",
    "my_n_estimators = 200 # 부스팅 반복 횟수(트리 개수)"
   ]
  },
  {
   "cell_type": "markdown",
   "id": "0c11e4e6",
   "metadata": {},
   "source": [
    "# 데이터 체크"
   ]
  },
  {
   "cell_type": "code",
   "execution_count": 13,
   "id": "2f133a38",
   "metadata": {},
   "outputs": [],
   "source": [
    "load_dotenv()\n",
    "host = os.getenv('host')\n",
    "user = os.getenv('user')\n",
    "password = os.getenv('password')\n",
    "database = os.getenv('database')\n",
    "port = int(os.getenv('port', 3306))\n",
    "\n",
    "query =f\"\"\"\n",
    "    SELECT *\n",
    "    FROM basic_data\"\"\"\n",
    "\n",
    "try:\n",
    "    connection = pymysql.connect(\n",
    "        host=host,\n",
    "        user=user,\n",
    "        password=password,\n",
    "        database=database,\n",
    "        port=port,\n",
    "        charset='utf8mb4',\n",
    "        cursorclass=pymysql.cursors.DictCursor\n",
    "    )\n",
    "    with connection.cursor() as cursor:\n",
    "        cursor.execute(query)\n",
    "        data = cursor.fetchall()\n",
    "        whole_data = pd.DataFrame(data)\n",
    "except Exception as e:\n",
    "    print('에러 발생:', e)\n",
    "finally:\n",
    "    try:\n",
    "        connection.close()\n",
    "    except:\n",
    "        pass"
   ]
  },
  {
   "cell_type": "code",
   "execution_count": 14,
   "id": "55b3a006",
   "metadata": {},
   "outputs": [
    {
     "data": {
      "text/plain": [
       "year                0\n",
       "month               0\n",
       "day                 0\n",
       "hour                0\n",
       "district            0\n",
       "datetime            0\n",
       "total_population    0\n",
       "season              0\n",
       "commute_time        0\n",
       "weekend_flag        0\n",
       "precipitation       0\n",
       "temperature         0\n",
       "humidity            0\n",
       "wind_speed          0\n",
       "rental_count        0\n",
       "dtype: int64"
      ]
     },
     "execution_count": 14,
     "metadata": {},
     "output_type": "execute_result"
    }
   ],
   "source": [
    "whole_data[whole_data['year']!=2025].isna().sum() # 학습에 사용할 데이터 : 21 ~ 24년 데이터, 결측치 X"
   ]
  },
  {
   "cell_type": "code",
   "execution_count": 15,
   "id": "e479c83a",
   "metadata": {},
   "outputs": [],
   "source": [
    "# PM데이터 로드\n",
    "df_pm = pd.read_csv('PM_data/서울시_시간별_PM_배치_2021_2025.csv', parse_dates=['일시'])\n",
    "df_pm.columns =['일시','행정구','PM대여량']"
   ]
  },
  {
   "cell_type": "code",
   "execution_count": 16,
   "id": "06324758",
   "metadata": {},
   "outputs": [
    {
     "data": {
      "text/plain": [
       "일시       0\n",
       "행정구      0\n",
       "PM대여량    0\n",
       "dtype: int64"
      ]
     },
     "execution_count": 16,
     "metadata": {},
     "output_type": "execute_result"
    }
   ],
   "source": [
    "df_pm.isna().sum() # 결측치 0건"
   ]
  },
  {
   "cell_type": "code",
   "execution_count": 17,
   "id": "65079df6",
   "metadata": {},
   "outputs": [],
   "source": [
    "# 데이터 concat\n",
    "whole_data.columns = ['연도','월','일','시','행정구','일시','총생활인구수','계절','출퇴근시간여부','주말구분','강수','기온','습도','풍속','공공자전거대여량']"
   ]
  },
  {
   "cell_type": "code",
   "execution_count": 18,
   "id": "6df7f46d",
   "metadata": {},
   "outputs": [
    {
     "data": {
      "text/plain": [
       "(872093, 15)"
      ]
     },
     "execution_count": 18,
     "metadata": {},
     "output_type": "execute_result"
    }
   ],
   "source": [
    "whole_data = whole_data[whole_data['연도']!=2025]\n",
    "whole_data.shape"
   ]
  },
  {
   "cell_type": "code",
   "execution_count": 19,
   "id": "ffdb460d",
   "metadata": {},
   "outputs": [
    {
     "name": "stdout",
     "output_type": "stream",
     "text": [
      "<class 'pandas.core.frame.DataFrame'>\n",
      "Int64Index: 872093 entries, 0 to 872092\n",
      "Data columns (total 15 columns):\n",
      " #   Column    Non-Null Count   Dtype         \n",
      "---  ------    --------------   -----         \n",
      " 0   연도        872093 non-null  int64         \n",
      " 1   월         872093 non-null  int64         \n",
      " 2   일         872093 non-null  int64         \n",
      " 3   시         872093 non-null  int64         \n",
      " 4   행정구       872093 non-null  object        \n",
      " 5   일시        872093 non-null  datetime64[ns]\n",
      " 6   총생활인구수    872093 non-null  int64         \n",
      " 7   계절        872093 non-null  object        \n",
      " 8   출퇴근시간여부   872093 non-null  object        \n",
      " 9   주말구분      872093 non-null  int64         \n",
      " 10  강수        872093 non-null  float64       \n",
      " 11  기온        872093 non-null  float64       \n",
      " 12  습도        872093 non-null  float64       \n",
      " 13  풍속        872093 non-null  float64       \n",
      " 14  공공자전거대여량  872093 non-null  float64       \n",
      "dtypes: datetime64[ns](1), float64(5), int64(6), object(3)\n",
      "memory usage: 106.5+ MB\n",
      "<class 'pandas.core.frame.DataFrame'>\n",
      "RangeIndex: 832656 entries, 0 to 832655\n",
      "Data columns (total 3 columns):\n",
      " #   Column  Non-Null Count   Dtype         \n",
      "---  ------  --------------   -----         \n",
      " 0   일시      832656 non-null  datetime64[ns]\n",
      " 1   행정구     832656 non-null  object        \n",
      " 2   PM대여량   832656 non-null  int64         \n",
      "dtypes: datetime64[ns](1), int64(1), object(1)\n",
      "memory usage: 19.1+ MB\n"
     ]
    }
   ],
   "source": [
    "whole_data.info()\n",
    "df_pm.info()"
   ]
  },
  {
   "cell_type": "code",
   "execution_count": 20,
   "id": "82f6d3d9",
   "metadata": {},
   "outputs": [
    {
     "data": {
      "text/html": [
       "<div>\n",
       "<style scoped>\n",
       "    .dataframe tbody tr th:only-of-type {\n",
       "        vertical-align: middle;\n",
       "    }\n",
       "\n",
       "    .dataframe tbody tr th {\n",
       "        vertical-align: top;\n",
       "    }\n",
       "\n",
       "    .dataframe thead th {\n",
       "        text-align: right;\n",
       "    }\n",
       "</style>\n",
       "<table border=\"1\" class=\"dataframe\">\n",
       "  <thead>\n",
       "    <tr style=\"text-align: right;\">\n",
       "      <th></th>\n",
       "      <th>연도</th>\n",
       "      <th>월</th>\n",
       "      <th>일</th>\n",
       "      <th>시</th>\n",
       "      <th>행정구</th>\n",
       "      <th>일시</th>\n",
       "      <th>총생활인구수</th>\n",
       "      <th>계절</th>\n",
       "      <th>출퇴근시간여부</th>\n",
       "      <th>주말구분</th>\n",
       "      <th>강수</th>\n",
       "      <th>기온</th>\n",
       "      <th>습도</th>\n",
       "      <th>풍속</th>\n",
       "      <th>공공자전거대여량</th>\n",
       "      <th>PM대여량</th>\n",
       "    </tr>\n",
       "  </thead>\n",
       "  <tbody>\n",
       "    <tr>\n",
       "      <th>0</th>\n",
       "      <td>2021</td>\n",
       "      <td>1</td>\n",
       "      <td>1</td>\n",
       "      <td>0</td>\n",
       "      <td>강남구</td>\n",
       "      <td>2021-01-01 00:00:00</td>\n",
       "      <td>618455</td>\n",
       "      <td>겨울</td>\n",
       "      <td>기타</td>\n",
       "      <td>0</td>\n",
       "      <td>0.0</td>\n",
       "      <td>-4.2</td>\n",
       "      <td>59.0</td>\n",
       "      <td>1.4</td>\n",
       "      <td>9.0</td>\n",
       "      <td>24</td>\n",
       "    </tr>\n",
       "    <tr>\n",
       "      <th>1</th>\n",
       "      <td>2021</td>\n",
       "      <td>1</td>\n",
       "      <td>1</td>\n",
       "      <td>0</td>\n",
       "      <td>강동구</td>\n",
       "      <td>2021-01-01 00:00:00</td>\n",
       "      <td>525221</td>\n",
       "      <td>겨울</td>\n",
       "      <td>기타</td>\n",
       "      <td>0</td>\n",
       "      <td>0.0</td>\n",
       "      <td>-6.6</td>\n",
       "      <td>60.0</td>\n",
       "      <td>1.4</td>\n",
       "      <td>12.0</td>\n",
       "      <td>21</td>\n",
       "    </tr>\n",
       "    <tr>\n",
       "      <th>2</th>\n",
       "      <td>2021</td>\n",
       "      <td>1</td>\n",
       "      <td>1</td>\n",
       "      <td>0</td>\n",
       "      <td>강북구</td>\n",
       "      <td>2021-01-01 00:00:00</td>\n",
       "      <td>321499</td>\n",
       "      <td>겨울</td>\n",
       "      <td>기타</td>\n",
       "      <td>0</td>\n",
       "      <td>0.0</td>\n",
       "      <td>-5.4</td>\n",
       "      <td>54.0</td>\n",
       "      <td>1.1</td>\n",
       "      <td>12.0</td>\n",
       "      <td>3</td>\n",
       "    </tr>\n",
       "    <tr>\n",
       "      <th>3</th>\n",
       "      <td>2021</td>\n",
       "      <td>1</td>\n",
       "      <td>1</td>\n",
       "      <td>0</td>\n",
       "      <td>강서구</td>\n",
       "      <td>2021-01-01 00:00:00</td>\n",
       "      <td>547288</td>\n",
       "      <td>겨울</td>\n",
       "      <td>기타</td>\n",
       "      <td>0</td>\n",
       "      <td>0.0</td>\n",
       "      <td>-3.3</td>\n",
       "      <td>52.0</td>\n",
       "      <td>0.9</td>\n",
       "      <td>27.0</td>\n",
       "      <td>3</td>\n",
       "    </tr>\n",
       "    <tr>\n",
       "      <th>4</th>\n",
       "      <td>2021</td>\n",
       "      <td>1</td>\n",
       "      <td>1</td>\n",
       "      <td>0</td>\n",
       "      <td>관악구</td>\n",
       "      <td>2021-01-01 00:00:00</td>\n",
       "      <td>492742</td>\n",
       "      <td>겨울</td>\n",
       "      <td>기타</td>\n",
       "      <td>0</td>\n",
       "      <td>0.0</td>\n",
       "      <td>-2.5</td>\n",
       "      <td>50.0</td>\n",
       "      <td>0.9</td>\n",
       "      <td>19.0</td>\n",
       "      <td>18</td>\n",
       "    </tr>\n",
       "    <tr>\n",
       "      <th>...</th>\n",
       "      <td>...</td>\n",
       "      <td>...</td>\n",
       "      <td>...</td>\n",
       "      <td>...</td>\n",
       "      <td>...</td>\n",
       "      <td>...</td>\n",
       "      <td>...</td>\n",
       "      <td>...</td>\n",
       "      <td>...</td>\n",
       "      <td>...</td>\n",
       "      <td>...</td>\n",
       "      <td>...</td>\n",
       "      <td>...</td>\n",
       "      <td>...</td>\n",
       "      <td>...</td>\n",
       "      <td>...</td>\n",
       "    </tr>\n",
       "    <tr>\n",
       "      <th>662781</th>\n",
       "      <td>2024</td>\n",
       "      <td>12</td>\n",
       "      <td>31</td>\n",
       "      <td>23</td>\n",
       "      <td>송파구</td>\n",
       "      <td>2024-12-31 23:00:00</td>\n",
       "      <td>718964</td>\n",
       "      <td>겨울</td>\n",
       "      <td>기타</td>\n",
       "      <td>0</td>\n",
       "      <td>0.0</td>\n",
       "      <td>0.5</td>\n",
       "      <td>61.0</td>\n",
       "      <td>1.3</td>\n",
       "      <td>115.0</td>\n",
       "      <td>37</td>\n",
       "    </tr>\n",
       "    <tr>\n",
       "      <th>662782</th>\n",
       "      <td>2024</td>\n",
       "      <td>12</td>\n",
       "      <td>31</td>\n",
       "      <td>23</td>\n",
       "      <td>양천구</td>\n",
       "      <td>2024-12-31 23:00:00</td>\n",
       "      <td>378141</td>\n",
       "      <td>겨울</td>\n",
       "      <td>기타</td>\n",
       "      <td>0</td>\n",
       "      <td>0.0</td>\n",
       "      <td>1.7</td>\n",
       "      <td>63.0</td>\n",
       "      <td>1.8</td>\n",
       "      <td>101.0</td>\n",
       "      <td>16</td>\n",
       "    </tr>\n",
       "    <tr>\n",
       "      <th>662783</th>\n",
       "      <td>2024</td>\n",
       "      <td>12</td>\n",
       "      <td>31</td>\n",
       "      <td>23</td>\n",
       "      <td>영등포구</td>\n",
       "      <td>2024-12-31 23:00:00</td>\n",
       "      <td>420498</td>\n",
       "      <td>겨울</td>\n",
       "      <td>기타</td>\n",
       "      <td>0</td>\n",
       "      <td>0.0</td>\n",
       "      <td>1.3</td>\n",
       "      <td>62.0</td>\n",
       "      <td>1.2</td>\n",
       "      <td>113.0</td>\n",
       "      <td>6</td>\n",
       "    </tr>\n",
       "    <tr>\n",
       "      <th>662784</th>\n",
       "      <td>2024</td>\n",
       "      <td>12</td>\n",
       "      <td>31</td>\n",
       "      <td>23</td>\n",
       "      <td>은평구</td>\n",
       "      <td>2024-12-31 23:00:00</td>\n",
       "      <td>453206</td>\n",
       "      <td>겨울</td>\n",
       "      <td>기타</td>\n",
       "      <td>0</td>\n",
       "      <td>0.0</td>\n",
       "      <td>0.3</td>\n",
       "      <td>62.0</td>\n",
       "      <td>1.3</td>\n",
       "      <td>35.0</td>\n",
       "      <td>5</td>\n",
       "    </tr>\n",
       "    <tr>\n",
       "      <th>662785</th>\n",
       "      <td>2024</td>\n",
       "      <td>12</td>\n",
       "      <td>31</td>\n",
       "      <td>23</td>\n",
       "      <td>은평구</td>\n",
       "      <td>2024-12-31 23:00:00</td>\n",
       "      <td>453206</td>\n",
       "      <td>겨울</td>\n",
       "      <td>기타</td>\n",
       "      <td>0</td>\n",
       "      <td>0.0</td>\n",
       "      <td>0.3</td>\n",
       "      <td>62.0</td>\n",
       "      <td>1.3</td>\n",
       "      <td>35.0</td>\n",
       "      <td>52</td>\n",
       "    </tr>\n",
       "  </tbody>\n",
       "</table>\n",
       "<p>662786 rows × 16 columns</p>\n",
       "</div>"
      ],
      "text/plain": [
       "          연도   월   일   시   행정구                  일시  총생활인구수  계절 출퇴근시간여부  주말구분  \\\n",
       "0       2021   1   1   0   강남구 2021-01-01 00:00:00  618455  겨울      기타     0   \n",
       "1       2021   1   1   0   강동구 2021-01-01 00:00:00  525221  겨울      기타     0   \n",
       "2       2021   1   1   0   강북구 2021-01-01 00:00:00  321499  겨울      기타     0   \n",
       "3       2021   1   1   0   강서구 2021-01-01 00:00:00  547288  겨울      기타     0   \n",
       "4       2021   1   1   0   관악구 2021-01-01 00:00:00  492742  겨울      기타     0   \n",
       "...      ...  ..  ..  ..   ...                 ...     ...  ..     ...   ...   \n",
       "662781  2024  12  31  23   송파구 2024-12-31 23:00:00  718964  겨울      기타     0   \n",
       "662782  2024  12  31  23   양천구 2024-12-31 23:00:00  378141  겨울      기타     0   \n",
       "662783  2024  12  31  23  영등포구 2024-12-31 23:00:00  420498  겨울      기타     0   \n",
       "662784  2024  12  31  23   은평구 2024-12-31 23:00:00  453206  겨울      기타     0   \n",
       "662785  2024  12  31  23   은평구 2024-12-31 23:00:00  453206  겨울      기타     0   \n",
       "\n",
       "         강수   기온    습도   풍속  공공자전거대여량  PM대여량  \n",
       "0       0.0 -4.2  59.0  1.4       9.0     24  \n",
       "1       0.0 -6.6  60.0  1.4      12.0     21  \n",
       "2       0.0 -5.4  54.0  1.1      12.0      3  \n",
       "3       0.0 -3.3  52.0  0.9      27.0      3  \n",
       "4       0.0 -2.5  50.0  0.9      19.0     18  \n",
       "...     ...  ...   ...  ...       ...    ...  \n",
       "662781  0.0  0.5  61.0  1.3     115.0     37  \n",
       "662782  0.0  1.7  63.0  1.8     101.0     16  \n",
       "662783  0.0  1.3  62.0  1.2     113.0      6  \n",
       "662784  0.0  0.3  62.0  1.3      35.0      5  \n",
       "662785  0.0  0.3  62.0  1.3      35.0     52  \n",
       "\n",
       "[662786 rows x 16 columns]"
      ]
     },
     "execution_count": 20,
     "metadata": {},
     "output_type": "execute_result"
    }
   ],
   "source": [
    "df_total = whole_data.merge(df_pm, on=['행정구','일시'])\n",
    "df_total"
   ]
  },
  {
   "cell_type": "code",
   "execution_count": 21,
   "id": "b30af019",
   "metadata": {},
   "outputs": [
    {
     "data": {
      "text/html": [
       "<div>\n",
       "<style scoped>\n",
       "    .dataframe tbody tr th:only-of-type {\n",
       "        vertical-align: middle;\n",
       "    }\n",
       "\n",
       "    .dataframe tbody tr th {\n",
       "        vertical-align: top;\n",
       "    }\n",
       "\n",
       "    .dataframe thead th {\n",
       "        text-align: right;\n",
       "    }\n",
       "</style>\n",
       "<table border=\"1\" class=\"dataframe\">\n",
       "  <thead>\n",
       "    <tr style=\"text-align: right;\">\n",
       "      <th></th>\n",
       "      <th>연도</th>\n",
       "      <th>월</th>\n",
       "      <th>일</th>\n",
       "      <th>시</th>\n",
       "      <th>행정구</th>\n",
       "      <th>일시</th>\n",
       "      <th>총생활인구수</th>\n",
       "      <th>계절</th>\n",
       "      <th>출퇴근시간여부</th>\n",
       "      <th>주말구분</th>\n",
       "      <th>강수</th>\n",
       "      <th>기온</th>\n",
       "      <th>습도</th>\n",
       "      <th>풍속</th>\n",
       "      <th>공공자전거대여량</th>\n",
       "      <th>PM대여량</th>\n",
       "    </tr>\n",
       "  </thead>\n",
       "  <tbody>\n",
       "  </tbody>\n",
       "</table>\n",
       "</div>"
      ],
      "text/plain": [
       "Empty DataFrame\n",
       "Columns: [연도, 월, 일, 시, 행정구, 일시, 총생활인구수, 계절, 출퇴근시간여부, 주말구분, 강수, 기온, 습도, 풍속, 공공자전거대여량, PM대여량]\n",
       "Index: []"
      ]
     },
     "execution_count": 21,
     "metadata": {},
     "output_type": "execute_result"
    }
   ],
   "source": [
    "df_total[df_total.isna().any(axis=1)]"
   ]
  },
  {
   "cell_type": "code",
   "execution_count": 22,
   "id": "8da2ea6c",
   "metadata": {},
   "outputs": [],
   "source": [
    "# feature 추출\n",
    "# 시계열 요소\n",
    "import holidays\n",
    "kr_holidays = holidays.KR(years=[2021, 2024])\n",
    "df_total['공휴일'] = df_total['일시'].dt.date.isin(kr_holidays).astype(int)\n",
    "# df_total\n",
    "cols_time = ['연도','월','일','시','계절','출퇴근시간여부','주말구분','공휴일']"
   ]
  },
  {
   "cell_type": "markdown",
   "id": "1fcf32a5",
   "metadata": {},
   "source": [
    "# 라벨인코더"
   ]
  },
  {
   "cell_type": "code",
   "execution_count": 23,
   "id": "faf59336",
   "metadata": {},
   "outputs": [
    {
     "data": {
      "text/html": [
       "<div>\n",
       "<style scoped>\n",
       "    .dataframe tbody tr th:only-of-type {\n",
       "        vertical-align: middle;\n",
       "    }\n",
       "\n",
       "    .dataframe tbody tr th {\n",
       "        vertical-align: top;\n",
       "    }\n",
       "\n",
       "    .dataframe thead th {\n",
       "        text-align: right;\n",
       "    }\n",
       "</style>\n",
       "<table border=\"1\" class=\"dataframe\">\n",
       "  <thead>\n",
       "    <tr style=\"text-align: right;\">\n",
       "      <th></th>\n",
       "      <th>연도</th>\n",
       "      <th>월</th>\n",
       "      <th>일</th>\n",
       "      <th>시</th>\n",
       "      <th>행정구</th>\n",
       "      <th>일시</th>\n",
       "      <th>총생활인구수</th>\n",
       "      <th>계절</th>\n",
       "      <th>출퇴근시간여부</th>\n",
       "      <th>주말구분</th>\n",
       "      <th>강수</th>\n",
       "      <th>기온</th>\n",
       "      <th>습도</th>\n",
       "      <th>풍속</th>\n",
       "      <th>공공자전거대여량</th>\n",
       "      <th>PM대여량</th>\n",
       "      <th>공휴일</th>\n",
       "    </tr>\n",
       "  </thead>\n",
       "  <tbody>\n",
       "    <tr>\n",
       "      <th>0</th>\n",
       "      <td>2021</td>\n",
       "      <td>1</td>\n",
       "      <td>1</td>\n",
       "      <td>0</td>\n",
       "      <td>0</td>\n",
       "      <td>2021-01-01 00:00:00</td>\n",
       "      <td>618455</td>\n",
       "      <td>1</td>\n",
       "      <td>0</td>\n",
       "      <td>0</td>\n",
       "      <td>0.0</td>\n",
       "      <td>-4.2</td>\n",
       "      <td>59.0</td>\n",
       "      <td>1.4</td>\n",
       "      <td>9.0</td>\n",
       "      <td>24</td>\n",
       "      <td>1</td>\n",
       "    </tr>\n",
       "    <tr>\n",
       "      <th>1</th>\n",
       "      <td>2021</td>\n",
       "      <td>1</td>\n",
       "      <td>1</td>\n",
       "      <td>0</td>\n",
       "      <td>1</td>\n",
       "      <td>2021-01-01 00:00:00</td>\n",
       "      <td>525221</td>\n",
       "      <td>1</td>\n",
       "      <td>0</td>\n",
       "      <td>0</td>\n",
       "      <td>0.0</td>\n",
       "      <td>-6.6</td>\n",
       "      <td>60.0</td>\n",
       "      <td>1.4</td>\n",
       "      <td>12.0</td>\n",
       "      <td>21</td>\n",
       "      <td>1</td>\n",
       "    </tr>\n",
       "    <tr>\n",
       "      <th>2</th>\n",
       "      <td>2021</td>\n",
       "      <td>1</td>\n",
       "      <td>1</td>\n",
       "      <td>0</td>\n",
       "      <td>2</td>\n",
       "      <td>2021-01-01 00:00:00</td>\n",
       "      <td>321499</td>\n",
       "      <td>1</td>\n",
       "      <td>0</td>\n",
       "      <td>0</td>\n",
       "      <td>0.0</td>\n",
       "      <td>-5.4</td>\n",
       "      <td>54.0</td>\n",
       "      <td>1.1</td>\n",
       "      <td>12.0</td>\n",
       "      <td>3</td>\n",
       "      <td>1</td>\n",
       "    </tr>\n",
       "    <tr>\n",
       "      <th>3</th>\n",
       "      <td>2021</td>\n",
       "      <td>1</td>\n",
       "      <td>1</td>\n",
       "      <td>0</td>\n",
       "      <td>3</td>\n",
       "      <td>2021-01-01 00:00:00</td>\n",
       "      <td>547288</td>\n",
       "      <td>1</td>\n",
       "      <td>0</td>\n",
       "      <td>0</td>\n",
       "      <td>0.0</td>\n",
       "      <td>-3.3</td>\n",
       "      <td>52.0</td>\n",
       "      <td>0.9</td>\n",
       "      <td>27.0</td>\n",
       "      <td>3</td>\n",
       "      <td>1</td>\n",
       "    </tr>\n",
       "    <tr>\n",
       "      <th>4</th>\n",
       "      <td>2021</td>\n",
       "      <td>1</td>\n",
       "      <td>1</td>\n",
       "      <td>0</td>\n",
       "      <td>4</td>\n",
       "      <td>2021-01-01 00:00:00</td>\n",
       "      <td>492742</td>\n",
       "      <td>1</td>\n",
       "      <td>0</td>\n",
       "      <td>0</td>\n",
       "      <td>0.0</td>\n",
       "      <td>-2.5</td>\n",
       "      <td>50.0</td>\n",
       "      <td>0.9</td>\n",
       "      <td>19.0</td>\n",
       "      <td>18</td>\n",
       "      <td>1</td>\n",
       "    </tr>\n",
       "    <tr>\n",
       "      <th>...</th>\n",
       "      <td>...</td>\n",
       "      <td>...</td>\n",
       "      <td>...</td>\n",
       "      <td>...</td>\n",
       "      <td>...</td>\n",
       "      <td>...</td>\n",
       "      <td>...</td>\n",
       "      <td>...</td>\n",
       "      <td>...</td>\n",
       "      <td>...</td>\n",
       "      <td>...</td>\n",
       "      <td>...</td>\n",
       "      <td>...</td>\n",
       "      <td>...</td>\n",
       "      <td>...</td>\n",
       "      <td>...</td>\n",
       "      <td>...</td>\n",
       "    </tr>\n",
       "    <tr>\n",
       "      <th>662781</th>\n",
       "      <td>2024</td>\n",
       "      <td>12</td>\n",
       "      <td>31</td>\n",
       "      <td>23</td>\n",
       "      <td>14</td>\n",
       "      <td>2024-12-31 23:00:00</td>\n",
       "      <td>718964</td>\n",
       "      <td>1</td>\n",
       "      <td>0</td>\n",
       "      <td>0</td>\n",
       "      <td>0.0</td>\n",
       "      <td>0.5</td>\n",
       "      <td>61.0</td>\n",
       "      <td>1.3</td>\n",
       "      <td>115.0</td>\n",
       "      <td>37</td>\n",
       "      <td>0</td>\n",
       "    </tr>\n",
       "    <tr>\n",
       "      <th>662782</th>\n",
       "      <td>2024</td>\n",
       "      <td>12</td>\n",
       "      <td>31</td>\n",
       "      <td>23</td>\n",
       "      <td>15</td>\n",
       "      <td>2024-12-31 23:00:00</td>\n",
       "      <td>378141</td>\n",
       "      <td>1</td>\n",
       "      <td>0</td>\n",
       "      <td>0</td>\n",
       "      <td>0.0</td>\n",
       "      <td>1.7</td>\n",
       "      <td>63.0</td>\n",
       "      <td>1.8</td>\n",
       "      <td>101.0</td>\n",
       "      <td>16</td>\n",
       "      <td>0</td>\n",
       "    </tr>\n",
       "    <tr>\n",
       "      <th>662783</th>\n",
       "      <td>2024</td>\n",
       "      <td>12</td>\n",
       "      <td>31</td>\n",
       "      <td>23</td>\n",
       "      <td>16</td>\n",
       "      <td>2024-12-31 23:00:00</td>\n",
       "      <td>420498</td>\n",
       "      <td>1</td>\n",
       "      <td>0</td>\n",
       "      <td>0</td>\n",
       "      <td>0.0</td>\n",
       "      <td>1.3</td>\n",
       "      <td>62.0</td>\n",
       "      <td>1.2</td>\n",
       "      <td>113.0</td>\n",
       "      <td>6</td>\n",
       "      <td>0</td>\n",
       "    </tr>\n",
       "    <tr>\n",
       "      <th>662784</th>\n",
       "      <td>2024</td>\n",
       "      <td>12</td>\n",
       "      <td>31</td>\n",
       "      <td>23</td>\n",
       "      <td>17</td>\n",
       "      <td>2024-12-31 23:00:00</td>\n",
       "      <td>453206</td>\n",
       "      <td>1</td>\n",
       "      <td>0</td>\n",
       "      <td>0</td>\n",
       "      <td>0.0</td>\n",
       "      <td>0.3</td>\n",
       "      <td>62.0</td>\n",
       "      <td>1.3</td>\n",
       "      <td>35.0</td>\n",
       "      <td>5</td>\n",
       "      <td>0</td>\n",
       "    </tr>\n",
       "    <tr>\n",
       "      <th>662785</th>\n",
       "      <td>2024</td>\n",
       "      <td>12</td>\n",
       "      <td>31</td>\n",
       "      <td>23</td>\n",
       "      <td>17</td>\n",
       "      <td>2024-12-31 23:00:00</td>\n",
       "      <td>453206</td>\n",
       "      <td>1</td>\n",
       "      <td>0</td>\n",
       "      <td>0</td>\n",
       "      <td>0.0</td>\n",
       "      <td>0.3</td>\n",
       "      <td>62.0</td>\n",
       "      <td>1.3</td>\n",
       "      <td>35.0</td>\n",
       "      <td>52</td>\n",
       "      <td>0</td>\n",
       "    </tr>\n",
       "  </tbody>\n",
       "</table>\n",
       "<p>662786 rows × 17 columns</p>\n",
       "</div>"
      ],
      "text/plain": [
       "          연도   월   일   시  행정구                  일시  총생활인구수  계절  출퇴근시간여부  주말구분  \\\n",
       "0       2021   1   1   0    0 2021-01-01 00:00:00  618455   1        0     0   \n",
       "1       2021   1   1   0    1 2021-01-01 00:00:00  525221   1        0     0   \n",
       "2       2021   1   1   0    2 2021-01-01 00:00:00  321499   1        0     0   \n",
       "3       2021   1   1   0    3 2021-01-01 00:00:00  547288   1        0     0   \n",
       "4       2021   1   1   0    4 2021-01-01 00:00:00  492742   1        0     0   \n",
       "...      ...  ..  ..  ..  ...                 ...     ...  ..      ...   ...   \n",
       "662781  2024  12  31  23   14 2024-12-31 23:00:00  718964   1        0     0   \n",
       "662782  2024  12  31  23   15 2024-12-31 23:00:00  378141   1        0     0   \n",
       "662783  2024  12  31  23   16 2024-12-31 23:00:00  420498   1        0     0   \n",
       "662784  2024  12  31  23   17 2024-12-31 23:00:00  453206   1        0     0   \n",
       "662785  2024  12  31  23   17 2024-12-31 23:00:00  453206   1        0     0   \n",
       "\n",
       "         강수   기온    습도   풍속  공공자전거대여량  PM대여량  공휴일  \n",
       "0       0.0 -4.2  59.0  1.4       9.0     24    1  \n",
       "1       0.0 -6.6  60.0  1.4      12.0     21    1  \n",
       "2       0.0 -5.4  54.0  1.1      12.0      3    1  \n",
       "3       0.0 -3.3  52.0  0.9      27.0      3    1  \n",
       "4       0.0 -2.5  50.0  0.9      19.0     18    1  \n",
       "...     ...  ...   ...  ...       ...    ...  ...  \n",
       "662781  0.0  0.5  61.0  1.3     115.0     37    0  \n",
       "662782  0.0  1.7  63.0  1.8     101.0     16    0  \n",
       "662783  0.0  1.3  62.0  1.2     113.0      6    0  \n",
       "662784  0.0  0.3  62.0  1.3      35.0      5    0  \n",
       "662785  0.0  0.3  62.0  1.3      35.0     52    0  \n",
       "\n",
       "[662786 rows x 17 columns]"
      ]
     },
     "execution_count": 23,
     "metadata": {},
     "output_type": "execute_result"
    }
   ],
   "source": [
    "# 라벨 인코딩\n",
    "from sklearn.preprocessing import LabelEncoder\n",
    "le_season = LabelEncoder()\n",
    "le_commute = LabelEncoder()\n",
    "le_gu = LabelEncoder()\n",
    "df_total['계절'] = le_season.fit_transform(df_total['계절'].values)\n",
    "df_total['출퇴근시간여부'] = le_commute.fit_transform(df_total['출퇴근시간여부'].values)\n",
    "df_total['행정구'] = le_gu.fit_transform(df_total['행정구'].values)\n",
    "df_total"
   ]
  },
  {
   "cell_type": "markdown",
   "id": "5172fded",
   "metadata": {},
   "source": [
    "# PM운영 행정구와 전체 행정구 체크\n",
    "- PM의 경우 서울시에 운영현황을 공유한 회사만 체크"
   ]
  },
  {
   "cell_type": "code",
   "execution_count": 24,
   "id": "85353584",
   "metadata": {},
   "outputs": [],
   "source": [
    "df_total['행정구'].unique()\n",
    "pm_gu_list = le_gu.classes_.tolist()"
   ]
  },
  {
   "cell_type": "code",
   "execution_count": 25,
   "id": "c05d01d4",
   "metadata": {},
   "outputs": [],
   "source": [
    "gu_list = whole_data['행정구'].unique().tolist()"
   ]
  },
  {
   "cell_type": "markdown",
   "id": "85e9ee90",
   "metadata": {},
   "source": [
    "# 스케일 조정\n",
    "- 시계열 내용 time_cols = ['연도','월','일','시','계절','출퇴근시간여부','주말구분','공휴일'] 를 제외 나머지 연속형 데이터 스케일 조정"
   ]
  },
  {
   "cell_type": "code",
   "execution_count": 26,
   "id": "ef25d234",
   "metadata": {},
   "outputs": [
    {
     "data": {
      "text/html": [
       "<div>\n",
       "<style scoped>\n",
       "    .dataframe tbody tr th:only-of-type {\n",
       "        vertical-align: middle;\n",
       "    }\n",
       "\n",
       "    .dataframe tbody tr th {\n",
       "        vertical-align: top;\n",
       "    }\n",
       "\n",
       "    .dataframe thead th {\n",
       "        text-align: right;\n",
       "    }\n",
       "</style>\n",
       "<table border=\"1\" class=\"dataframe\">\n",
       "  <thead>\n",
       "    <tr style=\"text-align: right;\">\n",
       "      <th></th>\n",
       "      <th>연도</th>\n",
       "      <th>월</th>\n",
       "      <th>일</th>\n",
       "      <th>시</th>\n",
       "      <th>행정구</th>\n",
       "      <th>일시</th>\n",
       "      <th>총생활인구수</th>\n",
       "      <th>계절</th>\n",
       "      <th>출퇴근시간여부</th>\n",
       "      <th>주말구분</th>\n",
       "      <th>강수</th>\n",
       "      <th>기온</th>\n",
       "      <th>습도</th>\n",
       "      <th>풍속</th>\n",
       "      <th>공공자전거대여량</th>\n",
       "      <th>PM대여량</th>\n",
       "      <th>공휴일</th>\n",
       "    </tr>\n",
       "  </thead>\n",
       "  <tbody>\n",
       "    <tr>\n",
       "      <th>0</th>\n",
       "      <td>2021</td>\n",
       "      <td>1</td>\n",
       "      <td>1</td>\n",
       "      <td>0</td>\n",
       "      <td>0</td>\n",
       "      <td>2021-01-01 00:00:00</td>\n",
       "      <td>0.431544</td>\n",
       "      <td>1</td>\n",
       "      <td>0</td>\n",
       "      <td>0</td>\n",
       "      <td>0.011628</td>\n",
       "      <td>0.519864</td>\n",
       "      <td>0.594059</td>\n",
       "      <td>0.210526</td>\n",
       "      <td>0.002456</td>\n",
       "      <td>24</td>\n",
       "      <td>1</td>\n",
       "    </tr>\n",
       "    <tr>\n",
       "      <th>1</th>\n",
       "      <td>2021</td>\n",
       "      <td>1</td>\n",
       "      <td>1</td>\n",
       "      <td>0</td>\n",
       "      <td>1</td>\n",
       "      <td>2021-01-01 00:00:00</td>\n",
       "      <td>0.342346</td>\n",
       "      <td>1</td>\n",
       "      <td>0</td>\n",
       "      <td>0</td>\n",
       "      <td>0.011628</td>\n",
       "      <td>0.492622</td>\n",
       "      <td>0.603960</td>\n",
       "      <td>0.210526</td>\n",
       "      <td>0.003377</td>\n",
       "      <td>21</td>\n",
       "      <td>1</td>\n",
       "    </tr>\n",
       "    <tr>\n",
       "      <th>2</th>\n",
       "      <td>2021</td>\n",
       "      <td>1</td>\n",
       "      <td>1</td>\n",
       "      <td>0</td>\n",
       "      <td>2</td>\n",
       "      <td>2021-01-01 00:00:00</td>\n",
       "      <td>0.147441</td>\n",
       "      <td>1</td>\n",
       "      <td>0</td>\n",
       "      <td>0</td>\n",
       "      <td>0.011628</td>\n",
       "      <td>0.506243</td>\n",
       "      <td>0.544554</td>\n",
       "      <td>0.184211</td>\n",
       "      <td>0.003377</td>\n",
       "      <td>3</td>\n",
       "      <td>1</td>\n",
       "    </tr>\n",
       "    <tr>\n",
       "      <th>3</th>\n",
       "      <td>2021</td>\n",
       "      <td>1</td>\n",
       "      <td>1</td>\n",
       "      <td>0</td>\n",
       "      <td>3</td>\n",
       "      <td>2021-01-01 00:00:00</td>\n",
       "      <td>0.363457</td>\n",
       "      <td>1</td>\n",
       "      <td>0</td>\n",
       "      <td>0</td>\n",
       "      <td>0.011628</td>\n",
       "      <td>0.530079</td>\n",
       "      <td>0.524752</td>\n",
       "      <td>0.166667</td>\n",
       "      <td>0.007983</td>\n",
       "      <td>3</td>\n",
       "      <td>1</td>\n",
       "    </tr>\n",
       "    <tr>\n",
       "      <th>4</th>\n",
       "      <td>2021</td>\n",
       "      <td>1</td>\n",
       "      <td>1</td>\n",
       "      <td>0</td>\n",
       "      <td>4</td>\n",
       "      <td>2021-01-01 00:00:00</td>\n",
       "      <td>0.311272</td>\n",
       "      <td>1</td>\n",
       "      <td>0</td>\n",
       "      <td>0</td>\n",
       "      <td>0.011628</td>\n",
       "      <td>0.539160</td>\n",
       "      <td>0.504950</td>\n",
       "      <td>0.166667</td>\n",
       "      <td>0.005527</td>\n",
       "      <td>18</td>\n",
       "      <td>1</td>\n",
       "    </tr>\n",
       "    <tr>\n",
       "      <th>...</th>\n",
       "      <td>...</td>\n",
       "      <td>...</td>\n",
       "      <td>...</td>\n",
       "      <td>...</td>\n",
       "      <td>...</td>\n",
       "      <td>...</td>\n",
       "      <td>...</td>\n",
       "      <td>...</td>\n",
       "      <td>...</td>\n",
       "      <td>...</td>\n",
       "      <td>...</td>\n",
       "      <td>...</td>\n",
       "      <td>...</td>\n",
       "      <td>...</td>\n",
       "      <td>...</td>\n",
       "      <td>...</td>\n",
       "      <td>...</td>\n",
       "    </tr>\n",
       "    <tr>\n",
       "      <th>662781</th>\n",
       "      <td>2024</td>\n",
       "      <td>12</td>\n",
       "      <td>31</td>\n",
       "      <td>23</td>\n",
       "      <td>14</td>\n",
       "      <td>2024-12-31 23:00:00</td>\n",
       "      <td>0.527703</td>\n",
       "      <td>1</td>\n",
       "      <td>0</td>\n",
       "      <td>0</td>\n",
       "      <td>0.011628</td>\n",
       "      <td>0.573212</td>\n",
       "      <td>0.613861</td>\n",
       "      <td>0.201754</td>\n",
       "      <td>0.035002</td>\n",
       "      <td>37</td>\n",
       "      <td>0</td>\n",
       "    </tr>\n",
       "    <tr>\n",
       "      <th>662782</th>\n",
       "      <td>2024</td>\n",
       "      <td>12</td>\n",
       "      <td>31</td>\n",
       "      <td>23</td>\n",
       "      <td>15</td>\n",
       "      <td>2024-12-31 23:00:00</td>\n",
       "      <td>0.201632</td>\n",
       "      <td>1</td>\n",
       "      <td>0</td>\n",
       "      <td>0</td>\n",
       "      <td>0.011628</td>\n",
       "      <td>0.586833</td>\n",
       "      <td>0.633663</td>\n",
       "      <td>0.245614</td>\n",
       "      <td>0.030703</td>\n",
       "      <td>16</td>\n",
       "      <td>0</td>\n",
       "    </tr>\n",
       "    <tr>\n",
       "      <th>662783</th>\n",
       "      <td>2024</td>\n",
       "      <td>12</td>\n",
       "      <td>31</td>\n",
       "      <td>23</td>\n",
       "      <td>16</td>\n",
       "      <td>2024-12-31 23:00:00</td>\n",
       "      <td>0.242155</td>\n",
       "      <td>1</td>\n",
       "      <td>0</td>\n",
       "      <td>0</td>\n",
       "      <td>0.011628</td>\n",
       "      <td>0.582293</td>\n",
       "      <td>0.623762</td>\n",
       "      <td>0.192982</td>\n",
       "      <td>0.034387</td>\n",
       "      <td>6</td>\n",
       "      <td>0</td>\n",
       "    </tr>\n",
       "    <tr>\n",
       "      <th>662784</th>\n",
       "      <td>2024</td>\n",
       "      <td>12</td>\n",
       "      <td>31</td>\n",
       "      <td>23</td>\n",
       "      <td>17</td>\n",
       "      <td>2024-12-31 23:00:00</td>\n",
       "      <td>0.273448</td>\n",
       "      <td>1</td>\n",
       "      <td>0</td>\n",
       "      <td>0</td>\n",
       "      <td>0.011628</td>\n",
       "      <td>0.570942</td>\n",
       "      <td>0.623762</td>\n",
       "      <td>0.201754</td>\n",
       "      <td>0.010439</td>\n",
       "      <td>5</td>\n",
       "      <td>0</td>\n",
       "    </tr>\n",
       "    <tr>\n",
       "      <th>662785</th>\n",
       "      <td>2024</td>\n",
       "      <td>12</td>\n",
       "      <td>31</td>\n",
       "      <td>23</td>\n",
       "      <td>17</td>\n",
       "      <td>2024-12-31 23:00:00</td>\n",
       "      <td>0.273448</td>\n",
       "      <td>1</td>\n",
       "      <td>0</td>\n",
       "      <td>0</td>\n",
       "      <td>0.011628</td>\n",
       "      <td>0.570942</td>\n",
       "      <td>0.623762</td>\n",
       "      <td>0.201754</td>\n",
       "      <td>0.010439</td>\n",
       "      <td>52</td>\n",
       "      <td>0</td>\n",
       "    </tr>\n",
       "  </tbody>\n",
       "</table>\n",
       "<p>662786 rows × 17 columns</p>\n",
       "</div>"
      ],
      "text/plain": [
       "          연도   월   일   시  행정구                  일시    총생활인구수  계절  출퇴근시간여부  \\\n",
       "0       2021   1   1   0    0 2021-01-01 00:00:00  0.431544   1        0   \n",
       "1       2021   1   1   0    1 2021-01-01 00:00:00  0.342346   1        0   \n",
       "2       2021   1   1   0    2 2021-01-01 00:00:00  0.147441   1        0   \n",
       "3       2021   1   1   0    3 2021-01-01 00:00:00  0.363457   1        0   \n",
       "4       2021   1   1   0    4 2021-01-01 00:00:00  0.311272   1        0   \n",
       "...      ...  ..  ..  ..  ...                 ...       ...  ..      ...   \n",
       "662781  2024  12  31  23   14 2024-12-31 23:00:00  0.527703   1        0   \n",
       "662782  2024  12  31  23   15 2024-12-31 23:00:00  0.201632   1        0   \n",
       "662783  2024  12  31  23   16 2024-12-31 23:00:00  0.242155   1        0   \n",
       "662784  2024  12  31  23   17 2024-12-31 23:00:00  0.273448   1        0   \n",
       "662785  2024  12  31  23   17 2024-12-31 23:00:00  0.273448   1        0   \n",
       "\n",
       "        주말구분        강수        기온        습도        풍속  공공자전거대여량  PM대여량  공휴일  \n",
       "0          0  0.011628  0.519864  0.594059  0.210526  0.002456     24    1  \n",
       "1          0  0.011628  0.492622  0.603960  0.210526  0.003377     21    1  \n",
       "2          0  0.011628  0.506243  0.544554  0.184211  0.003377      3    1  \n",
       "3          0  0.011628  0.530079  0.524752  0.166667  0.007983      3    1  \n",
       "4          0  0.011628  0.539160  0.504950  0.166667  0.005527     18    1  \n",
       "...      ...       ...       ...       ...       ...       ...    ...  ...  \n",
       "662781     0  0.011628  0.573212  0.613861  0.201754  0.035002     37    0  \n",
       "662782     0  0.011628  0.586833  0.633663  0.245614  0.030703     16    0  \n",
       "662783     0  0.011628  0.582293  0.623762  0.192982  0.034387      6    0  \n",
       "662784     0  0.011628  0.570942  0.623762  0.201754  0.010439      5    0  \n",
       "662785     0  0.011628  0.570942  0.623762  0.201754  0.010439     52    0  \n",
       "\n",
       "[662786 rows x 17 columns]"
      ]
     },
     "execution_count": 26,
     "metadata": {},
     "output_type": "execute_result"
    }
   ],
   "source": [
    "from sklearn.preprocessing import MinMaxScaler\n",
    "scaler = MinMaxScaler()\n",
    "cols_scale = ['총생활인구수', '강수', '기온','습도','풍속','공공자전거대여량'] # 독립변수만\n",
    "df_total[cols_scale] = scaler.fit_transform(df_total[cols_scale].values)\n",
    "df_total"
   ]
  },
  {
   "cell_type": "code",
   "execution_count": 27,
   "id": "b3f246a6",
   "metadata": {},
   "outputs": [],
   "source": [
    "# 1. 1년 전 '연도', '월', '일', '시' 컬럼 생성\n",
    "df_total['1년전_연도'] = df_total['연도'] - 1\n",
    "\n",
    "# 2. merge용 key 생성\n",
    "merge_cols = ['행정구', '1년전_연도', '월', '일', '시']\n",
    "df_total['merge_key'] = df_total['행정구'].astype(str) + '_' + (df_total['연도']-1).astype(str) + '_' + df_total['월'].astype(str) + '_' + df_total['일'].astype(str) + '_' + df_total['시'].astype(str)\n",
    "\n",
    "df_total['now_key'] = df_total['행정구'].astype(str) + '_' + df_total['연도'].astype(str) + '_' + df_total['월'].astype(str) + '_' + df_total['일'].astype(str) + '_' + df_total['시'].astype(str)\n",
    "\n",
    "df_yearago = df_total[['now_key', '총생활인구수', 'PM대여량']].copy()\n",
    "df_yearago.columns = ['merge_key', '1년전_총생활인구수', '1년전_PM대여량']\n",
    "\n",
    "df_total = df_total.merge(df_yearago, on='merge_key', how='left')\n",
    "df_total = df_total.dropna().drop(['merge_key', 'now_key','1년전_연도'],axis=1)"
   ]
  },
  {
   "cell_type": "markdown",
   "id": "ca25a7f5",
   "metadata": {},
   "source": [
    "# 타겟변수 범주화"
   ]
  },
  {
   "cell_type": "markdown",
   "id": "c7cfccdb",
   "metadata": {},
   "source": [
    "## 범주 기준 clustering"
   ]
  },
  {
   "cell_type": "code",
   "execution_count": 19,
   "id": "4a57f00c",
   "metadata": {},
   "outputs": [
    {
     "name": "stdout",
     "output_type": "stream",
     "text": [
      "타겟변수 최대값 : 167\n",
      "타겟변수 최소값 : 3\n",
      "타겟변수 평균 : 28.435073610833772\n",
      "타겟변수 표준편차 : 24.659611717346884\n"
     ]
    },
    {
     "data": {
      "text/plain": [
       "count    550870.000000\n",
       "mean         28.435074\n",
       "std          24.659612\n",
       "min           3.000000\n",
       "25%           9.000000\n",
       "50%          22.000000\n",
       "75%          39.000000\n",
       "max         167.000000\n",
       "Name: PM대여량, dtype: float64"
      ]
     },
     "metadata": {},
     "output_type": "display_data"
    }
   ],
   "source": [
    "print('타겟변수 최대값 :',df_total['PM대여량'].max())\n",
    "print('타겟변수 최소값 :',df_total['PM대여량'].min())\n",
    "print('타겟변수 평균 :',df_total['PM대여량'].mean())\n",
    "print('타겟변수 표준편차 :',df_total['PM대여량'].std())\n",
    "display(df_total['PM대여량'].describe())"
   ]
  },
  {
   "cell_type": "markdown",
   "id": "baf9089e",
   "metadata": {},
   "source": [
    "### cluster용 샘플 데이터 1.\n",
    "- 50개 단위로 끊어서 시계열 유지"
   ]
  },
  {
   "cell_type": "code",
   "execution_count": 20,
   "id": "c46b46a8",
   "metadata": {},
   "outputs": [
    {
     "data": {
      "text/plain": [
       "(11018, 19)"
      ]
     },
     "execution_count": 20,
     "metadata": {},
     "output_type": "execute_result"
    }
   ],
   "source": [
    "sample_data = df_total[::50]\n",
    "sample_data.shape"
   ]
  },
  {
   "cell_type": "code",
   "execution_count": 22,
   "id": "3270d81c",
   "metadata": {},
   "outputs": [
    {
     "name": "stdout",
     "output_type": "stream",
     "text": [
      "클러스트수 : 2, 실루엣 계수 : 0.5034152029287449\n",
      "클러스트수 : 3, 실루엣 계수 : 0.35829080766409677\n",
      "클러스트수 : 4, 실루엣 계수 : 0.2928090306335364\n",
      "클러스트수 : 5, 실루엣 계수 : 0.25021259315453737\n",
      "클러스트수 : 6, 실루엣 계수 : 0.24037891458352895\n",
      "클러스트수 : 7, 실루엣 계수 : 0.23465306470953057\n",
      "클러스트수 : 8, 실루엣 계수 : 0.2252786575537092\n",
      "클러스트수 : 9, 실루엣 계수 : 0.21832308531956343\n"
     ]
    }
   ],
   "source": [
    "from sklearn.cluster import KMeans\n",
    "from sklearn.metrics import silhouette_score\n",
    "\n",
    "for n_clusters in range(2,10) :\n",
    "    cluster = KMeans(n_clusters=n_clusters,\n",
    "                  n_init = 10,)\n",
    "    cluster.fit(sample_data[['연도','월','일','시','행정구','총생활인구수','계절','출퇴근시간여부','주말구분','강수','기온','습도','풍속','공공자전거대여량','공휴일','1년전_총생활인구수','1년전_PM대여량']].values)\n",
    "    pred = cluster.labels_\n",
    "    score = silhouette_score(X = sample_data[['연도','월','일','시','행정구','총생활인구수','계절','출퇴근시간여부','주말구분','강수','기온','습도','풍속','공공자전거대여량','공휴일','1년전_총생활인구수','1년전_PM대여량']],\n",
    "                            labels = pred)\n",
    "    print(f\"클러스트수 : {n_clusters}, 실루엣 계수 : {score}\")"
   ]
  },
  {
   "cell_type": "markdown",
   "id": "6c3a30f6",
   "metadata": {},
   "source": [
    "### cluster용 샘플 데이터 2.\n",
    "- 1개월 단위로 샘플링\n",
    "- 연단위의 경우 데이터의 과다(18만개)로 메모리 이슈 발생"
   ]
  },
  {
   "cell_type": "code",
   "execution_count": 23,
   "id": "5267c01d",
   "metadata": {},
   "outputs": [],
   "source": [
    "del sample_data"
   ]
  },
  {
   "cell_type": "code",
   "execution_count": 24,
   "id": "dcbc3f15",
   "metadata": {},
   "outputs": [
    {
     "data": {
      "text/plain": [
       "(47221, 19)"
      ]
     },
     "execution_count": 24,
     "metadata": {},
     "output_type": "execute_result"
    }
   ],
   "source": [
    "sample_data = df_total[df_total['월']==7]\n",
    "sample_data.shape"
   ]
  },
  {
   "cell_type": "code",
   "execution_count": 25,
   "id": "7b7b07c0",
   "metadata": {},
   "outputs": [
    {
     "name": "stdout",
     "output_type": "stream",
     "text": [
      "클러스트수 : 2, 실루엣 계수 : 0.50380245956795\n",
      "클러스트수 : 3, 실루엣 계수 : 0.3571750579350531\n",
      "클러스트수 : 4, 실루엣 계수 : 0.31127190214918143\n",
      "클러스트수 : 5, 실루엣 계수 : 0.2703939030900694\n",
      "클러스트수 : 6, 실루엣 계수 : 0.27035878459618323\n",
      "클러스트수 : 7, 실루엣 계수 : 0.26017600961164794\n",
      "클러스트수 : 8, 실루엣 계수 : 0.25187154305100445\n",
      "클러스트수 : 9, 실루엣 계수 : 0.244388411222825\n"
     ]
    }
   ],
   "source": [
    "for n_clusters in range(2,10) :\n",
    "    cluster = KMeans(n_clusters=n_clusters,\n",
    "                  n_init = 10,)\n",
    "    cluster.fit(sample_data[['연도','월','일','시','행정구','총생활인구수','계절','출퇴근시간여부','주말구분','강수','기온','습도','풍속','공공자전거대여량','공휴일','1년전_총생활인구수','1년전_PM대여량']].values)\n",
    "    pred = cluster.labels_\n",
    "    score = silhouette_score(X = sample_data[['연도','월','일','시','행정구','총생활인구수','계절','출퇴근시간여부','주말구분','강수','기온','습도','풍속','공공자전거대여량','공휴일','1년전_총생활인구수','1년전_PM대여량']],\n",
    "                            labels = pred)\n",
    "    print(f\"클러스트수 : {n_clusters}, 실루엣 계수 : {score}\")"
   ]
  },
  {
   "cell_type": "markdown",
   "id": "8ccb6726",
   "metadata": {},
   "source": [
    "### cluster용 샘플 데이터 3.\n",
    "- 1년 단위로 샘플링\n",
    "- feature 축소를 통해 메모리 부족 해소"
   ]
  },
  {
   "cell_type": "code",
   "execution_count": 26,
   "id": "1df0b12d",
   "metadata": {},
   "outputs": [],
   "source": [
    "del sample_data"
   ]
  },
  {
   "cell_type": "code",
   "execution_count": 27,
   "id": "8fec865e",
   "metadata": {},
   "outputs": [
    {
     "data": {
      "text/plain": [
       "(47221, 19)"
      ]
     },
     "execution_count": 27,
     "metadata": {},
     "output_type": "execute_result"
    }
   ],
   "source": [
    "sample_data = df_total[df_total['월']==7]\n",
    "sample_data.shape"
   ]
  },
  {
   "cell_type": "code",
   "execution_count": 28,
   "id": "f1f99320",
   "metadata": {},
   "outputs": [
    {
     "name": "stdout",
     "output_type": "stream",
     "text": [
      "클러스트수 : 2, 실루엣 계수 : 0.5020230718545858\n",
      "클러스트수 : 3, 실루엣 계수 : 0.3587312000312493\n",
      "클러스트수 : 4, 실루엣 계수 : 0.3121305262017013\n",
      "클러스트수 : 5, 실루엣 계수 : 0.2713132441876673\n",
      "클러스트수 : 6, 실루엣 계수 : 0.2714484744987242\n",
      "클러스트수 : 7, 실루엣 계수 : 0.2613360692833384\n",
      "클러스트수 : 8, 실루엣 계수 : 0.2532321690074345\n",
      "클러스트수 : 9, 실루엣 계수 : 0.2457243502992503\n"
     ]
    }
   ],
   "source": [
    "for n_clusters in range(2,10) :\n",
    "    cluster = KMeans(n_clusters=n_clusters,\n",
    "                  n_init = 10,)\n",
    "    input_data = sample_data[['연도','월','일','시','행정구','총생활인구수','강수','기온','습도','풍속','공공자전거대여량','1년전_총생활인구수','1년전_PM대여량']].values\n",
    "    cluster.fit(input_data)\n",
    "    pred = cluster.labels_\n",
    "    score = silhouette_score(X = input_data,\n",
    "                            labels = pred)\n",
    "    print(f\"클러스트수 : {n_clusters}, 실루엣 계수 : {score}\")"
   ]
  },
  {
   "cell_type": "markdown",
   "id": "7967cb1d",
   "metadata": {},
   "source": [
    "# 실루엣 계수 분석\n",
    "```\n",
    "count    550870.000000\n",
    "mean         28.435074\n",
    "std          24.659612\n",
    "min           3.000000\n",
    "25%           9.000000\n",
    "50%          22.000000\n",
    "75%          39.000000\n",
    "max         167.000000\n",
    "```\n",
    "- cluster가 2~3 개일 때 실루엣계수가 가장 높으나\n",
    "- 실질적으로 PM을 재배치하기에 구간을 분배하기 위한 조건으로는 부족함.\n",
    "- 평균이 28이고 Q3가 39인 것을 고려하여 수동 bin 배분이 필요하다고 사료됨.\n",
    "- 범주는 4분위 수와 편차를 기준으로 아래와 같이 구분하여 학습\n",
    "    * 0~9 공급과다 \n",
    "    * 9~39 공급평균 \n",
    "    * 39 ~ 65 공급다소부족\n",
    "    * 65 ~ 90 공급부족\n",
    "    * 90 + 공급절대 부족 5개 구간으로 분리"
   ]
  },
  {
   "cell_type": "code",
   "execution_count": 28,
   "id": "49f91dd1",
   "metadata": {},
   "outputs": [
    {
     "name": "stdout",
     "output_type": "stream",
     "text": [
      "공급평균      282760\n",
      "공급과다      126135\n",
      "공급다소부족     87145\n",
      "공급부족       38002\n",
      "공급절대부족     16828\n",
      "Name: PM대여량_class, dtype: int64\n"
     ]
    },
    {
     "data": {
      "image/png": "[encoded data removed]",
      "text/plain": [
       "<Figure size 640x480 with 1 Axes>"
      ]
     },
     "metadata": {},
     "output_type": "display_data"
    }
   ],
   "source": [
    "import numpy as np\n",
    "import pandas as pd\n",
    "# 타겟변수 범주화\n",
    "bins = [0, 9, 39, 65, 90, np.inf]\n",
    "num_bins = len(bins)\n",
    "labels = ['공급과다', '공급평균', '공급다소부족', '공급부족', '공급절대부족']\n",
    "\n",
    "# 'PM대여량'을 구간화해서 범주 label로 변환\n",
    "df_total['PM대여량_class'] = pd.cut(\n",
    "    df_total['PM대여량'],\n",
    "    bins=bins,\n",
    "    labels=labels,\n",
    "    right=False  # 9, 39, 65, 90은 각 구간의 시작값 포함, 끝값은 미포함\n",
    ")\n",
    "\n",
    "# 결과 확인\n",
    "print(df_total['PM대여량_class'].value_counts())\n",
    "\n",
    "df_total['PM대여량_class'].value_counts(sort=False).plot(kind='bar')\n",
    "plt.title('대여량 클래스별 샘플수 (qcut)')\n",
    "plt.xlabel('대여량 클래스 index')\n",
    "plt.ylabel('샘플 수')\n",
    "plt.show()"
   ]
  },
  {
   "cell_type": "markdown",
   "id": "cd116df4",
   "metadata": {},
   "source": [
    "## 데이터의 불균형이 발생하였으나 절대적인 data의 수가 부족하진 않다고 생각하여 학습 진행"
   ]
  },
  {
   "cell_type": "code",
   "execution_count": 29,
   "id": "4831c713",
   "metadata": {},
   "outputs": [
    {
     "data": {
      "text/html": [
       "<div>\n",
       "<style scoped>\n",
       "    .dataframe tbody tr th:only-of-type {\n",
       "        vertical-align: middle;\n",
       "    }\n",
       "\n",
       "    .dataframe tbody tr th {\n",
       "        vertical-align: top;\n",
       "    }\n",
       "\n",
       "    .dataframe thead th {\n",
       "        text-align: right;\n",
       "    }\n",
       "</style>\n",
       "<table border=\"1\" class=\"dataframe\">\n",
       "  <thead>\n",
       "    <tr style=\"text-align: right;\">\n",
       "      <th></th>\n",
       "      <th>연도</th>\n",
       "      <th>월</th>\n",
       "      <th>일</th>\n",
       "      <th>시</th>\n",
       "      <th>행정구</th>\n",
       "      <th>일시</th>\n",
       "      <th>총생활인구수</th>\n",
       "      <th>계절</th>\n",
       "      <th>출퇴근시간여부</th>\n",
       "      <th>주말구분</th>\n",
       "      <th>강수</th>\n",
       "      <th>기온</th>\n",
       "      <th>습도</th>\n",
       "      <th>풍속</th>\n",
       "      <th>공공자전거대여량</th>\n",
       "      <th>PM대여량</th>\n",
       "      <th>공휴일</th>\n",
       "      <th>1년전_총생활인구수</th>\n",
       "      <th>1년전_PM대여량</th>\n",
       "      <th>PM대여량_class</th>\n",
       "    </tr>\n",
       "  </thead>\n",
       "  <tbody>\n",
       "    <tr>\n",
       "      <th>165265</th>\n",
       "      <td>2022</td>\n",
       "      <td>1</td>\n",
       "      <td>1</td>\n",
       "      <td>0</td>\n",
       "      <td>0</td>\n",
       "      <td>2022-01-01 00:00:00</td>\n",
       "      <td>0.434509</td>\n",
       "      <td>1</td>\n",
       "      <td>0</td>\n",
       "      <td>1</td>\n",
       "      <td>0.011628</td>\n",
       "      <td>0.527809</td>\n",
       "      <td>0.366337</td>\n",
       "      <td>0.210526</td>\n",
       "      <td>0.001228</td>\n",
       "      <td>33</td>\n",
       "      <td>0</td>\n",
       "      <td>0.431544</td>\n",
       "      <td>24.0</td>\n",
       "      <td>공급평균</td>\n",
       "    </tr>\n",
       "    <tr>\n",
       "      <th>165266</th>\n",
       "      <td>2022</td>\n",
       "      <td>1</td>\n",
       "      <td>1</td>\n",
       "      <td>0</td>\n",
       "      <td>1</td>\n",
       "      <td>2022-01-01 00:00:00</td>\n",
       "      <td>0.342358</td>\n",
       "      <td>1</td>\n",
       "      <td>0</td>\n",
       "      <td>1</td>\n",
       "      <td>0.011628</td>\n",
       "      <td>0.493757</td>\n",
       "      <td>0.405941</td>\n",
       "      <td>0.192982</td>\n",
       "      <td>0.007062</td>\n",
       "      <td>25</td>\n",
       "      <td>0</td>\n",
       "      <td>0.342346</td>\n",
       "      <td>21.0</td>\n",
       "      <td>공급평균</td>\n",
       "    </tr>\n",
       "    <tr>\n",
       "      <th>165267</th>\n",
       "      <td>2022</td>\n",
       "      <td>1</td>\n",
       "      <td>1</td>\n",
       "      <td>0</td>\n",
       "      <td>2</td>\n",
       "      <td>2022-01-01 00:00:00</td>\n",
       "      <td>0.136425</td>\n",
       "      <td>1</td>\n",
       "      <td>0</td>\n",
       "      <td>1</td>\n",
       "      <td>0.011628</td>\n",
       "      <td>0.496027</td>\n",
       "      <td>0.396040</td>\n",
       "      <td>0.157895</td>\n",
       "      <td>0.002763</td>\n",
       "      <td>5</td>\n",
       "      <td>0</td>\n",
       "      <td>0.147441</td>\n",
       "      <td>3.0</td>\n",
       "      <td>공급과다</td>\n",
       "    </tr>\n",
       "    <tr>\n",
       "      <th>165268</th>\n",
       "      <td>2022</td>\n",
       "      <td>1</td>\n",
       "      <td>1</td>\n",
       "      <td>0</td>\n",
       "      <td>3</td>\n",
       "      <td>2022-01-01 00:00:00</td>\n",
       "      <td>0.355300</td>\n",
       "      <td>1</td>\n",
       "      <td>0</td>\n",
       "      <td>1</td>\n",
       "      <td>0.011628</td>\n",
       "      <td>0.517594</td>\n",
       "      <td>0.336634</td>\n",
       "      <td>0.219298</td>\n",
       "      <td>0.017808</td>\n",
       "      <td>4</td>\n",
       "      <td>0</td>\n",
       "      <td>0.363457</td>\n",
       "      <td>3.0</td>\n",
       "      <td>공급과다</td>\n",
       "    </tr>\n",
       "    <tr>\n",
       "      <th>165269</th>\n",
       "      <td>2022</td>\n",
       "      <td>1</td>\n",
       "      <td>1</td>\n",
       "      <td>0</td>\n",
       "      <td>4</td>\n",
       "      <td>2022-01-01 00:00:00</td>\n",
       "      <td>0.292608</td>\n",
       "      <td>1</td>\n",
       "      <td>0</td>\n",
       "      <td>1</td>\n",
       "      <td>0.011628</td>\n",
       "      <td>0.499432</td>\n",
       "      <td>0.326733</td>\n",
       "      <td>0.245614</td>\n",
       "      <td>0.007676</td>\n",
       "      <td>20</td>\n",
       "      <td>0</td>\n",
       "      <td>0.311272</td>\n",
       "      <td>18.0</td>\n",
       "      <td>공급평균</td>\n",
       "    </tr>\n",
       "    <tr>\n",
       "      <th>...</th>\n",
       "      <td>...</td>\n",
       "      <td>...</td>\n",
       "      <td>...</td>\n",
       "      <td>...</td>\n",
       "      <td>...</td>\n",
       "      <td>...</td>\n",
       "      <td>...</td>\n",
       "      <td>...</td>\n",
       "      <td>...</td>\n",
       "      <td>...</td>\n",
       "      <td>...</td>\n",
       "      <td>...</td>\n",
       "      <td>...</td>\n",
       "      <td>...</td>\n",
       "      <td>...</td>\n",
       "      <td>...</td>\n",
       "      <td>...</td>\n",
       "      <td>...</td>\n",
       "      <td>...</td>\n",
       "      <td>...</td>\n",
       "    </tr>\n",
       "    <tr>\n",
       "      <th>718226</th>\n",
       "      <td>2024</td>\n",
       "      <td>12</td>\n",
       "      <td>31</td>\n",
       "      <td>23</td>\n",
       "      <td>16</td>\n",
       "      <td>2024-12-31 23:00:00</td>\n",
       "      <td>0.242155</td>\n",
       "      <td>1</td>\n",
       "      <td>0</td>\n",
       "      <td>0</td>\n",
       "      <td>0.011628</td>\n",
       "      <td>0.582293</td>\n",
       "      <td>0.623762</td>\n",
       "      <td>0.192982</td>\n",
       "      <td>0.034387</td>\n",
       "      <td>6</td>\n",
       "      <td>0</td>\n",
       "      <td>0.229339</td>\n",
       "      <td>7.0</td>\n",
       "      <td>공급과다</td>\n",
       "    </tr>\n",
       "    <tr>\n",
       "      <th>718227</th>\n",
       "      <td>2024</td>\n",
       "      <td>12</td>\n",
       "      <td>31</td>\n",
       "      <td>23</td>\n",
       "      <td>17</td>\n",
       "      <td>2024-12-31 23:00:00</td>\n",
       "      <td>0.273448</td>\n",
       "      <td>1</td>\n",
       "      <td>0</td>\n",
       "      <td>0</td>\n",
       "      <td>0.011628</td>\n",
       "      <td>0.570942</td>\n",
       "      <td>0.623762</td>\n",
       "      <td>0.201754</td>\n",
       "      <td>0.010439</td>\n",
       "      <td>5</td>\n",
       "      <td>0</td>\n",
       "      <td>0.270446</td>\n",
       "      <td>7.0</td>\n",
       "      <td>공급과다</td>\n",
       "    </tr>\n",
       "    <tr>\n",
       "      <th>718228</th>\n",
       "      <td>2024</td>\n",
       "      <td>12</td>\n",
       "      <td>31</td>\n",
       "      <td>23</td>\n",
       "      <td>17</td>\n",
       "      <td>2024-12-31 23:00:00</td>\n",
       "      <td>0.273448</td>\n",
       "      <td>1</td>\n",
       "      <td>0</td>\n",
       "      <td>0</td>\n",
       "      <td>0.011628</td>\n",
       "      <td>0.570942</td>\n",
       "      <td>0.623762</td>\n",
       "      <td>0.201754</td>\n",
       "      <td>0.010439</td>\n",
       "      <td>5</td>\n",
       "      <td>0</td>\n",
       "      <td>0.270446</td>\n",
       "      <td>65.0</td>\n",
       "      <td>공급과다</td>\n",
       "    </tr>\n",
       "    <tr>\n",
       "      <th>718229</th>\n",
       "      <td>2024</td>\n",
       "      <td>12</td>\n",
       "      <td>31</td>\n",
       "      <td>23</td>\n",
       "      <td>17</td>\n",
       "      <td>2024-12-31 23:00:00</td>\n",
       "      <td>0.273448</td>\n",
       "      <td>1</td>\n",
       "      <td>0</td>\n",
       "      <td>0</td>\n",
       "      <td>0.011628</td>\n",
       "      <td>0.570942</td>\n",
       "      <td>0.623762</td>\n",
       "      <td>0.201754</td>\n",
       "      <td>0.010439</td>\n",
       "      <td>52</td>\n",
       "      <td>0</td>\n",
       "      <td>0.270446</td>\n",
       "      <td>7.0</td>\n",
       "      <td>공급다소부족</td>\n",
       "    </tr>\n",
       "    <tr>\n",
       "      <th>718230</th>\n",
       "      <td>2024</td>\n",
       "      <td>12</td>\n",
       "      <td>31</td>\n",
       "      <td>23</td>\n",
       "      <td>17</td>\n",
       "      <td>2024-12-31 23:00:00</td>\n",
       "      <td>0.273448</td>\n",
       "      <td>1</td>\n",
       "      <td>0</td>\n",
       "      <td>0</td>\n",
       "      <td>0.011628</td>\n",
       "      <td>0.570942</td>\n",
       "      <td>0.623762</td>\n",
       "      <td>0.201754</td>\n",
       "      <td>0.010439</td>\n",
       "      <td>52</td>\n",
       "      <td>0</td>\n",
       "      <td>0.270446</td>\n",
       "      <td>65.0</td>\n",
       "      <td>공급다소부족</td>\n",
       "    </tr>\n",
       "  </tbody>\n",
       "</table>\n",
       "<p>550870 rows × 20 columns</p>\n",
       "</div>"
      ],
      "text/plain": [
       "          연도   월   일   시  행정구                  일시    총생활인구수  계절  출퇴근시간여부  \\\n",
       "165265  2022   1   1   0    0 2022-01-01 00:00:00  0.434509   1        0   \n",
       "165266  2022   1   1   0    1 2022-01-01 00:00:00  0.342358   1        0   \n",
       "165267  2022   1   1   0    2 2022-01-01 00:00:00  0.136425   1        0   \n",
       "165268  2022   1   1   0    3 2022-01-01 00:00:00  0.355300   1        0   \n",
       "165269  2022   1   1   0    4 2022-01-01 00:00:00  0.292608   1        0   \n",
       "...      ...  ..  ..  ..  ...                 ...       ...  ..      ...   \n",
       "718226  2024  12  31  23   16 2024-12-31 23:00:00  0.242155   1        0   \n",
       "718227  2024  12  31  23   17 2024-12-31 23:00:00  0.273448   1        0   \n",
       "718228  2024  12  31  23   17 2024-12-31 23:00:00  0.273448   1        0   \n",
       "718229  2024  12  31  23   17 2024-12-31 23:00:00  0.273448   1        0   \n",
       "718230  2024  12  31  23   17 2024-12-31 23:00:00  0.273448   1        0   \n",
       "\n",
       "        주말구분        강수        기온        습도        풍속  공공자전거대여량  PM대여량  공휴일  \\\n",
       "165265     1  0.011628  0.527809  0.366337  0.210526  0.001228     33    0   \n",
       "165266     1  0.011628  0.493757  0.405941  0.192982  0.007062     25    0   \n",
       "165267     1  0.011628  0.496027  0.396040  0.157895  0.002763      5    0   \n",
       "165268     1  0.011628  0.517594  0.336634  0.219298  0.017808      4    0   \n",
       "165269     1  0.011628  0.499432  0.326733  0.245614  0.007676     20    0   \n",
       "...      ...       ...       ...       ...       ...       ...    ...  ...   \n",
       "718226     0  0.011628  0.582293  0.623762  0.192982  0.034387      6    0   \n",
       "718227     0  0.011628  0.570942  0.623762  0.201754  0.010439      5    0   \n",
       "718228     0  0.011628  0.570942  0.623762  0.201754  0.010439      5    0   \n",
       "718229     0  0.011628  0.570942  0.623762  0.201754  0.010439     52    0   \n",
       "718230     0  0.011628  0.570942  0.623762  0.201754  0.010439     52    0   \n",
       "\n",
       "        1년전_총생활인구수  1년전_PM대여량 PM대여량_class  \n",
       "165265    0.431544       24.0        공급평균  \n",
       "165266    0.342346       21.0        공급평균  \n",
       "165267    0.147441        3.0        공급과다  \n",
       "165268    0.363457        3.0        공급과다  \n",
       "165269    0.311272       18.0        공급평균  \n",
       "...            ...        ...         ...  \n",
       "718226    0.229339        7.0        공급과다  \n",
       "718227    0.270446        7.0        공급과다  \n",
       "718228    0.270446       65.0        공급과다  \n",
       "718229    0.270446        7.0      공급다소부족  \n",
       "718230    0.270446       65.0      공급다소부족  \n",
       "\n",
       "[550870 rows x 20 columns]"
      ]
     },
     "execution_count": 29,
     "metadata": {},
     "output_type": "execute_result"
    }
   ],
   "source": [
    "df_total"
   ]
  },
  {
   "cell_type": "markdown",
   "id": "2d037713",
   "metadata": {},
   "source": [
    "# 타겟변수 라벨인코딩"
   ]
  },
  {
   "cell_type": "code",
   "execution_count": 30,
   "id": "0d4f0cd5",
   "metadata": {},
   "outputs": [
    {
     "data": {
      "text/plain": [
       "165265    4\n",
       "165266    4\n",
       "165267    0\n",
       "165268    0\n",
       "165269    4\n",
       "         ..\n",
       "718226    0\n",
       "718227    0\n",
       "718228    0\n",
       "718229    1\n",
       "718230    1\n",
       "Name: PM대여량_class, Length: 550870, dtype: int32"
      ]
     },
     "execution_count": 30,
     "metadata": {},
     "output_type": "execute_result"
    }
   ],
   "source": [
    "from sklearn.preprocessing import LabelEncoder\n",
    "le_target = LabelEncoder()\n",
    "df_total['PM대여량_class'] = le_target.fit_transform(df_total['PM대여량_class'].values)\n",
    "df_total['PM대여량_class']"
   ]
  },
  {
   "cell_type": "markdown",
   "id": "3be0bbe4",
   "metadata": {},
   "source": [
    "# feature 선정 "
   ]
  },
  {
   "cell_type": "markdown",
   "id": "17f39b8f",
   "metadata": {},
   "source": [
    "## 상관계수 체크"
   ]
  },
  {
   "cell_type": "code",
   "execution_count": 31,
   "id": "2c6ae22d",
   "metadata": {},
   "outputs": [
    {
     "data": {
      "text/plain": [
       "PM대여량          1.000000\n",
       "1년전_PM대여량      0.579309\n",
       "1년전_총생활인구수     0.326858\n",
       "총생활인구수         0.322036\n",
       "출퇴근시간여부        0.169530\n",
       "시              0.153159\n",
       "주말구분           0.145724\n",
       "공공자전거대여량       0.093070\n",
       "습도             0.086837\n",
       "기온             0.083839\n",
       "행정구            0.067721\n",
       "월              0.044868\n",
       "PM대여량_class    0.039231\n",
       "계절             0.008641\n",
       "강수             0.003174\n",
       "일              0.001796\n",
       "공휴일           -0.001834\n",
       "연도            -0.002853\n",
       "풍속            -0.108760\n",
       "Name: PM대여량, dtype: float64"
      ]
     },
     "execution_count": 31,
     "metadata": {},
     "output_type": "execute_result"
    }
   ],
   "source": [
    "import pandas as pd\n",
    "corrs = df_total.corr(numeric_only=True)\n",
    "corrs['PM대여량'].sort_values(ascending=False)  # 타겟과의 상관계수"
   ]
  },
  {
   "cell_type": "code",
   "execution_count": 32,
   "id": "074d3979",
   "metadata": {},
   "outputs": [
    {
     "data": {
      "image/png": "[encoded data removed]",
      "text/plain": [
       "<Figure size 1200x1000 with 2 Axes>"
      ]
     },
     "metadata": {},
     "output_type": "display_data"
    }
   ],
   "source": [
    "import seaborn as sns\n",
    "import matplotlib.pyplot as plt\n",
    "plt.rc('font',family = 'Malgun Gothic')\n",
    "plt.rcParams['axes.unicode_minus'] = False\n",
    "\n",
    "mask = np.triu(np.ones_like(corrs, dtype=bool), k=1)\n",
    "plt.figure(figsize=(12,10))\n",
    "sns.heatmap(corrs, annot=True,mask=mask, fmt='.2f', cmap='RdBu_r', vmin=-1, vmax=1)\n",
    "plt.title('Feature 간 상관계수 히트맵')\n",
    "plt.show()"
   ]
  },
  {
   "cell_type": "markdown",
   "id": "f1f34c17",
   "metadata": {},
   "source": [
    "## 상관계수 분석\n",
    "- 목표 accuracy 75% + 공급절대부족에서 평균 이하 분류 수를 줄이기 목표(DNN에서 10%)"
   ]
  },
  {
   "cell_type": "code",
   "execution_count": 34,
   "id": "f518d502",
   "metadata": {},
   "outputs": [
    {
     "data": {
      "text/plain": [
       "Index(['PM대여량', '1년전_PM대여량', '1년전_총생활인구수', '총생활인구수', '출퇴근시간여부', '시', '주말구분',\n",
       "       '풍속', '공공자전거대여량', '습도', '기온', '행정구', '월', 'PM대여량_class', '계절', '강수',\n",
       "       '연도', '공휴일', '일'],\n",
       "      dtype='object')"
      ]
     },
     "execution_count": 34,
     "metadata": {},
     "output_type": "execute_result"
    }
   ],
   "source": [
    "corrs['PM대여량'].sort_values(ascending=False).index # 결과에 따라 상관계수가 0에 가까운 순으로 제외 예정\n",
    "sorted_idx = np.abs(corrs)['PM대여량'].sort_values(ascending=False).index\n",
    "sorted_idx"
   ]
  },
  {
   "cell_type": "markdown",
   "id": "ebaed40b",
   "metadata": {},
   "source": [
    "## 데이터 독립변수, 종속변수 분리"
   ]
  },
  {
   "cell_type": "code",
   "execution_count": 36,
   "id": "9191832d",
   "metadata": {},
   "outputs": [
    {
     "data": {
      "text/plain": [
       "((366582, 17),\n",
       " (366582, 1),\n",
       " (183602, 17),\n",
       " (183602, 1),\n",
       " (184288, 17),\n",
       " (184288, 1))"
      ]
     },
     "execution_count": 36,
     "metadata": {},
     "output_type": "execute_result"
    }
   ],
   "source": [
    "# 독립변수, 종속변수 분리용\n",
    "# 1차 시도 ['연도','월','일','시','행정구','총생활인구수','계절','출퇴근시간여부','주말구분','강수','기온','습도','풍속','공공자전거대여량','공휴일','1년전_총생활인구수','1년전_PM대여량']\n",
    "\n",
    "# train_set, val_set, test_set\n",
    "cols_X = ['연도','월','일','시','행정구','총생활인구수','계절','출퇴근시간여부','주말구분','강수','기온','습도','풍속','공공자전거대여량','공휴일','1년전_총생활인구수','1년전_PM대여량']\n",
    "cols_y = ['PM대여량_class']\n",
    "train_set = df_total[df_total['연도']<2024]\n",
    "val_set = df_total[df_total['연도']==2023]\n",
    "test_set = df_total[df_total['연도']==2024]\n",
    "\n",
    "train_X = train_set[cols_X]\n",
    "val_X = val_set[cols_X]\n",
    "test_X = test_set[cols_X]\n",
    "\n",
    "train_y = train_set[cols_y].values\n",
    "val_y = val_set[cols_y].values\n",
    "test_y = test_set[cols_y].values\n",
    "\n",
    "train_X.shape, train_y.shape, val_X.shape, val_y.shape, test_X.shape, test_y.shape"
   ]
  },
  {
   "cell_type": "markdown",
   "id": "2e2bcd56",
   "metadata": {},
   "source": [
    "# 모델 설계"
   ]
  },
  {
   "cell_type": "code",
   "execution_count": 47,
   "id": "e7ca2e2c",
   "metadata": {},
   "outputs": [],
   "source": [
    "from catboost import CatBoostClassifier\n",
    "from sklearn.metrics import accuracy_score, classification_report, confusion_matrix, recall_score, precision_score, f1_score"
   ]
  },
  {
   "cell_type": "code",
   "execution_count": 75,
   "id": "0508fa16",
   "metadata": {
    "scrolled": true
   },
   "outputs": [],
   "source": [
    "from sklearn.utils.class_weight import compute_class_weight\n",
    "classes = np.unique(train_y)\n",
    "class_weights = compute_class_weight(class_weight='balanced', classes=classes, y=train_y.ravel())\n",
    "class_weights_dict = dict(zip(classes, class_weights))\n",
    "cat = CatBoostClassifier(\n",
    "    iterations=my_epochs,\n",
    "    learning_rate=my_learning_rate,\n",
    "    depth=my_depth,\n",
    "    verbose=50,          # 50번마다 log 출력, 조정 가능\n",
    "    class_weights=class_weights_dict,  # 불균형 데이터 자동 조정\n",
    "    eval_metric=\"Accuracy\"\n",
    ")"
   ]
  },
  {
   "cell_type": "markdown",
   "id": "ea9d753b",
   "metadata": {},
   "source": [
    "# 모델 학습"
   ]
  },
  {
   "cell_type": "code",
   "execution_count": 76,
   "id": "7bcd719c",
   "metadata": {},
   "outputs": [
    {
     "name": "stdout",
     "output_type": "stream",
     "text": [
      "0:\tlearn: 0.7767143\ttest: 0.7751885\tbest: 0.7751885 (0)\ttotal: 363ms\tremaining: 1m 12s\n",
      "Stopped by overfitting detector  (20 iterations wait)\n",
      "\n",
      "bestTest = 0.7977333528\n",
      "bestIteration = 5\n",
      "\n",
      "Shrink model to first 6 iterations.\n"
     ]
    },
    {
     "data": {
      "text/plain": [
       "<catboost.core.CatBoostClassifier at 0x246469301c0>"
      ]
     },
     "execution_count": 76,
     "metadata": {},
     "output_type": "execute_result"
    }
   ],
   "source": [
    "cat.fit(train_X, train_y.ravel(), \n",
    "        eval_set=(val_X, val_y.ravel()), \n",
    "        early_stopping_rounds=20)"
   ]
  },
  {
   "cell_type": "markdown",
   "id": "205bc93b",
   "metadata": {},
   "source": [
    "# feature importance 시각화"
   ]
  },
  {
   "cell_type": "code",
   "execution_count": 82,
   "id": "e0c8a4fc",
   "metadata": {},
   "outputs": [
    {
     "data": {
      "image/png": "[encoded data removed]",
      "text/plain": [
       "<Figure size 1000x600 with 1 Axes>"
      ]
     },
     "metadata": {},
     "output_type": "display_data"
    }
   ],
   "source": [
    "feat_imp_cat = cat.feature_importances_\n",
    "sorted_idx = np.argsort(feat_imp_cat)[::-1]\n",
    "plt.figure(figsize=(10,6))\n",
    "plt.barh(np.array(cols_X)[sorted_idx][:15], feat_imp_cat[sorted_idx][:15])\n",
    "plt.gca().invert_yaxis()\n",
    "plt.title(\"CatBoost Feature Importance (Top 15)\")\n",
    "plt.show()"
   ]
  },
  {
   "cell_type": "markdown",
   "id": "70086d13",
   "metadata": {},
   "source": [
    "# 학습과정 시각화"
   ]
  },
  {
   "cell_type": "code",
   "execution_count": 83,
   "id": "d2194189",
   "metadata": {},
   "outputs": [
    {
     "name": "stdout",
     "output_type": "stream",
     "text": [
      "dict_keys(['learn', 'validation'])\n",
      "dict_keys(['Accuracy', 'MultiClass'])\n",
      "dict_keys(['Accuracy', 'MultiClass'])\n"
     ]
    }
   ],
   "source": [
    "print(evals_result.keys())       # 보통 ['learn', 'validation']\n",
    "print(evals_result['learn'].keys())    # 보통 ['MultiClass', 'Accuracy']\n",
    "print(evals_result['validation'].keys())"
   ]
  },
  {
   "cell_type": "code",
   "execution_count": 85,
   "id": "07786cee",
   "metadata": {},
   "outputs": [
    {
     "data": {
      "image/png": "[encoded data removed]",
      "text/plain": [
       "<Figure size 1000x500 with 2 Axes>"
      ]
     },
     "metadata": {},
     "output_type": "display_data"
    }
   ],
   "source": [
    "evals_result = cat.evals_result_\n",
    "fig, ax1 = plt.subplots(figsize=(10,5))\n",
    "ax1.plot(evals_result['learn']['MultiClass'], label='Train Loss')\n",
    "ax1.plot(evals_result['validation']['MultiClass'], label='Val Loss')\n",
    "ax1.set_xlabel('Iteration')\n",
    "ax1.set_ylabel('MultiClass LogLoss')\n",
    "ax1.legend(loc=(0.8,0.8))\n",
    "\n",
    "ax2 = ax1.twinx()\n",
    "ax2.plot(evals_result['learn']['Accuracy'], label='Train Accuracy')\n",
    "ax2.plot(evals_result['validation']['Accuracy'], label='Val Accuracy')\n",
    "ax2.set_ylabel('Accuracy')\n",
    "ax2.legend(loc=(0.8,0.6))\n",
    "plt.title('CatBoost')\n",
    "plt.show()"
   ]
  },
  {
   "cell_type": "markdown",
   "id": "154c078b",
   "metadata": {},
   "source": [
    "# 모델의 평가"
   ]
  },
  {
   "cell_type": "code",
   "execution_count": 87,
   "id": "8d9af31f",
   "metadata": {},
   "outputs": [],
   "source": [
    "y_pred = cat.predict(test_X)"
   ]
  },
  {
   "cell_type": "code",
   "execution_count": 88,
   "id": "c42ef55c",
   "metadata": {},
   "outputs": [
    {
     "name": "stdout",
     "output_type": "stream",
     "text": [
      "accuracy : 0.75 %\n",
      "precision : 0.8 %\n",
      "recall : 0.75 %\n",
      "f1_score : 0.76 %\n"
     ]
    }
   ],
   "source": [
    "from sklearn.metrics import precision_score, recall_score, f1_score\n",
    "print('accuracy :',round(accuracy_score(test_y, y_pred),2), '%')\n",
    "print('precision :',round(precision_score(test_y,y_pred,average='weighted'),2), '%')\n",
    "print('recall :',round(recall_score(test_y,y_pred,average='weighted'),2), '%')\n",
    "print('f1_score :',round(f1_score(test_y,y_pred,average='weighted'),2), '%')"
   ]
  },
  {
   "cell_type": "code",
   "execution_count": 92,
   "id": "9d89d50f",
   "metadata": {},
   "outputs": [
    {
     "data": {
      "text/plain": [
       "array([[4],\n",
       "       [4],\n",
       "       [0],\n",
       "       ...,\n",
       "       [0],\n",
       "       [1],\n",
       "       [1]])"
      ]
     },
     "execution_count": 92,
     "metadata": {},
     "output_type": "execute_result"
    }
   ],
   "source": [
    "test_y"
   ]
  },
  {
   "cell_type": "code",
   "execution_count": 93,
   "id": "819e2da2",
   "metadata": {
    "scrolled": true
   },
   "outputs": [
    {
     "data": {
      "text/html": [
       "<div>\n",
       "<style scoped>\n",
       "    .dataframe tbody tr th:only-of-type {\n",
       "        vertical-align: middle;\n",
       "    }\n",
       "\n",
       "    .dataframe tbody tr th {\n",
       "        vertical-align: top;\n",
       "    }\n",
       "\n",
       "    .dataframe thead th {\n",
       "        text-align: right;\n",
       "    }\n",
       "</style>\n",
       "<table border=\"1\" class=\"dataframe\">\n",
       "  <thead>\n",
       "    <tr style=\"text-align: right;\">\n",
       "      <th>예측값</th>\n",
       "      <th>0</th>\n",
       "      <th>1</th>\n",
       "      <th>2</th>\n",
       "      <th>3</th>\n",
       "      <th>4</th>\n",
       "    </tr>\n",
       "    <tr>\n",
       "      <th>실제값</th>\n",
       "      <th></th>\n",
       "      <th></th>\n",
       "      <th></th>\n",
       "      <th></th>\n",
       "      <th></th>\n",
       "    </tr>\n",
       "  </thead>\n",
       "  <tbody>\n",
       "    <tr>\n",
       "      <th>0</th>\n",
       "      <td>28535</td>\n",
       "      <td>4162</td>\n",
       "      <td>5180</td>\n",
       "      <td>358</td>\n",
       "      <td>4194</td>\n",
       "    </tr>\n",
       "    <tr>\n",
       "      <th>1</th>\n",
       "      <td>161</td>\n",
       "      <td>21872</td>\n",
       "      <td>3836</td>\n",
       "      <td>37</td>\n",
       "      <td>3176</td>\n",
       "    </tr>\n",
       "    <tr>\n",
       "      <th>2</th>\n",
       "      <td>0</td>\n",
       "      <td>2463</td>\n",
       "      <td>8787</td>\n",
       "      <td>1323</td>\n",
       "      <td>0</td>\n",
       "    </tr>\n",
       "    <tr>\n",
       "      <th>3</th>\n",
       "      <td>0</td>\n",
       "      <td>1</td>\n",
       "      <td>556</td>\n",
       "      <td>5104</td>\n",
       "      <td>0</td>\n",
       "    </tr>\n",
       "    <tr>\n",
       "      <th>4</th>\n",
       "      <td>4188</td>\n",
       "      <td>9483</td>\n",
       "      <td>1820</td>\n",
       "      <td>5108</td>\n",
       "      <td>73944</td>\n",
       "    </tr>\n",
       "  </tbody>\n",
       "</table>\n",
       "</div>"
      ],
      "text/plain": [
       "예측값      0      1     2     3      4\n",
       "실제값                                 \n",
       "0    28535   4162  5180   358   4194\n",
       "1      161  21872  3836    37   3176\n",
       "2        0   2463  8787  1323      0\n",
       "3        0      1   556  5104      0\n",
       "4     4188   9483  1820  5108  73944"
      ]
     },
     "metadata": {},
     "output_type": "display_data"
    },
    {
     "data": {
      "image/png": "[encoded data removed]",
      "text/plain": [
       "<Figure size 900x400 with 2 Axes>"
      ]
     },
     "metadata": {},
     "output_type": "display_data"
    }
   ],
   "source": [
    "import seaborn as sns\n",
    "crosstab_y = test_y.reshape(-1)\n",
    "cm_test = pd.crosstab(crosstab_y, y_pred.reshape(-1),rownames=['실제값'],colnames=['예측값'])\n",
    "display(cm_test)\n",
    "plt.figure(figsize=(9,4))\n",
    "sns.heatmap(cm_test.values, annot=True, fmt='d', cmap='Greens')\n",
    "plt.title('Confusion Matrix (Test Set)')\n",
    "plt.xlabel('예측값')\n",
    "plt.ylabel('실제값')\n",
    "plt.show()"
   ]
  },
  {
   "cell_type": "markdown",
   "id": "eeede9a7",
   "metadata": {},
   "source": [
    "## 모델평가 : 원하는 accuracy와 recall, precision, f1_score\n",
    "- 가장 중요한 실제값 4(공급 절대 부족)의 경우 0(공급 과다)로 분류값 또한 양호"
   ]
  },
  {
   "cell_type": "code",
   "execution_count": 94,
   "id": "a26cde32",
   "metadata": {},
   "outputs": [
    {
     "name": "stdout",
     "output_type": "stream",
     "text": [
      "공급절대부족_recall : 78.2 %\n",
      "공급절대부족 판별이 필요한데 공급과다로 분류 : 4.3999999999999995 %\n",
      "공급절대부족 판별이 필요한데 평균으로 분류 : 10.0 %\n",
      "공급절대부족 판별이 필요한데 공급부족으로 분류 : 1.9 %\n",
      "공급절대부족 판별이 필요한데 공급다소부족으로 분류 : 5.4 %\n"
     ]
    }
   ],
   "source": [
    "real_4_predict_value = cm_test.iloc[4,:]\n",
    "print(\"공급절대부족_recall :\",round(real_4_predict_value.iloc[4] / real_4_predict_value.sum(), 3)*100, \"%\")\n",
    "print(\"공급절대부족 판별이 필요한데 공급과다로 분류 :\",round(real_4_predict_value.iloc[0] / real_4_predict_value.sum(), 3)*100, \"%\")\n",
    "print(\"공급절대부족 판별이 필요한데 평균으로 분류 :\",round(real_4_predict_value.iloc[1] / real_4_predict_value.sum(), 3)*100, \"%\")\n",
    "print(\"공급절대부족 판별이 필요한데 공급부족으로 분류 :\",round(real_4_predict_value.iloc[2] / real_4_predict_value.sum(), 3)*100, \"%\")\n",
    "print(\"공급절대부족 판별이 필요한데 공급다소부족으로 분류 :\",round(real_4_predict_value.iloc[3] / real_4_predict_value.sum(), 3)*100, \"%\")"
   ]
  },
  {
   "cell_type": "markdown",
   "id": "d1da766b",
   "metadata": {},
   "source": [
    "## 그러나 RandomForest 모델 대비 모든 수치 부족"
   ]
  },
  {
   "cell_type": "markdown",
   "id": "9bbff979",
   "metadata": {},
   "source": [
    "# 모델 저장"
   ]
  },
  {
   "cell_type": "code",
   "execution_count": 156,
   "id": "f70d793d",
   "metadata": {},
   "outputs": [
    {
     "data": {
      "text/plain": [
       "['M2_ENCODER\\\\타겟변수라벨인코더.pkl']"
      ]
     },
     "execution_count": 156,
     "metadata": {},
     "output_type": "execute_result"
    }
   ],
   "source": [
    "# 모델, 스케일러, 인코더, feature 리스트 저장\n",
    "# pm_gu_list : PM운영 행정구\n",
    "# gu_list : 서울시 전체 행정구\n",
    "# le_season : 계절 라벨인코더\n",
    "# le_commute : 출퇴근시간여부 라벨 인코더\n",
    "# le_gu : 행정구 인코더\n",
    "# scaler : 독립변수 스케일러 / cols_scale = ['총생활인구수', '강수', '기온','습도','풍속','공공자전거대여량']\n",
    "# le_target : 타겟변수 라벨인코더\n",
    "# feature_cols : 상관계수가 10퍼센트 이상의 feature만 사용\n",
    "import joblib\n",
    "joblib.dump(lgbm,'M2_categorical_CatBoost.pkl')\n",
    "joblib.dump(pm_gu_list,'M2_ENCODER\\PM활용행정구리스트.pkl')\n",
    "joblib.dump(gu_list, 'M2_ENCODER\\서울전역행정구리스트.pkl')\n",
    "joblib.dump(le_season, 'M2_ENCODER\\계절라벨인코더.pkl')\n",
    "joblib.dump(le_commute, 'M2_ENCODER\\출퇴근시간여부라벨인코더.pkl')\n",
    "joblib.dump(le_gu, 'M2_ENCODER\\행정구라벨인코더.pkl')\n",
    "joblib.dump(cols_scale, 'M2_ENCODER\\독립변수리스트.pkl')\n",
    "joblib.dump(scaler, 'M2_ENCODER\\독립변수스케일러.pkl')\n",
    "joblib.dump(le_target,'M2_ENCODER\\타겟변수라벨인코더.pkl')"
   ]
  },
  {
   "cell_type": "markdown",
   "id": "d94dc149",
   "metadata": {},
   "source": [
    "# 향후 모델 사용 시 활용 함수"
   ]
  },
  {
   "cell_type": "code",
   "execution_count": 157,
   "id": "3d6e18b3",
   "metadata": {},
   "outputs": [],
   "source": [
    "def class_to_range(pred_class):\n",
    "    ''' 모델 예측 결과를 범주형 결과로 반환하는 함수 '''\n",
    "    labels = ['공급과다', '공급평균', '공급다소부족', '공급부족', '공급절대부족']\n",
    "    pred_class = int(pred_class)\n",
    "    return labels[pred_class]"
   ]
  }
 ],
 "metadata": {
  "kernelspec": {
   "display_name": "ml-dl-nlp",
   "language": "python",
   "name": "ml-dl-nlp"
  },
  "language_info": {
   "codemirror_mode": {
    "name": "ipython",
    "version": 3
   },
   "file_extension": ".py",
   "mimetype": "text/x-python",
   "name": "python",
   "nbconvert_exporter": "python",
   "pygments_lexer": "ipython3",
   "version": "3.9.23"
  },
  "toc": {
   "base_numbering": 1,
   "nav_menu": {},
   "number_sections": true,
   "sideBar": true,
   "skip_h1_title": false,
   "title_cell": "Table of Contents",
   "title_sidebar": "Contents",
   "toc_cell": false,
   "toc_position": {
    "height": "calc(100% - 180px)",
    "left": "10px",
    "top": "150px",
    "width": "234.391px"
   },
   "toc_section_display": true,
   "toc_window_display": true
  }
 },
 "nbformat": 4,
 "nbformat_minor": 5
}
