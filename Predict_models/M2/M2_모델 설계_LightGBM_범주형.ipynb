{
 "cells": [
  {
   "cell_type": "code",
   "execution_count": 1,
   "id": "840e82d9",
   "metadata": {},
   "outputs": [
    {
     "data": {
      "text/html": [
       "\n",
       "<style>\n",
       "div.container{width:86% !important;}\n",
       "div.cell.code_cell.rendered{width:100%;}\n",
       "div.CodeMirror {font-family:Consolas; font-size:12pt;}\n",
       "div.output {font-size:15pt; font-weight:bold;}\n",
       "div.input {font-family:Consolas; font-size:12pt;}\n",
       "div.prompt {min-width:70px;}\n",
       "div#toc-wrapper{padding-top:120px;}\n",
       "div.text_cell_render ul li{font-size:12pt;padding:5px;}\n",
       "table.dataframe{font-size:15px;}\n",
       "</style>\n"
      ],
      "text/plain": [
       "<IPython.core.display.HTML object>"
      ]
     },
     "metadata": {},
     "output_type": "display_data"
    }
   ],
   "source": [
    "from IPython.display import display, HTML\n",
    "display(HTML(\"\"\"\n",
    "<style>\n",
    "div.container{width:86% !important;}\n",
    "div.cell.code_cell.rendered{width:100%;}\n",
    "div.CodeMirror {font-family:Consolas; font-size:12pt;}\n",
    "div.output {font-size:15pt; font-weight:bold;}\n",
    "div.input {font-family:Consolas; font-size:12pt;}\n",
    "div.prompt {min-width:70px;}\n",
    "div#toc-wrapper{padding-top:120px;}\n",
    "div.text_cell_render ul li{font-size:12pt;padding:5px;}\n",
    "table.dataframe{font-size:15px;}\n",
    "</style>\n",
    "\"\"\"))"
   ]
  },
  {
   "cell_type": "code",
   "execution_count": 2,
   "id": "de6d0647",
   "metadata": {},
   "outputs": [],
   "source": [
    "import pymysql\n",
    "from dotenv import load_dotenv\n",
    "import os\n",
    "import pandas as pd\n",
    "from datetime import datetime, timedelta\n",
    "import matplotlib.pyplot as plt\n",
    "from tensorflow.keras.optimizers import Adam\n",
    "plt.rc('font', family = 'Hancom Gothic')"
   ]
  },
  {
   "cell_type": "markdown",
   "id": "153ca4a0",
   "metadata": {},
   "source": [
    "## LightGBM 하이퍼 파라미터 \n",
    "n_estimators: 100~1000 (early_stopping_rounds 함께 사용 권장)\n",
    "\n",
    "learning_rate: 0.01~0.2 (낮출수록 n_estimators를 늘려야 함)\n",
    "\n",
    "max_depth: 5~10 (너무 높이면 과적합)\n",
    "\n",
    "num_leaves: 15~63 (2^max_depth와 연관, 과적합 방지)\n",
    "\n",
    "min_child_samples: 10~50 (샘플이 많을수록 높여야)\n",
    "\n",
    "subsample(또는 bagging_fraction): 0.7~0.9\n",
    "\n",
    "colsample_bytree(또는 feature_fraction): 0.7~0.9\n",
    "\n",
    "class_weight: 'balanced'"
   ]
  },
  {
   "cell_type": "code",
   "execution_count": 3,
   "id": "d7c90df5",
   "metadata": {},
   "outputs": [],
   "source": [
    "# 하이퍼파라미터\n",
    "my_max_depth = 10\n",
    "my_epochs = 1000\n",
    "my_learning_rate =0.001\n",
    "my_optimizer = Adam(learning_rate=my_learning_rate)\n",
    "my_batch_size = 100 # 작게 하면 더 미세하게 학습, 크게 하면 빠르고 덜 세밀\n",
    "my_n_estimators = 3000 # 부스팅 반복 횟수(트리 개수)"
   ]
  },
  {
   "cell_type": "markdown",
   "id": "0c11e4e6",
   "metadata": {},
   "source": [
    "# 데이터 체크"
   ]
  },
  {
   "cell_type": "code",
   "execution_count": 4,
   "id": "2f133a38",
   "metadata": {},
   "outputs": [],
   "source": [
    "load_dotenv()\n",
    "host = os.getenv('host')\n",
    "user = os.getenv('user')\n",
    "password = os.getenv('password')\n",
    "database = os.getenv('database')\n",
    "port = int(os.getenv('port', 3306))\n",
    "\n",
    "query =f\"\"\"\n",
    "    SELECT *\n",
    "    FROM basic_data\"\"\"\n",
    "\n",
    "try:\n",
    "    connection = pymysql.connect(\n",
    "        host=host,\n",
    "        user=user,\n",
    "        password=password,\n",
    "        database=database,\n",
    "        port=port,\n",
    "        charset='utf8mb4',\n",
    "        cursorclass=pymysql.cursors.DictCursor\n",
    "    )\n",
    "    with connection.cursor() as cursor:\n",
    "        cursor.execute(query)\n",
    "        data = cursor.fetchall()\n",
    "        whole_data = pd.DataFrame(data)\n",
    "except Exception as e:\n",
    "    print('에러 발생:', e)\n",
    "finally:\n",
    "    try:\n",
    "        connection.close()\n",
    "    except:\n",
    "        pass"
   ]
  },
  {
   "cell_type": "code",
   "execution_count": 5,
   "id": "55b3a006",
   "metadata": {},
   "outputs": [
    {
     "data": {
      "text/plain": [
       "year                0\n",
       "month               0\n",
       "day                 0\n",
       "hour                0\n",
       "district            0\n",
       "datetime            0\n",
       "total_population    0\n",
       "season              0\n",
       "commute_time        0\n",
       "weekend_flag        0\n",
       "precipitation       0\n",
       "temperature         0\n",
       "humidity            0\n",
       "wind_speed          0\n",
       "rental_count        0\n",
       "dtype: int64"
      ]
     },
     "execution_count": 5,
     "metadata": {},
     "output_type": "execute_result"
    }
   ],
   "source": [
    "whole_data[whole_data['year']!=2025].isna().sum() # 학습에 사용할 데이터 : 21 ~ 24년 데이터, 결측치 X"
   ]
  },
  {
   "cell_type": "code",
   "execution_count": 6,
   "id": "e479c83a",
   "metadata": {},
   "outputs": [],
   "source": [
    "# PM데이터 로드\n",
    "df_pm = pd.read_csv('PM_data/서울시_시간별_PM_배치_2021_2025.csv', parse_dates=['일시'])\n",
    "df_pm.columns =['일시','행정구','PM대여량']"
   ]
  },
  {
   "cell_type": "code",
   "execution_count": 7,
   "id": "06324758",
   "metadata": {},
   "outputs": [
    {
     "data": {
      "text/plain": [
       "일시       0\n",
       "행정구      0\n",
       "PM대여량    0\n",
       "dtype: int64"
      ]
     },
     "execution_count": 7,
     "metadata": {},
     "output_type": "execute_result"
    }
   ],
   "source": [
    "df_pm.isna().sum() # 결측치 0건"
   ]
  },
  {
   "cell_type": "code",
   "execution_count": 8,
   "id": "65079df6",
   "metadata": {},
   "outputs": [],
   "source": [
    "# 데이터 concat\n",
    "whole_data.columns = ['연도','월','일','시','행정구','일시','총생활인구수','계절','출퇴근시간여부','주말구분','강수','기온','습도','풍속','공공자전거대여량']"
   ]
  },
  {
   "cell_type": "code",
   "execution_count": 9,
   "id": "6df7f46d",
   "metadata": {},
   "outputs": [
    {
     "data": {
      "text/plain": [
       "(872093, 15)"
      ]
     },
     "execution_count": 9,
     "metadata": {},
     "output_type": "execute_result"
    }
   ],
   "source": [
    "whole_data = whole_data[whole_data['연도']!=2025]\n",
    "whole_data.shape"
   ]
  },
  {
   "cell_type": "code",
   "execution_count": 10,
   "id": "ffdb460d",
   "metadata": {},
   "outputs": [
    {
     "name": "stdout",
     "output_type": "stream",
     "text": [
      "<class 'pandas.core.frame.DataFrame'>\n",
      "Int64Index: 872093 entries, 0 to 872092\n",
      "Data columns (total 15 columns):\n",
      " #   Column    Non-Null Count   Dtype         \n",
      "---  ------    --------------   -----         \n",
      " 0   연도        872093 non-null  int64         \n",
      " 1   월         872093 non-null  int64         \n",
      " 2   일         872093 non-null  int64         \n",
      " 3   시         872093 non-null  int64         \n",
      " 4   행정구       872093 non-null  object        \n",
      " 5   일시        872093 non-null  datetime64[ns]\n",
      " 6   총생활인구수    872093 non-null  int64         \n",
      " 7   계절        872093 non-null  object        \n",
      " 8   출퇴근시간여부   872093 non-null  object        \n",
      " 9   주말구분      872093 non-null  int64         \n",
      " 10  강수        872093 non-null  float64       \n",
      " 11  기온        872093 non-null  float64       \n",
      " 12  습도        872093 non-null  float64       \n",
      " 13  풍속        872093 non-null  float64       \n",
      " 14  공공자전거대여량  872093 non-null  float64       \n",
      "dtypes: datetime64[ns](1), float64(5), int64(6), object(3)\n",
      "memory usage: 106.5+ MB\n",
      "<class 'pandas.core.frame.DataFrame'>\n",
      "RangeIndex: 832656 entries, 0 to 832655\n",
      "Data columns (total 3 columns):\n",
      " #   Column  Non-Null Count   Dtype         \n",
      "---  ------  --------------   -----         \n",
      " 0   일시      832656 non-null  datetime64[ns]\n",
      " 1   행정구     832656 non-null  object        \n",
      " 2   PM대여량   832656 non-null  int64         \n",
      "dtypes: datetime64[ns](1), int64(1), object(1)\n",
      "memory usage: 19.1+ MB\n"
     ]
    }
   ],
   "source": [
    "whole_data.info()\n",
    "df_pm.info()"
   ]
  },
  {
   "cell_type": "code",
   "execution_count": 11,
   "id": "82f6d3d9",
   "metadata": {},
   "outputs": [
    {
     "data": {
      "text/html": [
       "<div>\n",
       "<style scoped>\n",
       "    .dataframe tbody tr th:only-of-type {\n",
       "        vertical-align: middle;\n",
       "    }\n",
       "\n",
       "    .dataframe tbody tr th {\n",
       "        vertical-align: top;\n",
       "    }\n",
       "\n",
       "    .dataframe thead th {\n",
       "        text-align: right;\n",
       "    }\n",
       "</style>\n",
       "<table border=\"1\" class=\"dataframe\">\n",
       "  <thead>\n",
       "    <tr style=\"text-align: right;\">\n",
       "      <th></th>\n",
       "      <th>연도</th>\n",
       "      <th>월</th>\n",
       "      <th>일</th>\n",
       "      <th>시</th>\n",
       "      <th>행정구</th>\n",
       "      <th>일시</th>\n",
       "      <th>총생활인구수</th>\n",
       "      <th>계절</th>\n",
       "      <th>출퇴근시간여부</th>\n",
       "      <th>주말구분</th>\n",
       "      <th>강수</th>\n",
       "      <th>기온</th>\n",
       "      <th>습도</th>\n",
       "      <th>풍속</th>\n",
       "      <th>공공자전거대여량</th>\n",
       "      <th>PM대여량</th>\n",
       "    </tr>\n",
       "  </thead>\n",
       "  <tbody>\n",
       "    <tr>\n",
       "      <th>0</th>\n",
       "      <td>2021</td>\n",
       "      <td>1</td>\n",
       "      <td>1</td>\n",
       "      <td>0</td>\n",
       "      <td>강남구</td>\n",
       "      <td>2021-01-01 00:00:00</td>\n",
       "      <td>618455</td>\n",
       "      <td>겨울</td>\n",
       "      <td>기타</td>\n",
       "      <td>0</td>\n",
       "      <td>0.0</td>\n",
       "      <td>-4.2</td>\n",
       "      <td>59.0</td>\n",
       "      <td>1.4</td>\n",
       "      <td>9.0</td>\n",
       "      <td>24</td>\n",
       "    </tr>\n",
       "    <tr>\n",
       "      <th>1</th>\n",
       "      <td>2021</td>\n",
       "      <td>1</td>\n",
       "      <td>1</td>\n",
       "      <td>0</td>\n",
       "      <td>강동구</td>\n",
       "      <td>2021-01-01 00:00:00</td>\n",
       "      <td>525221</td>\n",
       "      <td>겨울</td>\n",
       "      <td>기타</td>\n",
       "      <td>0</td>\n",
       "      <td>0.0</td>\n",
       "      <td>-6.6</td>\n",
       "      <td>60.0</td>\n",
       "      <td>1.4</td>\n",
       "      <td>12.0</td>\n",
       "      <td>21</td>\n",
       "    </tr>\n",
       "    <tr>\n",
       "      <th>2</th>\n",
       "      <td>2021</td>\n",
       "      <td>1</td>\n",
       "      <td>1</td>\n",
       "      <td>0</td>\n",
       "      <td>강북구</td>\n",
       "      <td>2021-01-01 00:00:00</td>\n",
       "      <td>321499</td>\n",
       "      <td>겨울</td>\n",
       "      <td>기타</td>\n",
       "      <td>0</td>\n",
       "      <td>0.0</td>\n",
       "      <td>-5.4</td>\n",
       "      <td>54.0</td>\n",
       "      <td>1.1</td>\n",
       "      <td>12.0</td>\n",
       "      <td>3</td>\n",
       "    </tr>\n",
       "    <tr>\n",
       "      <th>3</th>\n",
       "      <td>2021</td>\n",
       "      <td>1</td>\n",
       "      <td>1</td>\n",
       "      <td>0</td>\n",
       "      <td>강서구</td>\n",
       "      <td>2021-01-01 00:00:00</td>\n",
       "      <td>547288</td>\n",
       "      <td>겨울</td>\n",
       "      <td>기타</td>\n",
       "      <td>0</td>\n",
       "      <td>0.0</td>\n",
       "      <td>-3.3</td>\n",
       "      <td>52.0</td>\n",
       "      <td>0.9</td>\n",
       "      <td>27.0</td>\n",
       "      <td>3</td>\n",
       "    </tr>\n",
       "    <tr>\n",
       "      <th>4</th>\n",
       "      <td>2021</td>\n",
       "      <td>1</td>\n",
       "      <td>1</td>\n",
       "      <td>0</td>\n",
       "      <td>관악구</td>\n",
       "      <td>2021-01-01 00:00:00</td>\n",
       "      <td>492742</td>\n",
       "      <td>겨울</td>\n",
       "      <td>기타</td>\n",
       "      <td>0</td>\n",
       "      <td>0.0</td>\n",
       "      <td>-2.5</td>\n",
       "      <td>50.0</td>\n",
       "      <td>0.9</td>\n",
       "      <td>19.0</td>\n",
       "      <td>18</td>\n",
       "    </tr>\n",
       "    <tr>\n",
       "      <th>...</th>\n",
       "      <td>...</td>\n",
       "      <td>...</td>\n",
       "      <td>...</td>\n",
       "      <td>...</td>\n",
       "      <td>...</td>\n",
       "      <td>...</td>\n",
       "      <td>...</td>\n",
       "      <td>...</td>\n",
       "      <td>...</td>\n",
       "      <td>...</td>\n",
       "      <td>...</td>\n",
       "      <td>...</td>\n",
       "      <td>...</td>\n",
       "      <td>...</td>\n",
       "      <td>...</td>\n",
       "      <td>...</td>\n",
       "    </tr>\n",
       "    <tr>\n",
       "      <th>662781</th>\n",
       "      <td>2024</td>\n",
       "      <td>12</td>\n",
       "      <td>31</td>\n",
       "      <td>23</td>\n",
       "      <td>송파구</td>\n",
       "      <td>2024-12-31 23:00:00</td>\n",
       "      <td>718964</td>\n",
       "      <td>겨울</td>\n",
       "      <td>기타</td>\n",
       "      <td>0</td>\n",
       "      <td>0.0</td>\n",
       "      <td>0.5</td>\n",
       "      <td>61.0</td>\n",
       "      <td>1.3</td>\n",
       "      <td>115.0</td>\n",
       "      <td>37</td>\n",
       "    </tr>\n",
       "    <tr>\n",
       "      <th>662782</th>\n",
       "      <td>2024</td>\n",
       "      <td>12</td>\n",
       "      <td>31</td>\n",
       "      <td>23</td>\n",
       "      <td>양천구</td>\n",
       "      <td>2024-12-31 23:00:00</td>\n",
       "      <td>378141</td>\n",
       "      <td>겨울</td>\n",
       "      <td>기타</td>\n",
       "      <td>0</td>\n",
       "      <td>0.0</td>\n",
       "      <td>1.7</td>\n",
       "      <td>63.0</td>\n",
       "      <td>1.8</td>\n",
       "      <td>101.0</td>\n",
       "      <td>16</td>\n",
       "    </tr>\n",
       "    <tr>\n",
       "      <th>662783</th>\n",
       "      <td>2024</td>\n",
       "      <td>12</td>\n",
       "      <td>31</td>\n",
       "      <td>23</td>\n",
       "      <td>영등포구</td>\n",
       "      <td>2024-12-31 23:00:00</td>\n",
       "      <td>420498</td>\n",
       "      <td>겨울</td>\n",
       "      <td>기타</td>\n",
       "      <td>0</td>\n",
       "      <td>0.0</td>\n",
       "      <td>1.3</td>\n",
       "      <td>62.0</td>\n",
       "      <td>1.2</td>\n",
       "      <td>113.0</td>\n",
       "      <td>6</td>\n",
       "    </tr>\n",
       "    <tr>\n",
       "      <th>662784</th>\n",
       "      <td>2024</td>\n",
       "      <td>12</td>\n",
       "      <td>31</td>\n",
       "      <td>23</td>\n",
       "      <td>은평구</td>\n",
       "      <td>2024-12-31 23:00:00</td>\n",
       "      <td>453206</td>\n",
       "      <td>겨울</td>\n",
       "      <td>기타</td>\n",
       "      <td>0</td>\n",
       "      <td>0.0</td>\n",
       "      <td>0.3</td>\n",
       "      <td>62.0</td>\n",
       "      <td>1.3</td>\n",
       "      <td>35.0</td>\n",
       "      <td>5</td>\n",
       "    </tr>\n",
       "    <tr>\n",
       "      <th>662785</th>\n",
       "      <td>2024</td>\n",
       "      <td>12</td>\n",
       "      <td>31</td>\n",
       "      <td>23</td>\n",
       "      <td>은평구</td>\n",
       "      <td>2024-12-31 23:00:00</td>\n",
       "      <td>453206</td>\n",
       "      <td>겨울</td>\n",
       "      <td>기타</td>\n",
       "      <td>0</td>\n",
       "      <td>0.0</td>\n",
       "      <td>0.3</td>\n",
       "      <td>62.0</td>\n",
       "      <td>1.3</td>\n",
       "      <td>35.0</td>\n",
       "      <td>52</td>\n",
       "    </tr>\n",
       "  </tbody>\n",
       "</table>\n",
       "<p>662786 rows × 16 columns</p>\n",
       "</div>"
      ],
      "text/plain": [
       "          연도   월   일   시   행정구                  일시  총생활인구수  계절 출퇴근시간여부  주말구분  \\\n",
       "0       2021   1   1   0   강남구 2021-01-01 00:00:00  618455  겨울      기타     0   \n",
       "1       2021   1   1   0   강동구 2021-01-01 00:00:00  525221  겨울      기타     0   \n",
       "2       2021   1   1   0   강북구 2021-01-01 00:00:00  321499  겨울      기타     0   \n",
       "3       2021   1   1   0   강서구 2021-01-01 00:00:00  547288  겨울      기타     0   \n",
       "4       2021   1   1   0   관악구 2021-01-01 00:00:00  492742  겨울      기타     0   \n",
       "...      ...  ..  ..  ..   ...                 ...     ...  ..     ...   ...   \n",
       "662781  2024  12  31  23   송파구 2024-12-31 23:00:00  718964  겨울      기타     0   \n",
       "662782  2024  12  31  23   양천구 2024-12-31 23:00:00  378141  겨울      기타     0   \n",
       "662783  2024  12  31  23  영등포구 2024-12-31 23:00:00  420498  겨울      기타     0   \n",
       "662784  2024  12  31  23   은평구 2024-12-31 23:00:00  453206  겨울      기타     0   \n",
       "662785  2024  12  31  23   은평구 2024-12-31 23:00:00  453206  겨울      기타     0   \n",
       "\n",
       "         강수   기온    습도   풍속  공공자전거대여량  PM대여량  \n",
       "0       0.0 -4.2  59.0  1.4       9.0     24  \n",
       "1       0.0 -6.6  60.0  1.4      12.0     21  \n",
       "2       0.0 -5.4  54.0  1.1      12.0      3  \n",
       "3       0.0 -3.3  52.0  0.9      27.0      3  \n",
       "4       0.0 -2.5  50.0  0.9      19.0     18  \n",
       "...     ...  ...   ...  ...       ...    ...  \n",
       "662781  0.0  0.5  61.0  1.3     115.0     37  \n",
       "662782  0.0  1.7  63.0  1.8     101.0     16  \n",
       "662783  0.0  1.3  62.0  1.2     113.0      6  \n",
       "662784  0.0  0.3  62.0  1.3      35.0      5  \n",
       "662785  0.0  0.3  62.0  1.3      35.0     52  \n",
       "\n",
       "[662786 rows x 16 columns]"
      ]
     },
     "execution_count": 11,
     "metadata": {},
     "output_type": "execute_result"
    }
   ],
   "source": [
    "df_total = whole_data.merge(df_pm, on=['행정구','일시'])\n",
    "df_total"
   ]
  },
  {
   "cell_type": "code",
   "execution_count": 12,
   "id": "b30af019",
   "metadata": {},
   "outputs": [
    {
     "data": {
      "text/html": [
       "<div>\n",
       "<style scoped>\n",
       "    .dataframe tbody tr th:only-of-type {\n",
       "        vertical-align: middle;\n",
       "    }\n",
       "\n",
       "    .dataframe tbody tr th {\n",
       "        vertical-align: top;\n",
       "    }\n",
       "\n",
       "    .dataframe thead th {\n",
       "        text-align: right;\n",
       "    }\n",
       "</style>\n",
       "<table border=\"1\" class=\"dataframe\">\n",
       "  <thead>\n",
       "    <tr style=\"text-align: right;\">\n",
       "      <th></th>\n",
       "      <th>연도</th>\n",
       "      <th>월</th>\n",
       "      <th>일</th>\n",
       "      <th>시</th>\n",
       "      <th>행정구</th>\n",
       "      <th>일시</th>\n",
       "      <th>총생활인구수</th>\n",
       "      <th>계절</th>\n",
       "      <th>출퇴근시간여부</th>\n",
       "      <th>주말구분</th>\n",
       "      <th>강수</th>\n",
       "      <th>기온</th>\n",
       "      <th>습도</th>\n",
       "      <th>풍속</th>\n",
       "      <th>공공자전거대여량</th>\n",
       "      <th>PM대여량</th>\n",
       "    </tr>\n",
       "  </thead>\n",
       "  <tbody>\n",
       "  </tbody>\n",
       "</table>\n",
       "</div>"
      ],
      "text/plain": [
       "Empty DataFrame\n",
       "Columns: [연도, 월, 일, 시, 행정구, 일시, 총생활인구수, 계절, 출퇴근시간여부, 주말구분, 강수, 기온, 습도, 풍속, 공공자전거대여량, PM대여량]\n",
       "Index: []"
      ]
     },
     "execution_count": 12,
     "metadata": {},
     "output_type": "execute_result"
    }
   ],
   "source": [
    "df_total[df_total.isna().any(axis=1)]"
   ]
  },
  {
   "cell_type": "code",
   "execution_count": 13,
   "id": "8da2ea6c",
   "metadata": {},
   "outputs": [],
   "source": [
    "# feature 추출\n",
    "# 시계열 요소\n",
    "import holidays\n",
    "kr_holidays = holidays.KR(years=[2021, 2024])\n",
    "df_total['공휴일'] = df_total['일시'].dt.date.isin(kr_holidays).astype(int)\n",
    "# df_total\n",
    "cols_time = ['연도','월','일','시','계절','출퇴근시간여부','주말구분','공휴일']"
   ]
  },
  {
   "cell_type": "markdown",
   "id": "1fcf32a5",
   "metadata": {},
   "source": [
    "# 라벨인코더"
   ]
  },
  {
   "cell_type": "code",
   "execution_count": 14,
   "id": "faf59336",
   "metadata": {},
   "outputs": [
    {
     "data": {
      "text/html": [
       "<div>\n",
       "<style scoped>\n",
       "    .dataframe tbody tr th:only-of-type {\n",
       "        vertical-align: middle;\n",
       "    }\n",
       "\n",
       "    .dataframe tbody tr th {\n",
       "        vertical-align: top;\n",
       "    }\n",
       "\n",
       "    .dataframe thead th {\n",
       "        text-align: right;\n",
       "    }\n",
       "</style>\n",
       "<table border=\"1\" class=\"dataframe\">\n",
       "  <thead>\n",
       "    <tr style=\"text-align: right;\">\n",
       "      <th></th>\n",
       "      <th>연도</th>\n",
       "      <th>월</th>\n",
       "      <th>일</th>\n",
       "      <th>시</th>\n",
       "      <th>행정구</th>\n",
       "      <th>일시</th>\n",
       "      <th>총생활인구수</th>\n",
       "      <th>계절</th>\n",
       "      <th>출퇴근시간여부</th>\n",
       "      <th>주말구분</th>\n",
       "      <th>강수</th>\n",
       "      <th>기온</th>\n",
       "      <th>습도</th>\n",
       "      <th>풍속</th>\n",
       "      <th>공공자전거대여량</th>\n",
       "      <th>PM대여량</th>\n",
       "      <th>공휴일</th>\n",
       "    </tr>\n",
       "  </thead>\n",
       "  <tbody>\n",
       "    <tr>\n",
       "      <th>0</th>\n",
       "      <td>2021</td>\n",
       "      <td>1</td>\n",
       "      <td>1</td>\n",
       "      <td>0</td>\n",
       "      <td>0</td>\n",
       "      <td>2021-01-01 00:00:00</td>\n",
       "      <td>618455</td>\n",
       "      <td>1</td>\n",
       "      <td>0</td>\n",
       "      <td>0</td>\n",
       "      <td>0.0</td>\n",
       "      <td>-4.2</td>\n",
       "      <td>59.0</td>\n",
       "      <td>1.4</td>\n",
       "      <td>9.0</td>\n",
       "      <td>24</td>\n",
       "      <td>1</td>\n",
       "    </tr>\n",
       "    <tr>\n",
       "      <th>1</th>\n",
       "      <td>2021</td>\n",
       "      <td>1</td>\n",
       "      <td>1</td>\n",
       "      <td>0</td>\n",
       "      <td>1</td>\n",
       "      <td>2021-01-01 00:00:00</td>\n",
       "      <td>525221</td>\n",
       "      <td>1</td>\n",
       "      <td>0</td>\n",
       "      <td>0</td>\n",
       "      <td>0.0</td>\n",
       "      <td>-6.6</td>\n",
       "      <td>60.0</td>\n",
       "      <td>1.4</td>\n",
       "      <td>12.0</td>\n",
       "      <td>21</td>\n",
       "      <td>1</td>\n",
       "    </tr>\n",
       "    <tr>\n",
       "      <th>2</th>\n",
       "      <td>2021</td>\n",
       "      <td>1</td>\n",
       "      <td>1</td>\n",
       "      <td>0</td>\n",
       "      <td>2</td>\n",
       "      <td>2021-01-01 00:00:00</td>\n",
       "      <td>321499</td>\n",
       "      <td>1</td>\n",
       "      <td>0</td>\n",
       "      <td>0</td>\n",
       "      <td>0.0</td>\n",
       "      <td>-5.4</td>\n",
       "      <td>54.0</td>\n",
       "      <td>1.1</td>\n",
       "      <td>12.0</td>\n",
       "      <td>3</td>\n",
       "      <td>1</td>\n",
       "    </tr>\n",
       "    <tr>\n",
       "      <th>3</th>\n",
       "      <td>2021</td>\n",
       "      <td>1</td>\n",
       "      <td>1</td>\n",
       "      <td>0</td>\n",
       "      <td>3</td>\n",
       "      <td>2021-01-01 00:00:00</td>\n",
       "      <td>547288</td>\n",
       "      <td>1</td>\n",
       "      <td>0</td>\n",
       "      <td>0</td>\n",
       "      <td>0.0</td>\n",
       "      <td>-3.3</td>\n",
       "      <td>52.0</td>\n",
       "      <td>0.9</td>\n",
       "      <td>27.0</td>\n",
       "      <td>3</td>\n",
       "      <td>1</td>\n",
       "    </tr>\n",
       "    <tr>\n",
       "      <th>4</th>\n",
       "      <td>2021</td>\n",
       "      <td>1</td>\n",
       "      <td>1</td>\n",
       "      <td>0</td>\n",
       "      <td>4</td>\n",
       "      <td>2021-01-01 00:00:00</td>\n",
       "      <td>492742</td>\n",
       "      <td>1</td>\n",
       "      <td>0</td>\n",
       "      <td>0</td>\n",
       "      <td>0.0</td>\n",
       "      <td>-2.5</td>\n",
       "      <td>50.0</td>\n",
       "      <td>0.9</td>\n",
       "      <td>19.0</td>\n",
       "      <td>18</td>\n",
       "      <td>1</td>\n",
       "    </tr>\n",
       "    <tr>\n",
       "      <th>...</th>\n",
       "      <td>...</td>\n",
       "      <td>...</td>\n",
       "      <td>...</td>\n",
       "      <td>...</td>\n",
       "      <td>...</td>\n",
       "      <td>...</td>\n",
       "      <td>...</td>\n",
       "      <td>...</td>\n",
       "      <td>...</td>\n",
       "      <td>...</td>\n",
       "      <td>...</td>\n",
       "      <td>...</td>\n",
       "      <td>...</td>\n",
       "      <td>...</td>\n",
       "      <td>...</td>\n",
       "      <td>...</td>\n",
       "      <td>...</td>\n",
       "    </tr>\n",
       "    <tr>\n",
       "      <th>662781</th>\n",
       "      <td>2024</td>\n",
       "      <td>12</td>\n",
       "      <td>31</td>\n",
       "      <td>23</td>\n",
       "      <td>14</td>\n",
       "      <td>2024-12-31 23:00:00</td>\n",
       "      <td>718964</td>\n",
       "      <td>1</td>\n",
       "      <td>0</td>\n",
       "      <td>0</td>\n",
       "      <td>0.0</td>\n",
       "      <td>0.5</td>\n",
       "      <td>61.0</td>\n",
       "      <td>1.3</td>\n",
       "      <td>115.0</td>\n",
       "      <td>37</td>\n",
       "      <td>0</td>\n",
       "    </tr>\n",
       "    <tr>\n",
       "      <th>662782</th>\n",
       "      <td>2024</td>\n",
       "      <td>12</td>\n",
       "      <td>31</td>\n",
       "      <td>23</td>\n",
       "      <td>15</td>\n",
       "      <td>2024-12-31 23:00:00</td>\n",
       "      <td>378141</td>\n",
       "      <td>1</td>\n",
       "      <td>0</td>\n",
       "      <td>0</td>\n",
       "      <td>0.0</td>\n",
       "      <td>1.7</td>\n",
       "      <td>63.0</td>\n",
       "      <td>1.8</td>\n",
       "      <td>101.0</td>\n",
       "      <td>16</td>\n",
       "      <td>0</td>\n",
       "    </tr>\n",
       "    <tr>\n",
       "      <th>662783</th>\n",
       "      <td>2024</td>\n",
       "      <td>12</td>\n",
       "      <td>31</td>\n",
       "      <td>23</td>\n",
       "      <td>16</td>\n",
       "      <td>2024-12-31 23:00:00</td>\n",
       "      <td>420498</td>\n",
       "      <td>1</td>\n",
       "      <td>0</td>\n",
       "      <td>0</td>\n",
       "      <td>0.0</td>\n",
       "      <td>1.3</td>\n",
       "      <td>62.0</td>\n",
       "      <td>1.2</td>\n",
       "      <td>113.0</td>\n",
       "      <td>6</td>\n",
       "      <td>0</td>\n",
       "    </tr>\n",
       "    <tr>\n",
       "      <th>662784</th>\n",
       "      <td>2024</td>\n",
       "      <td>12</td>\n",
       "      <td>31</td>\n",
       "      <td>23</td>\n",
       "      <td>17</td>\n",
       "      <td>2024-12-31 23:00:00</td>\n",
       "      <td>453206</td>\n",
       "      <td>1</td>\n",
       "      <td>0</td>\n",
       "      <td>0</td>\n",
       "      <td>0.0</td>\n",
       "      <td>0.3</td>\n",
       "      <td>62.0</td>\n",
       "      <td>1.3</td>\n",
       "      <td>35.0</td>\n",
       "      <td>5</td>\n",
       "      <td>0</td>\n",
       "    </tr>\n",
       "    <tr>\n",
       "      <th>662785</th>\n",
       "      <td>2024</td>\n",
       "      <td>12</td>\n",
       "      <td>31</td>\n",
       "      <td>23</td>\n",
       "      <td>17</td>\n",
       "      <td>2024-12-31 23:00:00</td>\n",
       "      <td>453206</td>\n",
       "      <td>1</td>\n",
       "      <td>0</td>\n",
       "      <td>0</td>\n",
       "      <td>0.0</td>\n",
       "      <td>0.3</td>\n",
       "      <td>62.0</td>\n",
       "      <td>1.3</td>\n",
       "      <td>35.0</td>\n",
       "      <td>52</td>\n",
       "      <td>0</td>\n",
       "    </tr>\n",
       "  </tbody>\n",
       "</table>\n",
       "<p>662786 rows × 17 columns</p>\n",
       "</div>"
      ],
      "text/plain": [
       "          연도   월   일   시  행정구                  일시  총생활인구수  계절  출퇴근시간여부  주말구분  \\\n",
       "0       2021   1   1   0    0 2021-01-01 00:00:00  618455   1        0     0   \n",
       "1       2021   1   1   0    1 2021-01-01 00:00:00  525221   1        0     0   \n",
       "2       2021   1   1   0    2 2021-01-01 00:00:00  321499   1        0     0   \n",
       "3       2021   1   1   0    3 2021-01-01 00:00:00  547288   1        0     0   \n",
       "4       2021   1   1   0    4 2021-01-01 00:00:00  492742   1        0     0   \n",
       "...      ...  ..  ..  ..  ...                 ...     ...  ..      ...   ...   \n",
       "662781  2024  12  31  23   14 2024-12-31 23:00:00  718964   1        0     0   \n",
       "662782  2024  12  31  23   15 2024-12-31 23:00:00  378141   1        0     0   \n",
       "662783  2024  12  31  23   16 2024-12-31 23:00:00  420498   1        0     0   \n",
       "662784  2024  12  31  23   17 2024-12-31 23:00:00  453206   1        0     0   \n",
       "662785  2024  12  31  23   17 2024-12-31 23:00:00  453206   1        0     0   \n",
       "\n",
       "         강수   기온    습도   풍속  공공자전거대여량  PM대여량  공휴일  \n",
       "0       0.0 -4.2  59.0  1.4       9.0     24    1  \n",
       "1       0.0 -6.6  60.0  1.4      12.0     21    1  \n",
       "2       0.0 -5.4  54.0  1.1      12.0      3    1  \n",
       "3       0.0 -3.3  52.0  0.9      27.0      3    1  \n",
       "4       0.0 -2.5  50.0  0.9      19.0     18    1  \n",
       "...     ...  ...   ...  ...       ...    ...  ...  \n",
       "662781  0.0  0.5  61.0  1.3     115.0     37    0  \n",
       "662782  0.0  1.7  63.0  1.8     101.0     16    0  \n",
       "662783  0.0  1.3  62.0  1.2     113.0      6    0  \n",
       "662784  0.0  0.3  62.0  1.3      35.0      5    0  \n",
       "662785  0.0  0.3  62.0  1.3      35.0     52    0  \n",
       "\n",
       "[662786 rows x 17 columns]"
      ]
     },
     "execution_count": 14,
     "metadata": {},
     "output_type": "execute_result"
    }
   ],
   "source": [
    "# 라벨 인코딩\n",
    "from sklearn.preprocessing import LabelEncoder\n",
    "le_season = LabelEncoder()\n",
    "le_commute = LabelEncoder()\n",
    "le_gu = LabelEncoder()\n",
    "df_total['계절'] = le_season.fit_transform(df_total['계절'].values)\n",
    "df_total['출퇴근시간여부'] = le_commute.fit_transform(df_total['출퇴근시간여부'].values)\n",
    "df_total['행정구'] = le_gu.fit_transform(df_total['행정구'].values)\n",
    "df_total"
   ]
  },
  {
   "cell_type": "markdown",
   "id": "5172fded",
   "metadata": {},
   "source": [
    "# PM운영 행정구와 전체 행정구 체크\n",
    "- PM의 경우 서울시에 운영현황을 공유한 회사만 체크"
   ]
  },
  {
   "cell_type": "code",
   "execution_count": 15,
   "id": "85353584",
   "metadata": {},
   "outputs": [],
   "source": [
    "df_total['행정구'].unique()\n",
    "pm_gu_list = le_gu.classes_.tolist()"
   ]
  },
  {
   "cell_type": "code",
   "execution_count": 16,
   "id": "c05d01d4",
   "metadata": {},
   "outputs": [],
   "source": [
    "gu_list = whole_data['행정구'].unique().tolist()"
   ]
  },
  {
   "cell_type": "markdown",
   "id": "85e9ee90",
   "metadata": {},
   "source": [
    "# 스케일 조정\n",
    "- 시계열 내용 time_cols = ['연도','월','일','시','계절','출퇴근시간여부','주말구분','공휴일'] 를 제외 나머지 연속형 데이터 스케일 조정"
   ]
  },
  {
   "cell_type": "code",
   "execution_count": 17,
   "id": "ef25d234",
   "metadata": {},
   "outputs": [
    {
     "data": {
      "text/html": [
       "<div>\n",
       "<style scoped>\n",
       "    .dataframe tbody tr th:only-of-type {\n",
       "        vertical-align: middle;\n",
       "    }\n",
       "\n",
       "    .dataframe tbody tr th {\n",
       "        vertical-align: top;\n",
       "    }\n",
       "\n",
       "    .dataframe thead th {\n",
       "        text-align: right;\n",
       "    }\n",
       "</style>\n",
       "<table border=\"1\" class=\"dataframe\">\n",
       "  <thead>\n",
       "    <tr style=\"text-align: right;\">\n",
       "      <th></th>\n",
       "      <th>연도</th>\n",
       "      <th>월</th>\n",
       "      <th>일</th>\n",
       "      <th>시</th>\n",
       "      <th>행정구</th>\n",
       "      <th>일시</th>\n",
       "      <th>총생활인구수</th>\n",
       "      <th>계절</th>\n",
       "      <th>출퇴근시간여부</th>\n",
       "      <th>주말구분</th>\n",
       "      <th>강수</th>\n",
       "      <th>기온</th>\n",
       "      <th>습도</th>\n",
       "      <th>풍속</th>\n",
       "      <th>공공자전거대여량</th>\n",
       "      <th>PM대여량</th>\n",
       "      <th>공휴일</th>\n",
       "    </tr>\n",
       "  </thead>\n",
       "  <tbody>\n",
       "    <tr>\n",
       "      <th>0</th>\n",
       "      <td>2021</td>\n",
       "      <td>1</td>\n",
       "      <td>1</td>\n",
       "      <td>0</td>\n",
       "      <td>0</td>\n",
       "      <td>2021-01-01 00:00:00</td>\n",
       "      <td>0.431544</td>\n",
       "      <td>1</td>\n",
       "      <td>0</td>\n",
       "      <td>0</td>\n",
       "      <td>0.011628</td>\n",
       "      <td>0.519864</td>\n",
       "      <td>0.594059</td>\n",
       "      <td>0.210526</td>\n",
       "      <td>0.002456</td>\n",
       "      <td>24</td>\n",
       "      <td>1</td>\n",
       "    </tr>\n",
       "    <tr>\n",
       "      <th>1</th>\n",
       "      <td>2021</td>\n",
       "      <td>1</td>\n",
       "      <td>1</td>\n",
       "      <td>0</td>\n",
       "      <td>1</td>\n",
       "      <td>2021-01-01 00:00:00</td>\n",
       "      <td>0.342346</td>\n",
       "      <td>1</td>\n",
       "      <td>0</td>\n",
       "      <td>0</td>\n",
       "      <td>0.011628</td>\n",
       "      <td>0.492622</td>\n",
       "      <td>0.603960</td>\n",
       "      <td>0.210526</td>\n",
       "      <td>0.003377</td>\n",
       "      <td>21</td>\n",
       "      <td>1</td>\n",
       "    </tr>\n",
       "    <tr>\n",
       "      <th>2</th>\n",
       "      <td>2021</td>\n",
       "      <td>1</td>\n",
       "      <td>1</td>\n",
       "      <td>0</td>\n",
       "      <td>2</td>\n",
       "      <td>2021-01-01 00:00:00</td>\n",
       "      <td>0.147441</td>\n",
       "      <td>1</td>\n",
       "      <td>0</td>\n",
       "      <td>0</td>\n",
       "      <td>0.011628</td>\n",
       "      <td>0.506243</td>\n",
       "      <td>0.544554</td>\n",
       "      <td>0.184211</td>\n",
       "      <td>0.003377</td>\n",
       "      <td>3</td>\n",
       "      <td>1</td>\n",
       "    </tr>\n",
       "    <tr>\n",
       "      <th>3</th>\n",
       "      <td>2021</td>\n",
       "      <td>1</td>\n",
       "      <td>1</td>\n",
       "      <td>0</td>\n",
       "      <td>3</td>\n",
       "      <td>2021-01-01 00:00:00</td>\n",
       "      <td>0.363457</td>\n",
       "      <td>1</td>\n",
       "      <td>0</td>\n",
       "      <td>0</td>\n",
       "      <td>0.011628</td>\n",
       "      <td>0.530079</td>\n",
       "      <td>0.524752</td>\n",
       "      <td>0.166667</td>\n",
       "      <td>0.007983</td>\n",
       "      <td>3</td>\n",
       "      <td>1</td>\n",
       "    </tr>\n",
       "    <tr>\n",
       "      <th>4</th>\n",
       "      <td>2021</td>\n",
       "      <td>1</td>\n",
       "      <td>1</td>\n",
       "      <td>0</td>\n",
       "      <td>4</td>\n",
       "      <td>2021-01-01 00:00:00</td>\n",
       "      <td>0.311272</td>\n",
       "      <td>1</td>\n",
       "      <td>0</td>\n",
       "      <td>0</td>\n",
       "      <td>0.011628</td>\n",
       "      <td>0.539160</td>\n",
       "      <td>0.504950</td>\n",
       "      <td>0.166667</td>\n",
       "      <td>0.005527</td>\n",
       "      <td>18</td>\n",
       "      <td>1</td>\n",
       "    </tr>\n",
       "    <tr>\n",
       "      <th>...</th>\n",
       "      <td>...</td>\n",
       "      <td>...</td>\n",
       "      <td>...</td>\n",
       "      <td>...</td>\n",
       "      <td>...</td>\n",
       "      <td>...</td>\n",
       "      <td>...</td>\n",
       "      <td>...</td>\n",
       "      <td>...</td>\n",
       "      <td>...</td>\n",
       "      <td>...</td>\n",
       "      <td>...</td>\n",
       "      <td>...</td>\n",
       "      <td>...</td>\n",
       "      <td>...</td>\n",
       "      <td>...</td>\n",
       "      <td>...</td>\n",
       "    </tr>\n",
       "    <tr>\n",
       "      <th>662781</th>\n",
       "      <td>2024</td>\n",
       "      <td>12</td>\n",
       "      <td>31</td>\n",
       "      <td>23</td>\n",
       "      <td>14</td>\n",
       "      <td>2024-12-31 23:00:00</td>\n",
       "      <td>0.527703</td>\n",
       "      <td>1</td>\n",
       "      <td>0</td>\n",
       "      <td>0</td>\n",
       "      <td>0.011628</td>\n",
       "      <td>0.573212</td>\n",
       "      <td>0.613861</td>\n",
       "      <td>0.201754</td>\n",
       "      <td>0.035002</td>\n",
       "      <td>37</td>\n",
       "      <td>0</td>\n",
       "    </tr>\n",
       "    <tr>\n",
       "      <th>662782</th>\n",
       "      <td>2024</td>\n",
       "      <td>12</td>\n",
       "      <td>31</td>\n",
       "      <td>23</td>\n",
       "      <td>15</td>\n",
       "      <td>2024-12-31 23:00:00</td>\n",
       "      <td>0.201632</td>\n",
       "      <td>1</td>\n",
       "      <td>0</td>\n",
       "      <td>0</td>\n",
       "      <td>0.011628</td>\n",
       "      <td>0.586833</td>\n",
       "      <td>0.633663</td>\n",
       "      <td>0.245614</td>\n",
       "      <td>0.030703</td>\n",
       "      <td>16</td>\n",
       "      <td>0</td>\n",
       "    </tr>\n",
       "    <tr>\n",
       "      <th>662783</th>\n",
       "      <td>2024</td>\n",
       "      <td>12</td>\n",
       "      <td>31</td>\n",
       "      <td>23</td>\n",
       "      <td>16</td>\n",
       "      <td>2024-12-31 23:00:00</td>\n",
       "      <td>0.242155</td>\n",
       "      <td>1</td>\n",
       "      <td>0</td>\n",
       "      <td>0</td>\n",
       "      <td>0.011628</td>\n",
       "      <td>0.582293</td>\n",
       "      <td>0.623762</td>\n",
       "      <td>0.192982</td>\n",
       "      <td>0.034387</td>\n",
       "      <td>6</td>\n",
       "      <td>0</td>\n",
       "    </tr>\n",
       "    <tr>\n",
       "      <th>662784</th>\n",
       "      <td>2024</td>\n",
       "      <td>12</td>\n",
       "      <td>31</td>\n",
       "      <td>23</td>\n",
       "      <td>17</td>\n",
       "      <td>2024-12-31 23:00:00</td>\n",
       "      <td>0.273448</td>\n",
       "      <td>1</td>\n",
       "      <td>0</td>\n",
       "      <td>0</td>\n",
       "      <td>0.011628</td>\n",
       "      <td>0.570942</td>\n",
       "      <td>0.623762</td>\n",
       "      <td>0.201754</td>\n",
       "      <td>0.010439</td>\n",
       "      <td>5</td>\n",
       "      <td>0</td>\n",
       "    </tr>\n",
       "    <tr>\n",
       "      <th>662785</th>\n",
       "      <td>2024</td>\n",
       "      <td>12</td>\n",
       "      <td>31</td>\n",
       "      <td>23</td>\n",
       "      <td>17</td>\n",
       "      <td>2024-12-31 23:00:00</td>\n",
       "      <td>0.273448</td>\n",
       "      <td>1</td>\n",
       "      <td>0</td>\n",
       "      <td>0</td>\n",
       "      <td>0.011628</td>\n",
       "      <td>0.570942</td>\n",
       "      <td>0.623762</td>\n",
       "      <td>0.201754</td>\n",
       "      <td>0.010439</td>\n",
       "      <td>52</td>\n",
       "      <td>0</td>\n",
       "    </tr>\n",
       "  </tbody>\n",
       "</table>\n",
       "<p>662786 rows × 17 columns</p>\n",
       "</div>"
      ],
      "text/plain": [
       "          연도   월   일   시  행정구                  일시    총생활인구수  계절  출퇴근시간여부  \\\n",
       "0       2021   1   1   0    0 2021-01-01 00:00:00  0.431544   1        0   \n",
       "1       2021   1   1   0    1 2021-01-01 00:00:00  0.342346   1        0   \n",
       "2       2021   1   1   0    2 2021-01-01 00:00:00  0.147441   1        0   \n",
       "3       2021   1   1   0    3 2021-01-01 00:00:00  0.363457   1        0   \n",
       "4       2021   1   1   0    4 2021-01-01 00:00:00  0.311272   1        0   \n",
       "...      ...  ..  ..  ..  ...                 ...       ...  ..      ...   \n",
       "662781  2024  12  31  23   14 2024-12-31 23:00:00  0.527703   1        0   \n",
       "662782  2024  12  31  23   15 2024-12-31 23:00:00  0.201632   1        0   \n",
       "662783  2024  12  31  23   16 2024-12-31 23:00:00  0.242155   1        0   \n",
       "662784  2024  12  31  23   17 2024-12-31 23:00:00  0.273448   1        0   \n",
       "662785  2024  12  31  23   17 2024-12-31 23:00:00  0.273448   1        0   \n",
       "\n",
       "        주말구분        강수        기온        습도        풍속  공공자전거대여량  PM대여량  공휴일  \n",
       "0          0  0.011628  0.519864  0.594059  0.210526  0.002456     24    1  \n",
       "1          0  0.011628  0.492622  0.603960  0.210526  0.003377     21    1  \n",
       "2          0  0.011628  0.506243  0.544554  0.184211  0.003377      3    1  \n",
       "3          0  0.011628  0.530079  0.524752  0.166667  0.007983      3    1  \n",
       "4          0  0.011628  0.539160  0.504950  0.166667  0.005527     18    1  \n",
       "...      ...       ...       ...       ...       ...       ...    ...  ...  \n",
       "662781     0  0.011628  0.573212  0.613861  0.201754  0.035002     37    0  \n",
       "662782     0  0.011628  0.586833  0.633663  0.245614  0.030703     16    0  \n",
       "662783     0  0.011628  0.582293  0.623762  0.192982  0.034387      6    0  \n",
       "662784     0  0.011628  0.570942  0.623762  0.201754  0.010439      5    0  \n",
       "662785     0  0.011628  0.570942  0.623762  0.201754  0.010439     52    0  \n",
       "\n",
       "[662786 rows x 17 columns]"
      ]
     },
     "execution_count": 17,
     "metadata": {},
     "output_type": "execute_result"
    }
   ],
   "source": [
    "from sklearn.preprocessing import MinMaxScaler\n",
    "scaler = MinMaxScaler()\n",
    "cols_scale = ['총생활인구수', '강수', '기온','습도','풍속','공공자전거대여량'] # 독립변수만\n",
    "df_total[cols_scale] = scaler.fit_transform(df_total[cols_scale].values)\n",
    "df_total"
   ]
  },
  {
   "cell_type": "code",
   "execution_count": 18,
   "id": "b3f246a6",
   "metadata": {},
   "outputs": [],
   "source": [
    "# 1. 1년 전 '연도', '월', '일', '시' 컬럼 생성\n",
    "df_total['1년전_연도'] = df_total['연도'] - 1\n",
    "\n",
    "# 2. merge용 key 생성\n",
    "merge_cols = ['행정구', '1년전_연도', '월', '일', '시']\n",
    "df_total['merge_key'] = df_total['행정구'].astype(str) + '_' + (df_total['연도']-1).astype(str) + '_' + df_total['월'].astype(str) + '_' + df_total['일'].astype(str) + '_' + df_total['시'].astype(str)\n",
    "\n",
    "df_total['now_key'] = df_total['행정구'].astype(str) + '_' + df_total['연도'].astype(str) + '_' + df_total['월'].astype(str) + '_' + df_total['일'].astype(str) + '_' + df_total['시'].astype(str)\n",
    "\n",
    "df_yearago = df_total[['now_key', '총생활인구수', 'PM대여량']].copy()\n",
    "df_yearago.columns = ['merge_key', '1년전_총생활인구수', '1년전_PM대여량']\n",
    "\n",
    "df_total = df_total.merge(df_yearago, on='merge_key', how='left')\n",
    "df_total = df_total.dropna().drop(['merge_key', 'now_key','1년전_연도'],axis=1)"
   ]
  },
  {
   "cell_type": "markdown",
   "id": "ca25a7f5",
   "metadata": {},
   "source": [
    "# 타겟변수 범주화"
   ]
  },
  {
   "cell_type": "markdown",
   "id": "c7cfccdb",
   "metadata": {},
   "source": [
    "## 범주 기준 clustering"
   ]
  },
  {
   "cell_type": "code",
   "execution_count": 19,
   "id": "4a57f00c",
   "metadata": {},
   "outputs": [
    {
     "name": "stdout",
     "output_type": "stream",
     "text": [
      "타겟변수 최대값 : 167\n",
      "타겟변수 최소값 : 3\n",
      "타겟변수 평균 : 28.435073610833772\n",
      "타겟변수 표준편차 : 24.659611717346884\n"
     ]
    },
    {
     "data": {
      "text/plain": [
       "count    550870.000000\n",
       "mean         28.435074\n",
       "std          24.659612\n",
       "min           3.000000\n",
       "25%           9.000000\n",
       "50%          22.000000\n",
       "75%          39.000000\n",
       "max         167.000000\n",
       "Name: PM대여량, dtype: float64"
      ]
     },
     "metadata": {},
     "output_type": "display_data"
    }
   ],
   "source": [
    "print('타겟변수 최대값 :',df_total['PM대여량'].max())\n",
    "print('타겟변수 최소값 :',df_total['PM대여량'].min())\n",
    "print('타겟변수 평균 :',df_total['PM대여량'].mean())\n",
    "print('타겟변수 표준편차 :',df_total['PM대여량'].std())\n",
    "display(df_total['PM대여량'].describe())"
   ]
  },
  {
   "cell_type": "markdown",
   "id": "baf9089e",
   "metadata": {},
   "source": [
    "### cluster용 샘플 데이터 1.\n",
    "- 50개 단위로 끊어서 시계열 유지"
   ]
  },
  {
   "cell_type": "code",
   "execution_count": 20,
   "id": "c46b46a8",
   "metadata": {},
   "outputs": [
    {
     "data": {
      "text/plain": [
       "(11018, 19)"
      ]
     },
     "execution_count": 20,
     "metadata": {},
     "output_type": "execute_result"
    }
   ],
   "source": [
    "sample_data = df_total[::50]\n",
    "sample_data.shape"
   ]
  },
  {
   "cell_type": "code",
   "execution_count": 21,
   "id": "3270d81c",
   "metadata": {},
   "outputs": [
    {
     "name": "stdout",
     "output_type": "stream",
     "text": [
      "클러스트수 : 2, 실루엣 계수 : 0.5034152029287449\n",
      "클러스트수 : 3, 실루엣 계수 : 0.3583047579596038\n",
      "클러스트수 : 4, 실루엣 계수 : 0.29279424144233024\n",
      "클러스트수 : 5, 실루엣 계수 : 0.25021259315453737\n",
      "클러스트수 : 6, 실루엣 계수 : 0.24068434533573466\n",
      "클러스트수 : 7, 실루엣 계수 : 0.23465457845093024\n",
      "클러스트수 : 8, 실루엣 계수 : 0.2252786575537092\n",
      "클러스트수 : 9, 실루엣 계수 : 0.21844374306775524\n"
     ]
    }
   ],
   "source": [
    "from sklearn.cluster import KMeans\n",
    "from sklearn.metrics import silhouette_score\n",
    "\n",
    "for n_clusters in range(2,10) :\n",
    "    cluster = KMeans(n_clusters=n_clusters,\n",
    "                  n_init = 10,)\n",
    "    cluster.fit(sample_data[['연도','월','일','시','행정구','총생활인구수','계절','출퇴근시간여부','주말구분','강수','기온','습도','풍속','공공자전거대여량','공휴일','1년전_총생활인구수','1년전_PM대여량']].values)\n",
    "    pred = cluster.labels_\n",
    "    score = silhouette_score(X = sample_data[['연도','월','일','시','행정구','총생활인구수','계절','출퇴근시간여부','주말구분','강수','기온','습도','풍속','공공자전거대여량','공휴일','1년전_총생활인구수','1년전_PM대여량']],\n",
    "                            labels = pred)\n",
    "    print(f\"클러스트수 : {n_clusters}, 실루엣 계수 : {score}\")"
   ]
  },
  {
   "cell_type": "markdown",
   "id": "6c3a30f6",
   "metadata": {},
   "source": [
    "### cluster용 샘플 데이터 2.\n",
    "- 1개월 단위로 샘플링\n",
    "- 연단위의 경우 데이터의 과다(18만개)로 메모리 이슈 발생"
   ]
  },
  {
   "cell_type": "code",
   "execution_count": 22,
   "id": "5267c01d",
   "metadata": {},
   "outputs": [],
   "source": [
    "del sample_data"
   ]
  },
  {
   "cell_type": "code",
   "execution_count": 23,
   "id": "dcbc3f15",
   "metadata": {},
   "outputs": [
    {
     "data": {
      "text/plain": [
       "(47221, 19)"
      ]
     },
     "execution_count": 23,
     "metadata": {},
     "output_type": "execute_result"
    }
   ],
   "source": [
    "sample_data = df_total[df_total['월']==7]\n",
    "sample_data.shape"
   ]
  },
  {
   "cell_type": "code",
   "execution_count": 24,
   "id": "7b7b07c0",
   "metadata": {},
   "outputs": [
    {
     "name": "stdout",
     "output_type": "stream",
     "text": [
      "클러스트수 : 2, 실루엣 계수 : 0.5037369891409959\n",
      "클러스트수 : 3, 실루엣 계수 : 0.35717326247876124\n",
      "클러스트수 : 4, 실루엣 계수 : 0.31127190214918593\n",
      "클러스트수 : 5, 실루엣 계수 : 0.27024988100132125\n",
      "클러스트수 : 6, 실루엣 계수 : 0.27029817624260327\n",
      "클러스트수 : 7, 실루엣 계수 : 0.26014358039854896\n",
      "클러스트수 : 8, 실루엣 계수 : 0.25190903330292597\n",
      "클러스트수 : 9, 실루엣 계수 : 0.2444373204039643\n"
     ]
    }
   ],
   "source": [
    "for n_clusters in range(2,10) :\n",
    "    cluster = KMeans(n_clusters=n_clusters,\n",
    "                  n_init = 10,)\n",
    "    cluster.fit(sample_data[['연도','월','일','시','행정구','총생활인구수','계절','출퇴근시간여부','주말구분','강수','기온','습도','풍속','공공자전거대여량','공휴일','1년전_총생활인구수','1년전_PM대여량']].values)\n",
    "    pred = cluster.labels_\n",
    "    score = silhouette_score(X = sample_data[['연도','월','일','시','행정구','총생활인구수','계절','출퇴근시간여부','주말구분','강수','기온','습도','풍속','공공자전거대여량','공휴일','1년전_총생활인구수','1년전_PM대여량']],\n",
    "                            labels = pred)\n",
    "    print(f\"클러스트수 : {n_clusters}, 실루엣 계수 : {score}\")"
   ]
  },
  {
   "cell_type": "markdown",
   "id": "8ccb6726",
   "metadata": {},
   "source": [
    "### cluster용 샘플 데이터 3.\n",
    "- 1년 단위로 샘플링\n",
    "- feature 축소를 통해 메모리 부족 해소"
   ]
  },
  {
   "cell_type": "code",
   "execution_count": 26,
   "id": "1df0b12d",
   "metadata": {},
   "outputs": [],
   "source": [
    "del sample_data"
   ]
  },
  {
   "cell_type": "code",
   "execution_count": 27,
   "id": "8fec865e",
   "metadata": {},
   "outputs": [
    {
     "data": {
      "text/plain": [
       "(47221, 19)"
      ]
     },
     "execution_count": 27,
     "metadata": {},
     "output_type": "execute_result"
    }
   ],
   "source": [
    "sample_data = df_total[df_total['월']==7]\n",
    "sample_data.shape"
   ]
  },
  {
   "cell_type": "code",
   "execution_count": 28,
   "id": "f1f99320",
   "metadata": {},
   "outputs": [
    {
     "name": "stdout",
     "output_type": "stream",
     "text": [
      "클러스트수 : 2, 실루엣 계수 : 0.5020230718545858\n",
      "클러스트수 : 3, 실루엣 계수 : 0.3587312000312493\n",
      "클러스트수 : 4, 실루엣 계수 : 0.3121305262017013\n",
      "클러스트수 : 5, 실루엣 계수 : 0.2713132441876673\n",
      "클러스트수 : 6, 실루엣 계수 : 0.2714484744987242\n",
      "클러스트수 : 7, 실루엣 계수 : 0.2613360692833384\n",
      "클러스트수 : 8, 실루엣 계수 : 0.2532321690074345\n",
      "클러스트수 : 9, 실루엣 계수 : 0.2457243502992503\n"
     ]
    }
   ],
   "source": [
    "for n_clusters in range(2,10) :\n",
    "    cluster = KMeans(n_clusters=n_clusters,\n",
    "                  n_init = 10,)\n",
    "    input_data = sample_data[['연도','월','일','시','행정구','총생활인구수','강수','기온','습도','풍속','공공자전거대여량','1년전_총생활인구수','1년전_PM대여량']].values\n",
    "    cluster.fit(input_data)\n",
    "    pred = cluster.labels_\n",
    "    score = silhouette_score(X = input_data,\n",
    "                            labels = pred)\n",
    "    print(f\"클러스트수 : {n_clusters}, 실루엣 계수 : {score}\")"
   ]
  },
  {
   "cell_type": "markdown",
   "id": "7967cb1d",
   "metadata": {},
   "source": [
    "# 실루엣 계수 분석\n",
    "```\n",
    "count    550870.000000\n",
    "mean         28.435074\n",
    "std          24.659612\n",
    "min           3.000000\n",
    "25%           9.000000\n",
    "50%          22.000000\n",
    "75%          39.000000\n",
    "max         167.000000\n",
    "```\n",
    "- cluster가 2~3 개일 때 실루엣계수가 가장 높으나\n",
    "- 실질적으로 PM을 재배치하기에 구간을 분배하기 위한 조건으로는 부족함.\n",
    "- 평균이 28이고 Q3가 39인 것을 고려하여 수동 bin 배분이 필요하다고 사료됨.\n",
    "- 범주는 4분위 수와 편차를 기준으로 아래와 같이 구분하여 학습\n",
    "    * 0~9 공급과다 \n",
    "    * 9~39 공급평균 \n",
    "    * 39 ~ 65 공급다소부족\n",
    "    * 65 ~ 90 공급부족\n",
    "    * 90 + 공급절대 부족 5개 구간으로 분리"
   ]
  },
  {
   "cell_type": "code",
   "execution_count": 25,
   "id": "49f91dd1",
   "metadata": {},
   "outputs": [
    {
     "name": "stdout",
     "output_type": "stream",
     "text": [
      "공급평균      282760\n",
      "공급과다      126135\n",
      "공급다소부족     87145\n",
      "공급부족       38002\n",
      "공급절대부족     16828\n",
      "Name: PM대여량_class, dtype: int64\n"
     ]
    },
    {
     "data": {
      "image/png": "[encoded data removed]",
      "text/plain": [
       "<Figure size 640x480 with 1 Axes>"
      ]
     },
     "metadata": {},
     "output_type": "display_data"
    }
   ],
   "source": [
    "import numpy as np\n",
    "import pandas as pd\n",
    "# 타겟변수 범주화\n",
    "bins = [0, 9, 39, 65, 90, np.inf]\n",
    "num_bins = len(bins)\n",
    "labels = ['공급과다', '공급평균', '공급다소부족', '공급부족', '공급절대부족']\n",
    "\n",
    "# 'PM대여량'을 구간화해서 범주 label로 변환\n",
    "df_total['PM대여량_class'] = pd.cut(\n",
    "    df_total['PM대여량'],\n",
    "    bins=bins,\n",
    "    labels=labels,\n",
    "    right=False  # 9, 39, 65, 90은 각 구간의 시작값 포함, 끝값은 미포함\n",
    ")\n",
    "\n",
    "# 결과 확인\n",
    "print(df_total['PM대여량_class'].value_counts())\n",
    "\n",
    "df_total['PM대여량_class'].value_counts(sort=False).plot(kind='bar')\n",
    "plt.title('대여량 클래스별 샘플수 (qcut)')\n",
    "plt.xlabel('대여량 클래스 index')\n",
    "plt.ylabel('샘플 수')\n",
    "plt.show()"
   ]
  },
  {
   "cell_type": "markdown",
   "id": "cd116df4",
   "metadata": {},
   "source": [
    "## 데이터의 불균형이 발생하였으나 절대적인 data의 수가 부족하진 않다고 생각하여 학습 진행\n",
    "- 시계열성 데이터로 SMOTE 불가, sampling 위험으로 학습 후 재판단 필요"
   ]
  },
  {
   "cell_type": "code",
   "execution_count": 26,
   "id": "4831c713",
   "metadata": {},
   "outputs": [
    {
     "data": {
      "text/html": [
       "<div>\n",
       "<style scoped>\n",
       "    .dataframe tbody tr th:only-of-type {\n",
       "        vertical-align: middle;\n",
       "    }\n",
       "\n",
       "    .dataframe tbody tr th {\n",
       "        vertical-align: top;\n",
       "    }\n",
       "\n",
       "    .dataframe thead th {\n",
       "        text-align: right;\n",
       "    }\n",
       "</style>\n",
       "<table border=\"1\" class=\"dataframe\">\n",
       "  <thead>\n",
       "    <tr style=\"text-align: right;\">\n",
       "      <th></th>\n",
       "      <th>연도</th>\n",
       "      <th>월</th>\n",
       "      <th>일</th>\n",
       "      <th>시</th>\n",
       "      <th>행정구</th>\n",
       "      <th>일시</th>\n",
       "      <th>총생활인구수</th>\n",
       "      <th>계절</th>\n",
       "      <th>출퇴근시간여부</th>\n",
       "      <th>주말구분</th>\n",
       "      <th>강수</th>\n",
       "      <th>기온</th>\n",
       "      <th>습도</th>\n",
       "      <th>풍속</th>\n",
       "      <th>공공자전거대여량</th>\n",
       "      <th>PM대여량</th>\n",
       "      <th>공휴일</th>\n",
       "      <th>1년전_총생활인구수</th>\n",
       "      <th>1년전_PM대여량</th>\n",
       "      <th>PM대여량_class</th>\n",
       "    </tr>\n",
       "  </thead>\n",
       "  <tbody>\n",
       "    <tr>\n",
       "      <th>165265</th>\n",
       "      <td>2022</td>\n",
       "      <td>1</td>\n",
       "      <td>1</td>\n",
       "      <td>0</td>\n",
       "      <td>0</td>\n",
       "      <td>2022-01-01 00:00:00</td>\n",
       "      <td>0.434509</td>\n",
       "      <td>1</td>\n",
       "      <td>0</td>\n",
       "      <td>1</td>\n",
       "      <td>0.011628</td>\n",
       "      <td>0.527809</td>\n",
       "      <td>0.366337</td>\n",
       "      <td>0.210526</td>\n",
       "      <td>0.001228</td>\n",
       "      <td>33</td>\n",
       "      <td>0</td>\n",
       "      <td>0.431544</td>\n",
       "      <td>24.0</td>\n",
       "      <td>공급평균</td>\n",
       "    </tr>\n",
       "    <tr>\n",
       "      <th>165266</th>\n",
       "      <td>2022</td>\n",
       "      <td>1</td>\n",
       "      <td>1</td>\n",
       "      <td>0</td>\n",
       "      <td>1</td>\n",
       "      <td>2022-01-01 00:00:00</td>\n",
       "      <td>0.342358</td>\n",
       "      <td>1</td>\n",
       "      <td>0</td>\n",
       "      <td>1</td>\n",
       "      <td>0.011628</td>\n",
       "      <td>0.493757</td>\n",
       "      <td>0.405941</td>\n",
       "      <td>0.192982</td>\n",
       "      <td>0.007062</td>\n",
       "      <td>25</td>\n",
       "      <td>0</td>\n",
       "      <td>0.342346</td>\n",
       "      <td>21.0</td>\n",
       "      <td>공급평균</td>\n",
       "    </tr>\n",
       "    <tr>\n",
       "      <th>165267</th>\n",
       "      <td>2022</td>\n",
       "      <td>1</td>\n",
       "      <td>1</td>\n",
       "      <td>0</td>\n",
       "      <td>2</td>\n",
       "      <td>2022-01-01 00:00:00</td>\n",
       "      <td>0.136425</td>\n",
       "      <td>1</td>\n",
       "      <td>0</td>\n",
       "      <td>1</td>\n",
       "      <td>0.011628</td>\n",
       "      <td>0.496027</td>\n",
       "      <td>0.396040</td>\n",
       "      <td>0.157895</td>\n",
       "      <td>0.002763</td>\n",
       "      <td>5</td>\n",
       "      <td>0</td>\n",
       "      <td>0.147441</td>\n",
       "      <td>3.0</td>\n",
       "      <td>공급과다</td>\n",
       "    </tr>\n",
       "    <tr>\n",
       "      <th>165268</th>\n",
       "      <td>2022</td>\n",
       "      <td>1</td>\n",
       "      <td>1</td>\n",
       "      <td>0</td>\n",
       "      <td>3</td>\n",
       "      <td>2022-01-01 00:00:00</td>\n",
       "      <td>0.355300</td>\n",
       "      <td>1</td>\n",
       "      <td>0</td>\n",
       "      <td>1</td>\n",
       "      <td>0.011628</td>\n",
       "      <td>0.517594</td>\n",
       "      <td>0.336634</td>\n",
       "      <td>0.219298</td>\n",
       "      <td>0.017808</td>\n",
       "      <td>4</td>\n",
       "      <td>0</td>\n",
       "      <td>0.363457</td>\n",
       "      <td>3.0</td>\n",
       "      <td>공급과다</td>\n",
       "    </tr>\n",
       "    <tr>\n",
       "      <th>165269</th>\n",
       "      <td>2022</td>\n",
       "      <td>1</td>\n",
       "      <td>1</td>\n",
       "      <td>0</td>\n",
       "      <td>4</td>\n",
       "      <td>2022-01-01 00:00:00</td>\n",
       "      <td>0.292608</td>\n",
       "      <td>1</td>\n",
       "      <td>0</td>\n",
       "      <td>1</td>\n",
       "      <td>0.011628</td>\n",
       "      <td>0.499432</td>\n",
       "      <td>0.326733</td>\n",
       "      <td>0.245614</td>\n",
       "      <td>0.007676</td>\n",
       "      <td>20</td>\n",
       "      <td>0</td>\n",
       "      <td>0.311272</td>\n",
       "      <td>18.0</td>\n",
       "      <td>공급평균</td>\n",
       "    </tr>\n",
       "    <tr>\n",
       "      <th>...</th>\n",
       "      <td>...</td>\n",
       "      <td>...</td>\n",
       "      <td>...</td>\n",
       "      <td>...</td>\n",
       "      <td>...</td>\n",
       "      <td>...</td>\n",
       "      <td>...</td>\n",
       "      <td>...</td>\n",
       "      <td>...</td>\n",
       "      <td>...</td>\n",
       "      <td>...</td>\n",
       "      <td>...</td>\n",
       "      <td>...</td>\n",
       "      <td>...</td>\n",
       "      <td>...</td>\n",
       "      <td>...</td>\n",
       "      <td>...</td>\n",
       "      <td>...</td>\n",
       "      <td>...</td>\n",
       "      <td>...</td>\n",
       "    </tr>\n",
       "    <tr>\n",
       "      <th>718226</th>\n",
       "      <td>2024</td>\n",
       "      <td>12</td>\n",
       "      <td>31</td>\n",
       "      <td>23</td>\n",
       "      <td>16</td>\n",
       "      <td>2024-12-31 23:00:00</td>\n",
       "      <td>0.242155</td>\n",
       "      <td>1</td>\n",
       "      <td>0</td>\n",
       "      <td>0</td>\n",
       "      <td>0.011628</td>\n",
       "      <td>0.582293</td>\n",
       "      <td>0.623762</td>\n",
       "      <td>0.192982</td>\n",
       "      <td>0.034387</td>\n",
       "      <td>6</td>\n",
       "      <td>0</td>\n",
       "      <td>0.229339</td>\n",
       "      <td>7.0</td>\n",
       "      <td>공급과다</td>\n",
       "    </tr>\n",
       "    <tr>\n",
       "      <th>718227</th>\n",
       "      <td>2024</td>\n",
       "      <td>12</td>\n",
       "      <td>31</td>\n",
       "      <td>23</td>\n",
       "      <td>17</td>\n",
       "      <td>2024-12-31 23:00:00</td>\n",
       "      <td>0.273448</td>\n",
       "      <td>1</td>\n",
       "      <td>0</td>\n",
       "      <td>0</td>\n",
       "      <td>0.011628</td>\n",
       "      <td>0.570942</td>\n",
       "      <td>0.623762</td>\n",
       "      <td>0.201754</td>\n",
       "      <td>0.010439</td>\n",
       "      <td>5</td>\n",
       "      <td>0</td>\n",
       "      <td>0.270446</td>\n",
       "      <td>7.0</td>\n",
       "      <td>공급과다</td>\n",
       "    </tr>\n",
       "    <tr>\n",
       "      <th>718228</th>\n",
       "      <td>2024</td>\n",
       "      <td>12</td>\n",
       "      <td>31</td>\n",
       "      <td>23</td>\n",
       "      <td>17</td>\n",
       "      <td>2024-12-31 23:00:00</td>\n",
       "      <td>0.273448</td>\n",
       "      <td>1</td>\n",
       "      <td>0</td>\n",
       "      <td>0</td>\n",
       "      <td>0.011628</td>\n",
       "      <td>0.570942</td>\n",
       "      <td>0.623762</td>\n",
       "      <td>0.201754</td>\n",
       "      <td>0.010439</td>\n",
       "      <td>5</td>\n",
       "      <td>0</td>\n",
       "      <td>0.270446</td>\n",
       "      <td>65.0</td>\n",
       "      <td>공급과다</td>\n",
       "    </tr>\n",
       "    <tr>\n",
       "      <th>718229</th>\n",
       "      <td>2024</td>\n",
       "      <td>12</td>\n",
       "      <td>31</td>\n",
       "      <td>23</td>\n",
       "      <td>17</td>\n",
       "      <td>2024-12-31 23:00:00</td>\n",
       "      <td>0.273448</td>\n",
       "      <td>1</td>\n",
       "      <td>0</td>\n",
       "      <td>0</td>\n",
       "      <td>0.011628</td>\n",
       "      <td>0.570942</td>\n",
       "      <td>0.623762</td>\n",
       "      <td>0.201754</td>\n",
       "      <td>0.010439</td>\n",
       "      <td>52</td>\n",
       "      <td>0</td>\n",
       "      <td>0.270446</td>\n",
       "      <td>7.0</td>\n",
       "      <td>공급다소부족</td>\n",
       "    </tr>\n",
       "    <tr>\n",
       "      <th>718230</th>\n",
       "      <td>2024</td>\n",
       "      <td>12</td>\n",
       "      <td>31</td>\n",
       "      <td>23</td>\n",
       "      <td>17</td>\n",
       "      <td>2024-12-31 23:00:00</td>\n",
       "      <td>0.273448</td>\n",
       "      <td>1</td>\n",
       "      <td>0</td>\n",
       "      <td>0</td>\n",
       "      <td>0.011628</td>\n",
       "      <td>0.570942</td>\n",
       "      <td>0.623762</td>\n",
       "      <td>0.201754</td>\n",
       "      <td>0.010439</td>\n",
       "      <td>52</td>\n",
       "      <td>0</td>\n",
       "      <td>0.270446</td>\n",
       "      <td>65.0</td>\n",
       "      <td>공급다소부족</td>\n",
       "    </tr>\n",
       "  </tbody>\n",
       "</table>\n",
       "<p>550870 rows × 20 columns</p>\n",
       "</div>"
      ],
      "text/plain": [
       "          연도   월   일   시  행정구                  일시    총생활인구수  계절  출퇴근시간여부  \\\n",
       "165265  2022   1   1   0    0 2022-01-01 00:00:00  0.434509   1        0   \n",
       "165266  2022   1   1   0    1 2022-01-01 00:00:00  0.342358   1        0   \n",
       "165267  2022   1   1   0    2 2022-01-01 00:00:00  0.136425   1        0   \n",
       "165268  2022   1   1   0    3 2022-01-01 00:00:00  0.355300   1        0   \n",
       "165269  2022   1   1   0    4 2022-01-01 00:00:00  0.292608   1        0   \n",
       "...      ...  ..  ..  ..  ...                 ...       ...  ..      ...   \n",
       "718226  2024  12  31  23   16 2024-12-31 23:00:00  0.242155   1        0   \n",
       "718227  2024  12  31  23   17 2024-12-31 23:00:00  0.273448   1        0   \n",
       "718228  2024  12  31  23   17 2024-12-31 23:00:00  0.273448   1        0   \n",
       "718229  2024  12  31  23   17 2024-12-31 23:00:00  0.273448   1        0   \n",
       "718230  2024  12  31  23   17 2024-12-31 23:00:00  0.273448   1        0   \n",
       "\n",
       "        주말구분        강수        기온        습도        풍속  공공자전거대여량  PM대여량  공휴일  \\\n",
       "165265     1  0.011628  0.527809  0.366337  0.210526  0.001228     33    0   \n",
       "165266     1  0.011628  0.493757  0.405941  0.192982  0.007062     25    0   \n",
       "165267     1  0.011628  0.496027  0.396040  0.157895  0.002763      5    0   \n",
       "165268     1  0.011628  0.517594  0.336634  0.219298  0.017808      4    0   \n",
       "165269     1  0.011628  0.499432  0.326733  0.245614  0.007676     20    0   \n",
       "...      ...       ...       ...       ...       ...       ...    ...  ...   \n",
       "718226     0  0.011628  0.582293  0.623762  0.192982  0.034387      6    0   \n",
       "718227     0  0.011628  0.570942  0.623762  0.201754  0.010439      5    0   \n",
       "718228     0  0.011628  0.570942  0.623762  0.201754  0.010439      5    0   \n",
       "718229     0  0.011628  0.570942  0.623762  0.201754  0.010439     52    0   \n",
       "718230     0  0.011628  0.570942  0.623762  0.201754  0.010439     52    0   \n",
       "\n",
       "        1년전_총생활인구수  1년전_PM대여량 PM대여량_class  \n",
       "165265    0.431544       24.0        공급평균  \n",
       "165266    0.342346       21.0        공급평균  \n",
       "165267    0.147441        3.0        공급과다  \n",
       "165268    0.363457        3.0        공급과다  \n",
       "165269    0.311272       18.0        공급평균  \n",
       "...            ...        ...         ...  \n",
       "718226    0.229339        7.0        공급과다  \n",
       "718227    0.270446        7.0        공급과다  \n",
       "718228    0.270446       65.0        공급과다  \n",
       "718229    0.270446        7.0      공급다소부족  \n",
       "718230    0.270446       65.0      공급다소부족  \n",
       "\n",
       "[550870 rows x 20 columns]"
      ]
     },
     "execution_count": 26,
     "metadata": {},
     "output_type": "execute_result"
    }
   ],
   "source": [
    "df_total"
   ]
  },
  {
   "cell_type": "markdown",
   "id": "2d037713",
   "metadata": {},
   "source": [
    "# 타겟변수 라벨인코딩"
   ]
  },
  {
   "cell_type": "code",
   "execution_count": 27,
   "id": "0d4f0cd5",
   "metadata": {},
   "outputs": [
    {
     "data": {
      "text/plain": [
       "165265    4\n",
       "165266    4\n",
       "165267    0\n",
       "165268    0\n",
       "165269    4\n",
       "         ..\n",
       "718226    0\n",
       "718227    0\n",
       "718228    0\n",
       "718229    1\n",
       "718230    1\n",
       "Name: PM대여량_class, Length: 550870, dtype: int32"
      ]
     },
     "execution_count": 27,
     "metadata": {},
     "output_type": "execute_result"
    }
   ],
   "source": [
    "from sklearn.preprocessing import LabelEncoder\n",
    "le_target = LabelEncoder()\n",
    "df_total['PM대여량_class'] = le_target.fit_transform(df_total['PM대여량_class'].values)\n",
    "df_total['PM대여량_class']"
   ]
  },
  {
   "cell_type": "markdown",
   "id": "3be0bbe4",
   "metadata": {},
   "source": [
    "# feature 선정 "
   ]
  },
  {
   "cell_type": "markdown",
   "id": "17f39b8f",
   "metadata": {},
   "source": [
    "## 상관계수 체크"
   ]
  },
  {
   "cell_type": "code",
   "execution_count": 28,
   "id": "2c6ae22d",
   "metadata": {},
   "outputs": [
    {
     "data": {
      "text/plain": [
       "PM대여량          1.000000\n",
       "1년전_PM대여량      0.579309\n",
       "1년전_총생활인구수     0.326858\n",
       "총생활인구수         0.322036\n",
       "출퇴근시간여부        0.169530\n",
       "시              0.153159\n",
       "주말구분           0.145724\n",
       "공공자전거대여량       0.093070\n",
       "습도             0.086837\n",
       "기온             0.083839\n",
       "행정구            0.067721\n",
       "월              0.044868\n",
       "PM대여량_class    0.039231\n",
       "계절             0.008641\n",
       "강수             0.003174\n",
       "일              0.001796\n",
       "공휴일           -0.001834\n",
       "연도            -0.002853\n",
       "풍속            -0.108760\n",
       "Name: PM대여량, dtype: float64"
      ]
     },
     "execution_count": 28,
     "metadata": {},
     "output_type": "execute_result"
    }
   ],
   "source": [
    "import pandas as pd\n",
    "corrs = df_total.corr(numeric_only=True)\n",
    "corrs['PM대여량'].sort_values(ascending=False)  # 타겟과의 상관계수"
   ]
  },
  {
   "cell_type": "code",
   "execution_count": 29,
   "id": "074d3979",
   "metadata": {},
   "outputs": [
    {
     "data": {
      "image/png": "[encoded data removed]",
      "text/plain": [
       "<Figure size 1200x1000 with 2 Axes>"
      ]
     },
     "metadata": {},
     "output_type": "display_data"
    }
   ],
   "source": [
    "import seaborn as sns\n",
    "import matplotlib.pyplot as plt\n",
    "plt.rc('font',family = 'Malgun Gothic')\n",
    "plt.rcParams['axes.unicode_minus'] = False\n",
    "\n",
    "mask = np.triu(np.ones_like(corrs, dtype=bool), k=1)\n",
    "plt.figure(figsize=(12,10))\n",
    "sns.heatmap(corrs, annot=True,mask=mask, fmt='.2f', cmap='RdBu_r', vmin=-1, vmax=1)\n",
    "plt.title('Feature 간 상관계수 히트맵')\n",
    "plt.show()"
   ]
  },
  {
   "cell_type": "markdown",
   "id": "f1f34c17",
   "metadata": {},
   "source": [
    "## 상관계수 분석\n",
    "- 목표 accuracy 75% + 공급절대부족에서 평균 이하 분류 수를 줄여가며 가설 검증\n",
    "- 우선 학습 이후에 feature_importance_ 체크 후 feature 수정"
   ]
  },
  {
   "cell_type": "code",
   "execution_count": 30,
   "id": "f518d502",
   "metadata": {},
   "outputs": [
    {
     "data": {
      "text/plain": [
       "Index(['PM대여량', '1년전_PM대여량', '1년전_총생활인구수', '총생활인구수', '출퇴근시간여부', '시', '주말구분',\n",
       "       '풍속', '공공자전거대여량', '습도', '기온', '행정구', '월', 'PM대여량_class', '계절', '강수',\n",
       "       '연도', '공휴일', '일'],\n",
       "      dtype='object')"
      ]
     },
     "execution_count": 30,
     "metadata": {},
     "output_type": "execute_result"
    }
   ],
   "source": [
    "corrs['PM대여량'].sort_values(ascending=False).index # 결과에 따라 상관계수가 0에 가까운 순으로 제외 예정\n",
    "sorted_idx = np.abs(corrs)['PM대여량'].sort_values(ascending=False).index\n",
    "sorted_idx"
   ]
  },
  {
   "cell_type": "markdown",
   "id": "ebaed40b",
   "metadata": {},
   "source": [
    "# 데이터 독립변수, 종속변수 분리"
   ]
  },
  {
   "cell_type": "code",
   "execution_count": 31,
   "id": "9191832d",
   "metadata": {},
   "outputs": [
    {
     "data": {
      "text/plain": [
       "((366582, 17),\n",
       " (366582, 1),\n",
       " (183602, 17),\n",
       " (183602, 1),\n",
       " (184288, 17),\n",
       " (184288, 1))"
      ]
     },
     "execution_count": 31,
     "metadata": {},
     "output_type": "execute_result"
    }
   ],
   "source": [
    "# 독립변수, 종속변수 분리용\n",
    "# 1차 시도 ['연도','월','일','시','행정구','총생활인구수','계절','출퇴근시간여부','주말구분','강수','기온','습도','풍속','공공자전거대여량','공휴일','1년전_총생활인구수','1년전_PM대여량']\n",
    "# 2차 시도 ['연도','월','일','시','행정구','총생활인구수','강수','기온','습도','풍속','공공자전거대여량','공휴일','1년전_총생활인구수','1년전_PM대여량']\n",
    "# train_set, val_set, test_set\n",
    "cols_X = ['연도','월','일','시','행정구','총생활인구수','계절','출퇴근시간여부','주말구분','강수','기온','습도','풍속','공공자전거대여량','공휴일','1년전_총생활인구수','1년전_PM대여량']\n",
    "cols_y = ['PM대여량_class']\n",
    "\n",
    "train_set = df_total[df_total['연도']<2024]\n",
    "val_set = df_total[df_total['연도']==2023]\n",
    "test_set = df_total[df_total['연도']==2024]\n",
    "\n",
    "train_X = train_set[cols_X]\n",
    "val_X = val_set[cols_X]\n",
    "test_X = test_set[cols_X]\n",
    "\n",
    "train_y = train_set[cols_y].values\n",
    "val_y = val_set[cols_y].values\n",
    "test_y = test_set[cols_y].values\n",
    "\n",
    "train_X.shape, train_y.shape, val_X.shape, val_y.shape, test_X.shape, test_y.shape"
   ]
  },
  {
   "cell_type": "markdown",
   "id": "2e2bcd56",
   "metadata": {},
   "source": [
    "# 모델 설계"
   ]
  },
  {
   "cell_type": "markdown",
   "id": "b52ff70b",
   "metadata": {},
   "source": [
    "## 모델 설계 전 파라미터 탐색\n",
    "- 데이터 양이 방대해 3개월 치만 샘플링하여 탐색\n",
    "- train_set의 초기 자료 (2022.01 ~ 2022.03)를 샘플로 탐색"
   ]
  },
  {
   "cell_type": "code",
   "execution_count": 3,
   "id": "207f0792",
   "metadata": {},
   "outputs": [],
   "source": [
    "from sklearn.pipeline import Pipeline\n",
    "from sklearn.model_selection import GridSearchCV\n",
    "from lightgbm import LGBMClassifier"
   ]
  },
  {
   "cell_type": "code",
   "execution_count": 39,
   "id": "8e8e81f9",
   "metadata": {},
   "outputs": [
    {
     "data": {
      "text/plain": [
       "((44828, 17), (44828, 1))"
      ]
     },
     "execution_count": 39,
     "metadata": {},
     "output_type": "execute_result"
    }
   ],
   "source": [
    "sample_X = train_X[(train_X['연도']==2022)&(train_X['월']<4)]\n",
    "sample_y = train_y[:sample_X.shape[0]]\n",
    "sample_X.shape, sample_y.shape"
   ]
  },
  {
   "cell_type": "code",
   "execution_count": 44,
   "id": "ed2a2b67",
   "metadata": {
    "scrolled": true
   },
   "outputs": [
    {
     "name": "stdout",
     "output_type": "stream",
     "text": [
      "Fitting 2 folds for each of 108 candidates, totalling 216 fits\n"
     ]
    },
    {
     "name": "stderr",
     "output_type": "stream",
     "text": [
      "C:\\Users\\Admin\\anaconda3\\envs\\ml-dl-nlp\\lib\\site-packages\\sklearn\\preprocessing\\_label.py:99: DataConversionWarning: A column-vector y was passed when a 1d array was expected. Please change the shape of y to (n_samples, ), for example using ravel().\n",
      "  y = column_or_1d(y, warn=True)\n",
      "C:\\Users\\Admin\\anaconda3\\envs\\ml-dl-nlp\\lib\\site-packages\\sklearn\\preprocessing\\_label.py:134: DataConversionWarning: A column-vector y was passed when a 1d array was expected. Please change the shape of y to (n_samples, ), for example using ravel().\n",
      "  y = column_or_1d(y, dtype=self.classes_.dtype, warn=True)\n"
     ]
    },
    {
     "name": "stdout",
     "output_type": "stream",
     "text": [
      "[LightGBM] [Info] Auto-choosing col-wise multi-threading, the overhead of testing was 0.004803 seconds.\n",
      "You can set `force_col_wise=true` to remove the overhead.\n",
      "[LightGBM] [Info] Total Bins 1418\n",
      "[LightGBM] [Info] Number of data points in the train set: 44828, number of used features: 15\n",
      "[LightGBM] [Info] Start training from score -1.182449\n",
      "[LightGBM] [Info] Start training from score -1.952647\n",
      "[LightGBM] [Info] Start training from score -3.031799\n",
      "[LightGBM] [Info] Start training from score -4.216834\n",
      "[LightGBM] [Info] Start training from score -0.716209\n",
      "CPU times: total: 10.1 s\n",
      "Wall time: 13min 58s\n"
     ]
    },
    {
     "data": {
      "text/html": [
       "<style>#sk-container-id-1 {color: black;background-color: white;}#sk-container-id-1 pre{padding: 0;}#sk-container-id-1 div.sk-toggleable {background-color: white;}#sk-container-id-1 label.sk-toggleable__label {cursor: pointer;display: block;width: 100%;margin-bottom: 0;padding: 0.3em;box-sizing: border-box;text-align: center;}#sk-container-id-1 label.sk-toggleable__label-arrow:before {content: \"▸\";float: left;margin-right: 0.25em;color: #696969;}#sk-container-id-1 label.sk-toggleable__label-arrow:hover:before {color: black;}#sk-container-id-1 div.sk-estimator:hover label.sk-toggleable__label-arrow:before {color: black;}#sk-container-id-1 div.sk-toggleable__content {max-height: 0;max-width: 0;overflow: hidden;text-align: left;background-color: #f0f8ff;}#sk-container-id-1 div.sk-toggleable__content pre {margin: 0.2em;color: black;border-radius: 0.25em;background-color: #f0f8ff;}#sk-container-id-1 input.sk-toggleable__control:checked~div.sk-toggleable__content {max-height: 200px;max-width: 100%;overflow: auto;}#sk-container-id-1 input.sk-toggleable__control:checked~label.sk-toggleable__label-arrow:before {content: \"▾\";}#sk-container-id-1 div.sk-estimator input.sk-toggleable__control:checked~label.sk-toggleable__label {background-color: #d4ebff;}#sk-container-id-1 div.sk-label input.sk-toggleable__control:checked~label.sk-toggleable__label {background-color: #d4ebff;}#sk-container-id-1 input.sk-hidden--visually {border: 0;clip: rect(1px 1px 1px 1px);clip: rect(1px, 1px, 1px, 1px);height: 1px;margin: -1px;overflow: hidden;padding: 0;position: absolute;width: 1px;}#sk-container-id-1 div.sk-estimator {font-family: monospace;background-color: #f0f8ff;border: 1px dotted black;border-radius: 0.25em;box-sizing: border-box;margin-bottom: 0.5em;}#sk-container-id-1 div.sk-estimator:hover {background-color: #d4ebff;}#sk-container-id-1 div.sk-parallel-item::after {content: \"\";width: 100%;border-bottom: 1px solid gray;flex-grow: 1;}#sk-container-id-1 div.sk-label:hover label.sk-toggleable__label {background-color: #d4ebff;}#sk-container-id-1 div.sk-serial::before {content: \"\";position: absolute;border-left: 1px solid gray;box-sizing: border-box;top: 0;bottom: 0;left: 50%;z-index: 0;}#sk-container-id-1 div.sk-serial {display: flex;flex-direction: column;align-items: center;background-color: white;padding-right: 0.2em;padding-left: 0.2em;position: relative;}#sk-container-id-1 div.sk-item {position: relative;z-index: 1;}#sk-container-id-1 div.sk-parallel {display: flex;align-items: stretch;justify-content: center;background-color: white;position: relative;}#sk-container-id-1 div.sk-item::before, #sk-container-id-1 div.sk-parallel-item::before {content: \"\";position: absolute;border-left: 1px solid gray;box-sizing: border-box;top: 0;bottom: 0;left: 50%;z-index: -1;}#sk-container-id-1 div.sk-parallel-item {display: flex;flex-direction: column;z-index: 1;position: relative;background-color: white;}#sk-container-id-1 div.sk-parallel-item:first-child::after {align-self: flex-end;width: 50%;}#sk-container-id-1 div.sk-parallel-item:last-child::after {align-self: flex-start;width: 50%;}#sk-container-id-1 div.sk-parallel-item:only-child::after {width: 0;}#sk-container-id-1 div.sk-dashed-wrapped {border: 1px dashed gray;margin: 0 0.4em 0.5em 0.4em;box-sizing: border-box;padding-bottom: 0.4em;background-color: white;}#sk-container-id-1 div.sk-label label {font-family: monospace;font-weight: bold;display: inline-block;line-height: 1.2em;}#sk-container-id-1 div.sk-label-container {text-align: center;}#sk-container-id-1 div.sk-container {/* jupyter's `normalize.less` sets `[hidden] { display: none; }` but bootstrap.min.css set `[hidden] { display: none !important; }` so we also need the `!important` here to be able to override the default hidden behavior on the sphinx rendered scikit-learn.org. See: https://github.com/scikit-learn/scikit-learn/issues/21755 */display: inline-block !important;position: relative;}#sk-container-id-1 div.sk-text-repr-fallback {display: none;}</style><div id=\"sk-container-id-1\" class=\"sk-top-container\"><div class=\"sk-text-repr-fallback\"><pre>GridSearchCV(cv=2, estimator=Pipeline(steps=[(&#x27;lgbm&#x27;, LGBMClassifier())]),\n",
       "             n_jobs=-1,\n",
       "             param_grid={&#x27;lgbm__learning_rate&#x27;: [0.01, 0.05, 0.1],\n",
       "                         &#x27;lgbm__max_depth&#x27;: [3, 5, 7, -1],\n",
       "                         &#x27;lgbm__n_estimators&#x27;: [100, 300, 500],\n",
       "                         &#x27;lgbm__num_leaves&#x27;: [15, 31, 63]},\n",
       "             verbose=2)</pre><b>In a Jupyter environment, please rerun this cell to show the HTML representation or trust the notebook. <br />On GitHub, the HTML representation is unable to render, please try loading this page with nbviewer.org.</b></div><div class=\"sk-container\" hidden><div class=\"sk-item sk-dashed-wrapped\"><div class=\"sk-label-container\"><div class=\"sk-label sk-toggleable\"><input class=\"sk-toggleable__control sk-hidden--visually\" id=\"sk-estimator-id-1\" type=\"checkbox\" ><label for=\"sk-estimator-id-1\" class=\"sk-toggleable__label sk-toggleable__label-arrow\">GridSearchCV</label><div class=\"sk-toggleable__content\"><pre>GridSearchCV(cv=2, estimator=Pipeline(steps=[(&#x27;lgbm&#x27;, LGBMClassifier())]),\n",
       "             n_jobs=-1,\n",
       "             param_grid={&#x27;lgbm__learning_rate&#x27;: [0.01, 0.05, 0.1],\n",
       "                         &#x27;lgbm__max_depth&#x27;: [3, 5, 7, -1],\n",
       "                         &#x27;lgbm__n_estimators&#x27;: [100, 300, 500],\n",
       "                         &#x27;lgbm__num_leaves&#x27;: [15, 31, 63]},\n",
       "             verbose=2)</pre></div></div></div><div class=\"sk-parallel\"><div class=\"sk-parallel-item\"><div class=\"sk-item\"><div class=\"sk-label-container\"><div class=\"sk-label sk-toggleable\"><input class=\"sk-toggleable__control sk-hidden--visually\" id=\"sk-estimator-id-2\" type=\"checkbox\" ><label for=\"sk-estimator-id-2\" class=\"sk-toggleable__label sk-toggleable__label-arrow\">estimator: Pipeline</label><div class=\"sk-toggleable__content\"><pre>Pipeline(steps=[(&#x27;lgbm&#x27;, LGBMClassifier())])</pre></div></div></div><div class=\"sk-serial\"><div class=\"sk-item\"><div class=\"sk-serial\"><div class=\"sk-item\"><div class=\"sk-estimator sk-toggleable\"><input class=\"sk-toggleable__control sk-hidden--visually\" id=\"sk-estimator-id-3\" type=\"checkbox\" ><label for=\"sk-estimator-id-3\" class=\"sk-toggleable__label sk-toggleable__label-arrow\">LGBMClassifier</label><div class=\"sk-toggleable__content\"><pre>LGBMClassifier()</pre></div></div></div></div></div></div></div></div></div></div></div></div>"
      ],
      "text/plain": [
       "GridSearchCV(cv=2, estimator=Pipeline(steps=[('lgbm', LGBMClassifier())]),\n",
       "             n_jobs=-1,\n",
       "             param_grid={'lgbm__learning_rate': [0.01, 0.05, 0.1],\n",
       "                         'lgbm__max_depth': [3, 5, 7, -1],\n",
       "                         'lgbm__n_estimators': [100, 300, 500],\n",
       "                         'lgbm__num_leaves': [15, 31, 63]},\n",
       "             verbose=2)"
      ]
     },
     "execution_count": 44,
     "metadata": {},
     "output_type": "execute_result"
    }
   ],
   "source": [
    "%%time\n",
    "from lightgbm import LGBMClassifier\n",
    "# SelectKBest로 최적의 독립변수 K개 찾음 -> SVC()에서 최적의 c값을 찾음\n",
    "lgbm = LGBMClassifier() \n",
    "pipeline = Pipeline([('lgbm',lgbm)])\n",
    "param_grid = param_grid = {\n",
    "    'lgbm__n_estimators': [100, 300, 500],\n",
    "    'lgbm__learning_rate': [0.01, 0.05, 0.1],\n",
    "    'lgbm__max_depth': [3, 5, 7, -1],  # -1은 제한 없음\n",
    "    'lgbm__num_leaves': [15, 31, 63],  # 보통 2^max_depth보다 작게\n",
    "}\n",
    "grid_search = GridSearchCV(estimator=pipeline, # 어떤 값을 찾을 지 Pipeline\n",
    "                            param_grid=param_grid, # 파라미터들\n",
    "                            cv=2,\n",
    "                            verbose=2, # 로그출력을 자세히\n",
    "                            n_jobs=-1,\n",
    "                           )\n",
    "grid_search.fit(sample_X.values, sample_y.ravel())"
   ]
  },
  {
   "cell_type": "code",
   "execution_count": 53,
   "id": "734073b8",
   "metadata": {},
   "outputs": [
    {
     "data": {
      "text/plain": [
       "{'lgbm__learning_rate': 0.01,\n",
       " 'lgbm__max_depth': -1,\n",
       " 'lgbm__n_estimators': 3000,\n",
       " 'lgbm__num_leaves': 63}"
      ]
     },
     "execution_count": 53,
     "metadata": {},
     "output_type": "execute_result"
    }
   ],
   "source": [
    "grid_search.best_params_"
   ]
  },
  {
   "cell_type": "code",
   "execution_count": 54,
   "id": "26a8f97a",
   "metadata": {},
   "outputs": [
    {
     "data": {
      "text/plain": [
       "0.905014722941019"
      ]
     },
     "execution_count": 54,
     "metadata": {},
     "output_type": "execute_result"
    }
   ],
   "source": [
    "model = grid_search.best_estimator_\n",
    "model.score(sample_X.values, sample_y.ravel())"
   ]
  },
  {
   "cell_type": "code",
   "execution_count": 55,
   "id": "7644d756",
   "metadata": {
    "scrolled": true
   },
   "outputs": [
    {
     "name": "stdout",
     "output_type": "stream",
     "text": [
      "[LightGBM] [Info] Auto-choosing col-wise multi-threading, the overhead of testing was 0.004783 seconds.\n",
      "You can set `force_col_wise=true` to remove the overhead.\n",
      "[LightGBM] [Info] Total Bins 1418\n",
      "[LightGBM] [Info] Number of data points in the train set: 44828, number of used features: 15\n",
      "[LightGBM] [Info] Start training from score -1.182449\n",
      "[LightGBM] [Info] Start training from score -1.952647\n",
      "[LightGBM] [Info] Start training from score -3.031799\n",
      "[LightGBM] [Info] Start training from score -4.216834\n",
      "[LightGBM] [Info] Start training from score -0.716209\n"
     ]
    },
    {
     "data": {
      "text/plain": [
       "0.9014232176318372"
      ]
     },
     "execution_count": 55,
     "metadata": {},
     "output_type": "execute_result"
    }
   ],
   "source": [
    "model = LGBMClassifier().fit(sample_X.values, sample_y.ravel())\n",
    "model.score(sample_X.values, sample_y.ravel())"
   ]
  },
  {
   "cell_type": "markdown",
   "id": "3539553b",
   "metadata": {},
   "source": [
    "## 샘플 데이터를 기반으로 GridSearch 결과보다 기본값의 LightGBM이 더 양호한 모습. 추가 체크"
   ]
  },
  {
   "cell_type": "code",
   "execution_count": 52,
   "id": "aa19b8e4",
   "metadata": {
    "scrolled": true
   },
   "outputs": [
    {
     "name": "stdout",
     "output_type": "stream",
     "text": [
      "Fitting 2 folds for each of 2 candidates, totalling 4 fits\n",
      "[LightGBM] [Info] Auto-choosing col-wise multi-threading, the overhead of testing was 0.005879 seconds.\n",
      "You can set `force_col_wise=true` to remove the overhead.\n",
      "[LightGBM] [Info] Total Bins 1418\n",
      "[LightGBM] [Info] Number of data points in the train set: 44828, number of used features: 15\n",
      "[LightGBM] [Info] Start training from score -1.182449\n",
      "[LightGBM] [Info] Start training from score -1.952647\n",
      "[LightGBM] [Info] Start training from score -3.031799\n",
      "[LightGBM] [Info] Start training from score -4.216834\n",
      "[LightGBM] [Info] Start training from score -0.716209\n",
      "CPU times: total: 2min 56s\n",
      "Wall time: 4min 35s\n"
     ]
    },
    {
     "data": {
      "text/html": [
       "<style>#sk-container-id-2 {color: black;background-color: white;}#sk-container-id-2 pre{padding: 0;}#sk-container-id-2 div.sk-toggleable {background-color: white;}#sk-container-id-2 label.sk-toggleable__label {cursor: pointer;display: block;width: 100%;margin-bottom: 0;padding: 0.3em;box-sizing: border-box;text-align: center;}#sk-container-id-2 label.sk-toggleable__label-arrow:before {content: \"▸\";float: left;margin-right: 0.25em;color: #696969;}#sk-container-id-2 label.sk-toggleable__label-arrow:hover:before {color: black;}#sk-container-id-2 div.sk-estimator:hover label.sk-toggleable__label-arrow:before {color: black;}#sk-container-id-2 div.sk-toggleable__content {max-height: 0;max-width: 0;overflow: hidden;text-align: left;background-color: #f0f8ff;}#sk-container-id-2 div.sk-toggleable__content pre {margin: 0.2em;color: black;border-radius: 0.25em;background-color: #f0f8ff;}#sk-container-id-2 input.sk-toggleable__control:checked~div.sk-toggleable__content {max-height: 200px;max-width: 100%;overflow: auto;}#sk-container-id-2 input.sk-toggleable__control:checked~label.sk-toggleable__label-arrow:before {content: \"▾\";}#sk-container-id-2 div.sk-estimator input.sk-toggleable__control:checked~label.sk-toggleable__label {background-color: #d4ebff;}#sk-container-id-2 div.sk-label input.sk-toggleable__control:checked~label.sk-toggleable__label {background-color: #d4ebff;}#sk-container-id-2 input.sk-hidden--visually {border: 0;clip: rect(1px 1px 1px 1px);clip: rect(1px, 1px, 1px, 1px);height: 1px;margin: -1px;overflow: hidden;padding: 0;position: absolute;width: 1px;}#sk-container-id-2 div.sk-estimator {font-family: monospace;background-color: #f0f8ff;border: 1px dotted black;border-radius: 0.25em;box-sizing: border-box;margin-bottom: 0.5em;}#sk-container-id-2 div.sk-estimator:hover {background-color: #d4ebff;}#sk-container-id-2 div.sk-parallel-item::after {content: \"\";width: 100%;border-bottom: 1px solid gray;flex-grow: 1;}#sk-container-id-2 div.sk-label:hover label.sk-toggleable__label {background-color: #d4ebff;}#sk-container-id-2 div.sk-serial::before {content: \"\";position: absolute;border-left: 1px solid gray;box-sizing: border-box;top: 0;bottom: 0;left: 50%;z-index: 0;}#sk-container-id-2 div.sk-serial {display: flex;flex-direction: column;align-items: center;background-color: white;padding-right: 0.2em;padding-left: 0.2em;position: relative;}#sk-container-id-2 div.sk-item {position: relative;z-index: 1;}#sk-container-id-2 div.sk-parallel {display: flex;align-items: stretch;justify-content: center;background-color: white;position: relative;}#sk-container-id-2 div.sk-item::before, #sk-container-id-2 div.sk-parallel-item::before {content: \"\";position: absolute;border-left: 1px solid gray;box-sizing: border-box;top: 0;bottom: 0;left: 50%;z-index: -1;}#sk-container-id-2 div.sk-parallel-item {display: flex;flex-direction: column;z-index: 1;position: relative;background-color: white;}#sk-container-id-2 div.sk-parallel-item:first-child::after {align-self: flex-end;width: 50%;}#sk-container-id-2 div.sk-parallel-item:last-child::after {align-self: flex-start;width: 50%;}#sk-container-id-2 div.sk-parallel-item:only-child::after {width: 0;}#sk-container-id-2 div.sk-dashed-wrapped {border: 1px dashed gray;margin: 0 0.4em 0.5em 0.4em;box-sizing: border-box;padding-bottom: 0.4em;background-color: white;}#sk-container-id-2 div.sk-label label {font-family: monospace;font-weight: bold;display: inline-block;line-height: 1.2em;}#sk-container-id-2 div.sk-label-container {text-align: center;}#sk-container-id-2 div.sk-container {/* jupyter's `normalize.less` sets `[hidden] { display: none; }` but bootstrap.min.css set `[hidden] { display: none !important; }` so we also need the `!important` here to be able to override the default hidden behavior on the sphinx rendered scikit-learn.org. See: https://github.com/scikit-learn/scikit-learn/issues/21755 */display: inline-block !important;position: relative;}#sk-container-id-2 div.sk-text-repr-fallback {display: none;}</style><div id=\"sk-container-id-2\" class=\"sk-top-container\"><div class=\"sk-text-repr-fallback\"><pre>GridSearchCV(cv=2, estimator=Pipeline(steps=[(&#x27;lgbm&#x27;, LGBMClassifier())]),\n",
       "             n_jobs=-1,\n",
       "             param_grid={&#x27;lgbm__learning_rate&#x27;: [0.01], &#x27;lgbm__max_depth&#x27;: [-1],\n",
       "                         &#x27;lgbm__n_estimators&#x27;: [2000, 3000],\n",
       "                         &#x27;lgbm__num_leaves&#x27;: [63]},\n",
       "             verbose=2)</pre><b>In a Jupyter environment, please rerun this cell to show the HTML representation or trust the notebook. <br />On GitHub, the HTML representation is unable to render, please try loading this page with nbviewer.org.</b></div><div class=\"sk-container\" hidden><div class=\"sk-item sk-dashed-wrapped\"><div class=\"sk-label-container\"><div class=\"sk-label sk-toggleable\"><input class=\"sk-toggleable__control sk-hidden--visually\" id=\"sk-estimator-id-4\" type=\"checkbox\" ><label for=\"sk-estimator-id-4\" class=\"sk-toggleable__label sk-toggleable__label-arrow\">GridSearchCV</label><div class=\"sk-toggleable__content\"><pre>GridSearchCV(cv=2, estimator=Pipeline(steps=[(&#x27;lgbm&#x27;, LGBMClassifier())]),\n",
       "             n_jobs=-1,\n",
       "             param_grid={&#x27;lgbm__learning_rate&#x27;: [0.01], &#x27;lgbm__max_depth&#x27;: [-1],\n",
       "                         &#x27;lgbm__n_estimators&#x27;: [2000, 3000],\n",
       "                         &#x27;lgbm__num_leaves&#x27;: [63]},\n",
       "             verbose=2)</pre></div></div></div><div class=\"sk-parallel\"><div class=\"sk-parallel-item\"><div class=\"sk-item\"><div class=\"sk-label-container\"><div class=\"sk-label sk-toggleable\"><input class=\"sk-toggleable__control sk-hidden--visually\" id=\"sk-estimator-id-5\" type=\"checkbox\" ><label for=\"sk-estimator-id-5\" class=\"sk-toggleable__label sk-toggleable__label-arrow\">estimator: Pipeline</label><div class=\"sk-toggleable__content\"><pre>Pipeline(steps=[(&#x27;lgbm&#x27;, LGBMClassifier())])</pre></div></div></div><div class=\"sk-serial\"><div class=\"sk-item\"><div class=\"sk-serial\"><div class=\"sk-item\"><div class=\"sk-estimator sk-toggleable\"><input class=\"sk-toggleable__control sk-hidden--visually\" id=\"sk-estimator-id-6\" type=\"checkbox\" ><label for=\"sk-estimator-id-6\" class=\"sk-toggleable__label sk-toggleable__label-arrow\">LGBMClassifier</label><div class=\"sk-toggleable__content\"><pre>LGBMClassifier()</pre></div></div></div></div></div></div></div></div></div></div></div></div>"
      ],
      "text/plain": [
       "GridSearchCV(cv=2, estimator=Pipeline(steps=[('lgbm', LGBMClassifier())]),\n",
       "             n_jobs=-1,\n",
       "             param_grid={'lgbm__learning_rate': [0.01], 'lgbm__max_depth': [-1],\n",
       "                         'lgbm__n_estimators': [2000, 3000],\n",
       "                         'lgbm__num_leaves': [63]},\n",
       "             verbose=2)"
      ]
     },
     "execution_count": 52,
     "metadata": {},
     "output_type": "execute_result"
    }
   ],
   "source": [
    "%%time\n",
    "from lightgbm import LGBMClassifier\n",
    "# SelectKBest로 최적의 독립변수 K개 찾음 -> SVC()에서 최적의 c값을 찾음\n",
    "lgbm = LGBMClassifier() \n",
    "pipeline = Pipeline([('lgbm',lgbm)])\n",
    "param_grid = param_grid = {\n",
    "    'lgbm__n_estimators': [2000, 3000],\n",
    "    'lgbm__learning_rate': [0.01],\n",
    "    'lgbm__max_depth': [-1],  # -1은 제한 없음\n",
    "    'lgbm__num_leaves': [63],  # 보통 2^max_depth보다 작게\n",
    "}\n",
    "grid_search = GridSearchCV(estimator=pipeline, # 어떤 값을 찾을 지 Pipeline\n",
    "                            param_grid=param_grid, # 파라미터들\n",
    "                            cv=2,\n",
    "                            verbose=2, # 로그출력을 자세히\n",
    "                            n_jobs=-1,\n",
    "                           )\n",
    "grid_search.fit(sample_X.values, sample_y.ravel())"
   ]
  },
  {
   "cell_type": "code",
   "execution_count": 49,
   "id": "8543f804",
   "metadata": {},
   "outputs": [
    {
     "data": {
      "text/plain": [
       "{'lgbm__learning_rate': 0.01,\n",
       " 'lgbm__max_depth': -1,\n",
       " 'lgbm__n_estimators': 100,\n",
       " 'lgbm__num_leaves': 63}"
      ]
     },
     "execution_count": 49,
     "metadata": {},
     "output_type": "execute_result"
    }
   ],
   "source": [
    "grid_search.best_params_"
   ]
  },
  {
   "cell_type": "code",
   "execution_count": 50,
   "id": "217370af",
   "metadata": {},
   "outputs": [
    {
     "data": {
      "text/plain": [
       "0.8771080574640849"
      ]
     },
     "execution_count": 50,
     "metadata": {},
     "output_type": "execute_result"
    }
   ],
   "source": [
    "model = grid_search.best_estimator_\n",
    "model.score(sample_X.values, sample_y.ravel())"
   ]
  },
  {
   "cell_type": "code",
   "execution_count": 51,
   "id": "e6c2e431",
   "metadata": {
    "scrolled": true
   },
   "outputs": [
    {
     "name": "stdout",
     "output_type": "stream",
     "text": [
      "[LightGBM] [Info] Auto-choosing col-wise multi-threading, the overhead of testing was 0.003812 seconds.\n",
      "You can set `force_col_wise=true` to remove the overhead.\n",
      "[LightGBM] [Info] Total Bins 1418\n",
      "[LightGBM] [Info] Number of data points in the train set: 44828, number of used features: 15\n",
      "[LightGBM] [Info] Start training from score -1.182449\n",
      "[LightGBM] [Info] Start training from score -1.952647\n",
      "[LightGBM] [Info] Start training from score -3.031799\n",
      "[LightGBM] [Info] Start training from score -4.216834\n",
      "[LightGBM] [Info] Start training from score -0.716209\n"
     ]
    },
    {
     "data": {
      "text/plain": [
       "0.9014232176318372"
      ]
     },
     "execution_count": 51,
     "metadata": {},
     "output_type": "execute_result"
    }
   ],
   "source": [
    "model = LGBMClassifier().fit(sample_X.values, sample_y.ravel())\n",
    "model.score(sample_X.values, sample_y.ravel())"
   ]
  },
  {
   "cell_type": "markdown",
   "id": "d56f827b",
   "metadata": {},
   "source": [
    "## 확인 파라미터 기반 모델 설계"
   ]
  },
  {
   "cell_type": "code",
   "execution_count": 226,
   "id": "e7ca2e2c",
   "metadata": {},
   "outputs": [],
   "source": [
    "import lightgbm as lgb\n",
    "from sklearn.metrics import accuracy_score, classification_report, confusion_matrix, recall_score, precision_score, f1_score"
   ]
  },
  {
   "cell_type": "code",
   "execution_count": 227,
   "id": "0508fa16",
   "metadata": {
    "scrolled": true
   },
   "outputs": [
    {
     "data": {
      "text/html": [
       "<style>#sk-container-id-16 {color: black;background-color: white;}#sk-container-id-16 pre{padding: 0;}#sk-container-id-16 div.sk-toggleable {background-color: white;}#sk-container-id-16 label.sk-toggleable__label {cursor: pointer;display: block;width: 100%;margin-bottom: 0;padding: 0.3em;box-sizing: border-box;text-align: center;}#sk-container-id-16 label.sk-toggleable__label-arrow:before {content: \"▸\";float: left;margin-right: 0.25em;color: #696969;}#sk-container-id-16 label.sk-toggleable__label-arrow:hover:before {color: black;}#sk-container-id-16 div.sk-estimator:hover label.sk-toggleable__label-arrow:before {color: black;}#sk-container-id-16 div.sk-toggleable__content {max-height: 0;max-width: 0;overflow: hidden;text-align: left;background-color: #f0f8ff;}#sk-container-id-16 div.sk-toggleable__content pre {margin: 0.2em;color: black;border-radius: 0.25em;background-color: #f0f8ff;}#sk-container-id-16 input.sk-toggleable__control:checked~div.sk-toggleable__content {max-height: 200px;max-width: 100%;overflow: auto;}#sk-container-id-16 input.sk-toggleable__control:checked~label.sk-toggleable__label-arrow:before {content: \"▾\";}#sk-container-id-16 div.sk-estimator input.sk-toggleable__control:checked~label.sk-toggleable__label {background-color: #d4ebff;}#sk-container-id-16 div.sk-label input.sk-toggleable__control:checked~label.sk-toggleable__label {background-color: #d4ebff;}#sk-container-id-16 input.sk-hidden--visually {border: 0;clip: rect(1px 1px 1px 1px);clip: rect(1px, 1px, 1px, 1px);height: 1px;margin: -1px;overflow: hidden;padding: 0;position: absolute;width: 1px;}#sk-container-id-16 div.sk-estimator {font-family: monospace;background-color: #f0f8ff;border: 1px dotted black;border-radius: 0.25em;box-sizing: border-box;margin-bottom: 0.5em;}#sk-container-id-16 div.sk-estimator:hover {background-color: #d4ebff;}#sk-container-id-16 div.sk-parallel-item::after {content: \"\";width: 100%;border-bottom: 1px solid gray;flex-grow: 1;}#sk-container-id-16 div.sk-label:hover label.sk-toggleable__label {background-color: #d4ebff;}#sk-container-id-16 div.sk-serial::before {content: \"\";position: absolute;border-left: 1px solid gray;box-sizing: border-box;top: 0;bottom: 0;left: 50%;z-index: 0;}#sk-container-id-16 div.sk-serial {display: flex;flex-direction: column;align-items: center;background-color: white;padding-right: 0.2em;padding-left: 0.2em;position: relative;}#sk-container-id-16 div.sk-item {position: relative;z-index: 1;}#sk-container-id-16 div.sk-parallel {display: flex;align-items: stretch;justify-content: center;background-color: white;position: relative;}#sk-container-id-16 div.sk-item::before, #sk-container-id-16 div.sk-parallel-item::before {content: \"\";position: absolute;border-left: 1px solid gray;box-sizing: border-box;top: 0;bottom: 0;left: 50%;z-index: -1;}#sk-container-id-16 div.sk-parallel-item {display: flex;flex-direction: column;z-index: 1;position: relative;background-color: white;}#sk-container-id-16 div.sk-parallel-item:first-child::after {align-self: flex-end;width: 50%;}#sk-container-id-16 div.sk-parallel-item:last-child::after {align-self: flex-start;width: 50%;}#sk-container-id-16 div.sk-parallel-item:only-child::after {width: 0;}#sk-container-id-16 div.sk-dashed-wrapped {border: 1px dashed gray;margin: 0 0.4em 0.5em 0.4em;box-sizing: border-box;padding-bottom: 0.4em;background-color: white;}#sk-container-id-16 div.sk-label label {font-family: monospace;font-weight: bold;display: inline-block;line-height: 1.2em;}#sk-container-id-16 div.sk-label-container {text-align: center;}#sk-container-id-16 div.sk-container {/* jupyter's `normalize.less` sets `[hidden] { display: none; }` but bootstrap.min.css set `[hidden] { display: none !important; }` so we also need the `!important` here to be able to override the default hidden behavior on the sphinx rendered scikit-learn.org. See: https://github.com/scikit-learn/scikit-learn/issues/21755 */display: inline-block !important;position: relative;}#sk-container-id-16 div.sk-text-repr-fallback {display: none;}</style><div id=\"sk-container-id-16\" class=\"sk-top-container\"><div class=\"sk-text-repr-fallback\"><pre>LGBMClassifier(class_weight=&#x27;balanced&#x27;, learning_rate=0.001, max_depth=10,\n",
       "               n_estimators=2000)</pre><b>In a Jupyter environment, please rerun this cell to show the HTML representation or trust the notebook. <br />On GitHub, the HTML representation is unable to render, please try loading this page with nbviewer.org.</b></div><div class=\"sk-container\" hidden><div class=\"sk-item\"><div class=\"sk-estimator sk-toggleable\"><input class=\"sk-toggleable__control sk-hidden--visually\" id=\"sk-estimator-id-16\" type=\"checkbox\" checked><label for=\"sk-estimator-id-16\" class=\"sk-toggleable__label sk-toggleable__label-arrow\">LGBMClassifier</label><div class=\"sk-toggleable__content\"><pre>LGBMClassifier(class_weight=&#x27;balanced&#x27;, learning_rate=0.001, max_depth=10,\n",
       "               n_estimators=2000)</pre></div></div></div></div></div>"
      ],
      "text/plain": [
       "LGBMClassifier(class_weight='balanced', learning_rate=0.001, max_depth=10,\n",
       "               n_estimators=2000)"
      ]
     },
     "execution_count": 227,
     "metadata": {},
     "output_type": "execute_result"
    }
   ],
   "source": [
    "lgbm = lgb.LGBMClassifier(\n",
    "    n_estimators=my_n_estimators,\n",
    "    learning_rate=my_learning_rate,\n",
    "    max_depth=my_max_depth,\n",
    "    class_weight='balanced'  # 클래스 불균형시 유리\n",
    ")\n",
    "lgbm"
   ]
  },
  {
   "cell_type": "markdown",
   "id": "ea9d753b",
   "metadata": {},
   "source": [
    "# 모델 학습"
   ]
  },
  {
   "cell_type": "code",
   "execution_count": 228,
   "id": "7bcd719c",
   "metadata": {},
   "outputs": [
    {
     "name": "stdout",
     "output_type": "stream",
     "text": [
      "[LightGBM] [Info] Auto-choosing row-wise multi-threading, the overhead of testing was 0.008423 seconds.\n",
      "You can set `force_row_wise=true` to remove the overhead.\n",
      "And if memory is not enough, you can set `force_col_wise=true`.\n",
      "[LightGBM] [Info] Total Bins 1593\n",
      "[LightGBM] [Info] Number of data points in the train set: 366582, number of used features: 16\n",
      "[LightGBM] [Info] Start training from score -1.609438\n",
      "[LightGBM] [Info] Start training from score -1.609438\n",
      "[LightGBM] [Info] Start training from score -1.609438\n",
      "[LightGBM] [Info] Start training from score -1.609438\n",
      "[LightGBM] [Info] Start training from score -1.609438\n",
      "[20]\tvalid_0's multi_logloss: 1.55587\tvalid_1's multi_logloss: 1.55596\n",
      "[40]\tvalid_0's multi_logloss: 1.50621\tvalid_1's multi_logloss: 1.50637\n",
      "[60]\tvalid_0's multi_logloss: 1.46003\tvalid_1's multi_logloss: 1.46025\n",
      "[80]\tvalid_0's multi_logloss: 1.41688\tvalid_1's multi_logloss: 1.41715\n",
      "[100]\tvalid_0's multi_logloss: 1.37634\tvalid_1's multi_logloss: 1.37666\n",
      "[120]\tvalid_0's multi_logloss: 1.33804\tvalid_1's multi_logloss: 1.33842\n",
      "[140]\tvalid_0's multi_logloss: 1.30197\tvalid_1's multi_logloss: 1.3024\n",
      "[160]\tvalid_0's multi_logloss: 1.2679\tvalid_1's multi_logloss: 1.26838\n",
      "[180]\tvalid_0's multi_logloss: 1.23566\tvalid_1's multi_logloss: 1.23618\n",
      "[200]\tvalid_0's multi_logloss: 1.20505\tvalid_1's multi_logloss: 1.20558\n",
      "[220]\tvalid_0's multi_logloss: 1.17601\tvalid_1's multi_logloss: 1.17654\n",
      "[240]\tvalid_0's multi_logloss: 1.14835\tvalid_1's multi_logloss: 1.14889\n",
      "[260]\tvalid_0's multi_logloss: 1.12199\tvalid_1's multi_logloss: 1.12255\n",
      "[280]\tvalid_0's multi_logloss: 1.09686\tvalid_1's multi_logloss: 1.09743\n",
      "[300]\tvalid_0's multi_logloss: 1.07289\tvalid_1's multi_logloss: 1.07347\n",
      "[320]\tvalid_0's multi_logloss: 1.04998\tvalid_1's multi_logloss: 1.05057\n",
      "[340]\tvalid_0's multi_logloss: 1.02814\tvalid_1's multi_logloss: 1.02873\n",
      "[360]\tvalid_0's multi_logloss: 1.00726\tvalid_1's multi_logloss: 1.00785\n",
      "[380]\tvalid_0's multi_logloss: 0.987315\tvalid_1's multi_logloss: 0.987899\n",
      "[400]\tvalid_0's multi_logloss: 0.968228\tvalid_1's multi_logloss: 0.96881\n",
      "[420]\tvalid_0's multi_logloss: 0.949921\tvalid_1's multi_logloss: 0.950488\n",
      "[440]\tvalid_0's multi_logloss: 0.932352\tvalid_1's multi_logloss: 0.932919\n",
      "[460]\tvalid_0's multi_logloss: 0.915512\tvalid_1's multi_logloss: 0.916086\n",
      "[480]\tvalid_0's multi_logloss: 0.899321\tvalid_1's multi_logloss: 0.899905\n",
      "[500]\tvalid_0's multi_logloss: 0.883736\tvalid_1's multi_logloss: 0.884338\n",
      "[520]\tvalid_0's multi_logloss: 0.86884\tvalid_1's multi_logloss: 0.869466\n",
      "[540]\tvalid_0's multi_logloss: 0.85455\tvalid_1's multi_logloss: 0.855203\n",
      "[560]\tvalid_0's multi_logloss: 0.840867\tvalid_1's multi_logloss: 0.841533\n",
      "[580]\tvalid_0's multi_logloss: 0.827644\tvalid_1's multi_logloss: 0.828324\n",
      "[600]\tvalid_0's multi_logloss: 0.814933\tvalid_1's multi_logloss: 0.815627\n",
      "[620]\tvalid_0's multi_logloss: 0.802703\tvalid_1's multi_logloss: 0.80341\n",
      "[640]\tvalid_0's multi_logloss: 0.790872\tvalid_1's multi_logloss: 0.791591\n",
      "[660]\tvalid_0's multi_logloss: 0.77948\tvalid_1's multi_logloss: 0.780207\n",
      "[680]\tvalid_0's multi_logloss: 0.768478\tvalid_1's multi_logloss: 0.769208\n",
      "[700]\tvalid_0's multi_logloss: 0.757877\tvalid_1's multi_logloss: 0.758605\n",
      "[720]\tvalid_0's multi_logloss: 0.747631\tvalid_1's multi_logloss: 0.748379\n",
      "[740]\tvalid_0's multi_logloss: 0.737802\tvalid_1's multi_logloss: 0.738578\n",
      "[760]\tvalid_0's multi_logloss: 0.728369\tvalid_1's multi_logloss: 0.729166\n",
      "[780]\tvalid_0's multi_logloss: 0.719276\tvalid_1's multi_logloss: 0.72009\n",
      "[800]\tvalid_0's multi_logloss: 0.710514\tvalid_1's multi_logloss: 0.711349\n",
      "[820]\tvalid_0's multi_logloss: 0.702046\tvalid_1's multi_logloss: 0.702898\n",
      "[840]\tvalid_0's multi_logloss: 0.69384\tvalid_1's multi_logloss: 0.694709\n",
      "[860]\tvalid_0's multi_logloss: 0.685894\tvalid_1's multi_logloss: 0.686777\n",
      "[880]\tvalid_0's multi_logloss: 0.67823\tvalid_1's multi_logloss: 0.679136\n",
      "[900]\tvalid_0's multi_logloss: 0.670797\tvalid_1's multi_logloss: 0.671723\n",
      "[920]\tvalid_0's multi_logloss: 0.663575\tvalid_1's multi_logloss: 0.664514\n",
      "[940]\tvalid_0's multi_logloss: 0.65659\tvalid_1's multi_logloss: 0.657543\n",
      "[960]\tvalid_0's multi_logloss: 0.649826\tvalid_1's multi_logloss: 0.650794\n",
      "[980]\tvalid_0's multi_logloss: 0.643277\tvalid_1's multi_logloss: 0.644256\n",
      "[1000]\tvalid_0's multi_logloss: 0.636955\tvalid_1's multi_logloss: 0.637943\n",
      "[1020]\tvalid_0's multi_logloss: 0.630878\tvalid_1's multi_logloss: 0.631878\n",
      "[1040]\tvalid_0's multi_logloss: 0.625006\tvalid_1's multi_logloss: 0.626022\n",
      "[1060]\tvalid_0's multi_logloss: 0.61934\tvalid_1's multi_logloss: 0.620375\n",
      "[1080]\tvalid_0's multi_logloss: 0.613849\tvalid_1's multi_logloss: 0.614896\n",
      "[1100]\tvalid_0's multi_logloss: 0.608535\tvalid_1's multi_logloss: 0.609594\n",
      "[1120]\tvalid_0's multi_logloss: 0.603372\tvalid_1's multi_logloss: 0.604452\n",
      "[1140]\tvalid_0's multi_logloss: 0.59838\tvalid_1's multi_logloss: 0.599495\n",
      "[1160]\tvalid_0's multi_logloss: 0.593552\tvalid_1's multi_logloss: 0.594684\n",
      "[1180]\tvalid_0's multi_logloss: 0.588816\tvalid_1's multi_logloss: 0.589976\n",
      "[1200]\tvalid_0's multi_logloss: 0.584181\tvalid_1's multi_logloss: 0.585364\n",
      "[1220]\tvalid_0's multi_logloss: 0.579721\tvalid_1's multi_logloss: 0.580926\n",
      "[1240]\tvalid_0's multi_logloss: 0.575403\tvalid_1's multi_logloss: 0.576633\n",
      "[1260]\tvalid_0's multi_logloss: 0.57119\tvalid_1's multi_logloss: 0.572446\n",
      "[1280]\tvalid_0's multi_logloss: 0.567103\tvalid_1's multi_logloss: 0.568383\n",
      "[1300]\tvalid_0's multi_logloss: 0.563132\tvalid_1's multi_logloss: 0.564438\n",
      "[1320]\tvalid_0's multi_logloss: 0.559222\tvalid_1's multi_logloss: 0.560557\n",
      "[1340]\tvalid_0's multi_logloss: 0.555433\tvalid_1's multi_logloss: 0.556797\n",
      "[1360]\tvalid_0's multi_logloss: 0.551774\tvalid_1's multi_logloss: 0.553168\n",
      "[1380]\tvalid_0's multi_logloss: 0.54824\tvalid_1's multi_logloss: 0.549662\n",
      "[1400]\tvalid_0's multi_logloss: 0.544807\tvalid_1's multi_logloss: 0.546256\n",
      "[1420]\tvalid_0's multi_logloss: 0.541471\tvalid_1's multi_logloss: 0.542947\n",
      "[1440]\tvalid_0's multi_logloss: 0.53824\tvalid_1's multi_logloss: 0.539743\n",
      "[1460]\tvalid_0's multi_logloss: 0.535034\tvalid_1's multi_logloss: 0.536567\n",
      "[1480]\tvalid_0's multi_logloss: 0.531792\tvalid_1's multi_logloss: 0.533343\n",
      "[1500]\tvalid_0's multi_logloss: 0.528668\tvalid_1's multi_logloss: 0.530228\n",
      "[1520]\tvalid_0's multi_logloss: 0.525618\tvalid_1's multi_logloss: 0.527192\n",
      "[1540]\tvalid_0's multi_logloss: 0.522704\tvalid_1's multi_logloss: 0.524293\n",
      "[1560]\tvalid_0's multi_logloss: 0.519942\tvalid_1's multi_logloss: 0.521551\n",
      "[1580]\tvalid_0's multi_logloss: 0.517235\tvalid_1's multi_logloss: 0.518863\n",
      "[1600]\tvalid_0's multi_logloss: 0.514552\tvalid_1's multi_logloss: 0.516197\n",
      "[1620]\tvalid_0's multi_logloss: 0.511967\tvalid_1's multi_logloss: 0.513626\n",
      "[1640]\tvalid_0's multi_logloss: 0.509437\tvalid_1's multi_logloss: 0.511106\n",
      "[1660]\tvalid_0's multi_logloss: 0.507048\tvalid_1's multi_logloss: 0.508731\n",
      "[1680]\tvalid_0's multi_logloss: 0.504734\tvalid_1's multi_logloss: 0.50644\n",
      "[1700]\tvalid_0's multi_logloss: 0.502459\tvalid_1's multi_logloss: 0.504185\n",
      "[1720]\tvalid_0's multi_logloss: 0.500243\tvalid_1's multi_logloss: 0.50199\n",
      "[1740]\tvalid_0's multi_logloss: 0.498071\tvalid_1's multi_logloss: 0.499838\n",
      "[1760]\tvalid_0's multi_logloss: 0.495928\tvalid_1's multi_logloss: 0.497709\n",
      "[1780]\tvalid_0's multi_logloss: 0.493824\tvalid_1's multi_logloss: 0.49562\n",
      "[1800]\tvalid_0's multi_logloss: 0.49177\tvalid_1's multi_logloss: 0.49358\n",
      "[1820]\tvalid_0's multi_logloss: 0.489708\tvalid_1's multi_logloss: 0.491528\n",
      "[1840]\tvalid_0's multi_logloss: 0.487654\tvalid_1's multi_logloss: 0.489462\n",
      "[1860]\tvalid_0's multi_logloss: 0.485655\tvalid_1's multi_logloss: 0.487459\n",
      "[1880]\tvalid_0's multi_logloss: 0.483635\tvalid_1's multi_logloss: 0.485427\n",
      "[1900]\tvalid_0's multi_logloss: 0.481651\tvalid_1's multi_logloss: 0.483438\n",
      "[1920]\tvalid_0's multi_logloss: 0.479733\tvalid_1's multi_logloss: 0.481518\n",
      "[1940]\tvalid_0's multi_logloss: 0.477884\tvalid_1's multi_logloss: 0.479671\n",
      "[1960]\tvalid_0's multi_logloss: 0.476089\tvalid_1's multi_logloss: 0.477873\n",
      "[1980]\tvalid_0's multi_logloss: 0.474321\tvalid_1's multi_logloss: 0.476103\n",
      "[2000]\tvalid_0's multi_logloss: 0.472635\tvalid_1's multi_logloss: 0.474412\n"
     ]
    },
    {
     "data": {
      "text/html": [
       "<style>#sk-container-id-17 {color: black;background-color: white;}#sk-container-id-17 pre{padding: 0;}#sk-container-id-17 div.sk-toggleable {background-color: white;}#sk-container-id-17 label.sk-toggleable__label {cursor: pointer;display: block;width: 100%;margin-bottom: 0;padding: 0.3em;box-sizing: border-box;text-align: center;}#sk-container-id-17 label.sk-toggleable__label-arrow:before {content: \"▸\";float: left;margin-right: 0.25em;color: #696969;}#sk-container-id-17 label.sk-toggleable__label-arrow:hover:before {color: black;}#sk-container-id-17 div.sk-estimator:hover label.sk-toggleable__label-arrow:before {color: black;}#sk-container-id-17 div.sk-toggleable__content {max-height: 0;max-width: 0;overflow: hidden;text-align: left;background-color: #f0f8ff;}#sk-container-id-17 div.sk-toggleable__content pre {margin: 0.2em;color: black;border-radius: 0.25em;background-color: #f0f8ff;}#sk-container-id-17 input.sk-toggleable__control:checked~div.sk-toggleable__content {max-height: 200px;max-width: 100%;overflow: auto;}#sk-container-id-17 input.sk-toggleable__control:checked~label.sk-toggleable__label-arrow:before {content: \"▾\";}#sk-container-id-17 div.sk-estimator input.sk-toggleable__control:checked~label.sk-toggleable__label {background-color: #d4ebff;}#sk-container-id-17 div.sk-label input.sk-toggleable__control:checked~label.sk-toggleable__label {background-color: #d4ebff;}#sk-container-id-17 input.sk-hidden--visually {border: 0;clip: rect(1px 1px 1px 1px);clip: rect(1px, 1px, 1px, 1px);height: 1px;margin: -1px;overflow: hidden;padding: 0;position: absolute;width: 1px;}#sk-container-id-17 div.sk-estimator {font-family: monospace;background-color: #f0f8ff;border: 1px dotted black;border-radius: 0.25em;box-sizing: border-box;margin-bottom: 0.5em;}#sk-container-id-17 div.sk-estimator:hover {background-color: #d4ebff;}#sk-container-id-17 div.sk-parallel-item::after {content: \"\";width: 100%;border-bottom: 1px solid gray;flex-grow: 1;}#sk-container-id-17 div.sk-label:hover label.sk-toggleable__label {background-color: #d4ebff;}#sk-container-id-17 div.sk-serial::before {content: \"\";position: absolute;border-left: 1px solid gray;box-sizing: border-box;top: 0;bottom: 0;left: 50%;z-index: 0;}#sk-container-id-17 div.sk-serial {display: flex;flex-direction: column;align-items: center;background-color: white;padding-right: 0.2em;padding-left: 0.2em;position: relative;}#sk-container-id-17 div.sk-item {position: relative;z-index: 1;}#sk-container-id-17 div.sk-parallel {display: flex;align-items: stretch;justify-content: center;background-color: white;position: relative;}#sk-container-id-17 div.sk-item::before, #sk-container-id-17 div.sk-parallel-item::before {content: \"\";position: absolute;border-left: 1px solid gray;box-sizing: border-box;top: 0;bottom: 0;left: 50%;z-index: -1;}#sk-container-id-17 div.sk-parallel-item {display: flex;flex-direction: column;z-index: 1;position: relative;background-color: white;}#sk-container-id-17 div.sk-parallel-item:first-child::after {align-self: flex-end;width: 50%;}#sk-container-id-17 div.sk-parallel-item:last-child::after {align-self: flex-start;width: 50%;}#sk-container-id-17 div.sk-parallel-item:only-child::after {width: 0;}#sk-container-id-17 div.sk-dashed-wrapped {border: 1px dashed gray;margin: 0 0.4em 0.5em 0.4em;box-sizing: border-box;padding-bottom: 0.4em;background-color: white;}#sk-container-id-17 div.sk-label label {font-family: monospace;font-weight: bold;display: inline-block;line-height: 1.2em;}#sk-container-id-17 div.sk-label-container {text-align: center;}#sk-container-id-17 div.sk-container {/* jupyter's `normalize.less` sets `[hidden] { display: none; }` but bootstrap.min.css set `[hidden] { display: none !important; }` so we also need the `!important` here to be able to override the default hidden behavior on the sphinx rendered scikit-learn.org. See: https://github.com/scikit-learn/scikit-learn/issues/21755 */display: inline-block !important;position: relative;}#sk-container-id-17 div.sk-text-repr-fallback {display: none;}</style><div id=\"sk-container-id-17\" class=\"sk-top-container\"><div class=\"sk-text-repr-fallback\"><pre>LGBMClassifier(class_weight=&#x27;balanced&#x27;, learning_rate=0.001, max_depth=10,\n",
       "               n_estimators=2000)</pre><b>In a Jupyter environment, please rerun this cell to show the HTML representation or trust the notebook. <br />On GitHub, the HTML representation is unable to render, please try loading this page with nbviewer.org.</b></div><div class=\"sk-container\" hidden><div class=\"sk-item\"><div class=\"sk-estimator sk-toggleable\"><input class=\"sk-toggleable__control sk-hidden--visually\" id=\"sk-estimator-id-17\" type=\"checkbox\" checked><label for=\"sk-estimator-id-17\" class=\"sk-toggleable__label sk-toggleable__label-arrow\">LGBMClassifier</label><div class=\"sk-toggleable__content\"><pre>LGBMClassifier(class_weight=&#x27;balanced&#x27;, learning_rate=0.001, max_depth=10,\n",
       "               n_estimators=2000)</pre></div></div></div></div></div>"
      ],
      "text/plain": [
       "LGBMClassifier(class_weight='balanced', learning_rate=0.001, max_depth=10,\n",
       "               n_estimators=2000)"
      ]
     },
     "execution_count": 228,
     "metadata": {},
     "output_type": "execute_result"
    }
   ],
   "source": [
    "from lightgbm.callback import log_evaluation, record_evaluation\n",
    "\n",
    "evals_result = {}\n",
    "\n",
    "lgbm.fit(\n",
    "    train_X, train_y.ravel(),\n",
    "    eval_set=[(train_X, train_y.ravel()), (val_X, val_y.ravel())],\n",
    "    eval_metric='multi_logloss',\n",
    "    callbacks=[log_evaluation(20), record_evaluation(evals_result)],\n",
    ")"
   ]
  },
  {
   "cell_type": "markdown",
   "id": "205bc93b",
   "metadata": {},
   "source": [
    "# feature importance 시각화"
   ]
  },
  {
   "cell_type": "code",
   "execution_count": 229,
   "id": "e0c8a4fc",
   "metadata": {},
   "outputs": [
    {
     "data": {
      "image/png": "[encoded data removed]",
      "text/plain": [
       "<Figure size 1000x600 with 1 Axes>"
      ]
     },
     "metadata": {},
     "output_type": "display_data"
    }
   ],
   "source": [
    "import matplotlib.pyplot as plt\n",
    "\n",
    "lgb.plot_importance(lgbm, max_num_features=10, importance_type='gain', figsize=(10,6))\n",
    "plt.title('LightGBM Feature Importance (gain)')\n",
    "plt.show()"
   ]
  },
  {
   "cell_type": "code",
   "execution_count": 3,
   "id": "7fcbd315",
   "metadata": {},
   "outputs": [],
   "source": [
    "import joblib\n",
    "from lightgbm import LGBMClassifier\n",
    "from sklearn.metrics import accuracy_score, recall_score, precision_score, f1_score, classification_report"
   ]
  },
  {
   "cell_type": "code",
   "execution_count": 9,
   "id": "d925f6ab",
   "metadata": {},
   "outputs": [
    {
     "name": "stderr",
     "output_type": "stream",
     "text": [
      "C:\\Users\\Admin\\anaconda3\\envs\\ml-dl-nlp\\lib\\site-packages\\sklearn\\base.py:318: UserWarning: Trying to unpickle estimator LabelEncoder from version 1.2.1 when using version 1.2.2. This might lead to breaking code or invalid results. Use at your own risk. For more info please refer to:\n",
      "https://scikit-learn.org/stable/model_persistence.html#security-maintainability-limitations\n",
      "  warnings.warn(\n"
     ]
    },
    {
     "data": {
      "text/plain": [
       "['연도',\n",
       " '월',\n",
       " '일',\n",
       " '시',\n",
       " '행정구',\n",
       " '총생활인구수',\n",
       " '계절',\n",
       " '출퇴근시간여부',\n",
       " '주말구분',\n",
       " '강수',\n",
       " '기온',\n",
       " '습도',\n",
       " '풍속',\n",
       " '공공자전거대여량',\n",
       " '공휴일',\n",
       " '1년전_총생활인구수',\n",
       " '1년전_PM대여량']"
      ]
     },
     "execution_count": 9,
     "metadata": {},
     "output_type": "execute_result"
    }
   ],
   "source": [
    "model = joblib.load('M2_categorical_LGBM.pkl')\n",
    "cols_X = ['연도','월','일','시','행정구','총생활인구수','계절','출퇴근시간여부','주말구분','강수','기온','습도','풍속','공공자전거대여량','공휴일','1년전_총생활인구수','1년전_PM대여량']\n",
    "cols_X"
   ]
  },
  {
   "cell_type": "code",
   "execution_count": 28,
   "id": "a7af64f0",
   "metadata": {},
   "outputs": [
    {
     "name": "stdout",
     "output_type": "stream",
     "text": [
      "feature 개수 : 17\n"
     ]
    },
    {
     "data": {
      "text/html": [
       "<div>\n",
       "<style scoped>\n",
       "    .dataframe tbody tr th:only-of-type {\n",
       "        vertical-align: middle;\n",
       "    }\n",
       "\n",
       "    .dataframe tbody tr th {\n",
       "        vertical-align: top;\n",
       "    }\n",
       "\n",
       "    .dataframe thead th {\n",
       "        text-align: right;\n",
       "    }\n",
       "</style>\n",
       "<table border=\"1\" class=\"dataframe\">\n",
       "  <thead>\n",
       "    <tr style=\"text-align: right;\">\n",
       "      <th></th>\n",
       "      <th>feature</th>\n",
       "      <th>feature_importance</th>\n",
       "    </tr>\n",
       "  </thead>\n",
       "  <tbody>\n",
       "    <tr>\n",
       "      <th>0</th>\n",
       "      <td>연도</td>\n",
       "      <td>0</td>\n",
       "    </tr>\n",
       "    <tr>\n",
       "      <th>2</th>\n",
       "      <td>일</td>\n",
       "      <td>0</td>\n",
       "    </tr>\n",
       "    <tr>\n",
       "      <th>9</th>\n",
       "      <td>강수</td>\n",
       "      <td>0</td>\n",
       "    </tr>\n",
       "    <tr>\n",
       "      <th>11</th>\n",
       "      <td>습도</td>\n",
       "      <td>0</td>\n",
       "    </tr>\n",
       "    <tr>\n",
       "      <th>12</th>\n",
       "      <td>풍속</td>\n",
       "      <td>0</td>\n",
       "    </tr>\n",
       "    <tr>\n",
       "      <th>14</th>\n",
       "      <td>공휴일</td>\n",
       "      <td>0</td>\n",
       "    </tr>\n",
       "    <tr>\n",
       "      <th>6</th>\n",
       "      <td>계절</td>\n",
       "      <td>644</td>\n",
       "    </tr>\n",
       "    <tr>\n",
       "      <th>1</th>\n",
       "      <td>월</td>\n",
       "      <td>743</td>\n",
       "    </tr>\n",
       "    <tr>\n",
       "      <th>13</th>\n",
       "      <td>공공자전거대여량</td>\n",
       "      <td>824</td>\n",
       "    </tr>\n",
       "    <tr>\n",
       "      <th>10</th>\n",
       "      <td>기온</td>\n",
       "      <td>995</td>\n",
       "    </tr>\n",
       "    <tr>\n",
       "      <th>5</th>\n",
       "      <td>총생활인구수</td>\n",
       "      <td>1013</td>\n",
       "    </tr>\n",
       "    <tr>\n",
       "      <th>7</th>\n",
       "      <td>출퇴근시간여부</td>\n",
       "      <td>1730</td>\n",
       "    </tr>\n",
       "    <tr>\n",
       "      <th>4</th>\n",
       "      <td>행정구</td>\n",
       "      <td>2236</td>\n",
       "    </tr>\n",
       "    <tr>\n",
       "      <th>15</th>\n",
       "      <td>1년전_총생활인구수</td>\n",
       "      <td>2500</td>\n",
       "    </tr>\n",
       "    <tr>\n",
       "      <th>3</th>\n",
       "      <td>시</td>\n",
       "      <td>4699</td>\n",
       "    </tr>\n",
       "    <tr>\n",
       "      <th>8</th>\n",
       "      <td>주말구분</td>\n",
       "      <td>6667</td>\n",
       "    </tr>\n",
       "    <tr>\n",
       "      <th>16</th>\n",
       "      <td>1년전_PM대여량</td>\n",
       "      <td>7949</td>\n",
       "    </tr>\n",
       "  </tbody>\n",
       "</table>\n",
       "</div>"
      ],
      "text/plain": [
       "       feature  feature_importance\n",
       "0           연도                   0\n",
       "2            일                   0\n",
       "9           강수                   0\n",
       "11          습도                   0\n",
       "12          풍속                   0\n",
       "14         공휴일                   0\n",
       "6           계절                 644\n",
       "1            월                 743\n",
       "13    공공자전거대여량                 824\n",
       "10          기온                 995\n",
       "5       총생활인구수                1013\n",
       "7      출퇴근시간여부                1730\n",
       "4          행정구                2236\n",
       "15  1년전_총생활인구수                2500\n",
       "3            시                4699\n",
       "8         주말구분                6667\n",
       "16   1년전_PM대여량                7949"
      ]
     },
     "metadata": {},
     "output_type": "display_data"
    },
    {
     "name": "stdout",
     "output_type": "stream",
     "text": [
      "[    0     0     0     0     0     0   644  1387  2211  3206  4219  5949\n",
      "  8185 10685 15384 22051 30000]\n"
     ]
    },
    {
     "data": {
      "text/plain": [
       "(None, None)"
      ]
     },
     "execution_count": 28,
     "metadata": {},
     "output_type": "execute_result"
    }
   ],
   "source": [
    "import pandas as pd\n",
    "import numpy as np\n",
    "print('feature 개수 :',len(model.feature_importances_))\n",
    "df = pd.DataFrame(list(zip(cols_X, model.feature_importances_)),columns=['feature','feature_importance'])\n",
    "df.sort_values(by='feature_importance', inplace=True)\n",
    "cum_sum = np.cumsum(df['feature_importance'].values)\n",
    "display(df), print(cum_sum)"
   ]
  },
  {
   "cell_type": "code",
   "execution_count": 38,
   "id": "a960effa",
   "metadata": {},
   "outputs": [
    {
     "data": {
      "image/png": "[encoded data removed]",
      "text/plain": [
       "<Figure size 1600x900 with 1 Axes>"
      ]
     },
     "metadata": {},
     "output_type": "display_data"
    }
   ],
   "source": [
    "import matplotlib.pyplot as plt\n",
    "plt.rc('font', family = \"Malgun Gothic\")\n",
    "plt.figure(figsize=(16,9))\n",
    "plt.plot(df['feature'].values,cum_sum, marker='o', c='k')\n",
    "plt.bar(df['feature'].values,cum_sum)\n",
    "plt.xticks(rotation=45)\n",
    "plt.show()"
   ]
  },
  {
   "cell_type": "markdown",
   "id": "05a7ba1f",
   "metadata": {},
   "source": [
    "## 모델의 feature_importance_ 결과에서 0에 수렴하는 ['연도', '일',' 강수', '습도', '풍속', '공휴일']의 경우 모델 결과가 불만족 스럽다면 제외하고 학습 시도"
   ]
  },
  {
   "cell_type": "markdown",
   "id": "70086d13",
   "metadata": {},
   "source": [
    "# 학습과정 시각화"
   ]
  },
  {
   "cell_type": "code",
   "execution_count": 230,
   "id": "31863ebf",
   "metadata": {},
   "outputs": [],
   "source": [
    "train_loss = evals_result['valid_0']['multi_logloss']\n",
    "val_loss = evals_result['valid_1']['multi_logloss']"
   ]
  },
  {
   "cell_type": "code",
   "execution_count": 231,
   "id": "8cda69ba",
   "metadata": {},
   "outputs": [
    {
     "data": {
      "text/plain": [
       "array([-4.36646203e-06, -8.72190510e-06, -1.31169998e-05, ...,\n",
       "       -1.77717595e-03, -1.77708896e-03, -1.77733163e-03])"
      ]
     },
     "execution_count": 231,
     "metadata": {},
     "output_type": "execute_result"
    }
   ],
   "source": [
    "train_loss, val_loss, \n",
    "np.array(train_loss) - np.array(val_loss)"
   ]
  },
  {
   "cell_type": "code",
   "execution_count": 233,
   "id": "4f121a32",
   "metadata": {},
   "outputs": [
    {
     "data": {
      "text/plain": [
       "2000"
      ]
     },
     "execution_count": 233,
     "metadata": {},
     "output_type": "execute_result"
    }
   ],
   "source": [
    "len(train_loss)"
   ]
  },
  {
   "cell_type": "code",
   "execution_count": 234,
   "id": "01a3b124",
   "metadata": {
    "collapsed": true
   },
   "outputs": [
    {
     "name": "stdout",
     "output_type": "stream",
     "text": [
      "10번째 진행\n",
      "20번째 진행\n",
      "30번째 진행\n",
      "40번째 진행\n",
      "50번째 진행\n",
      "60번째 진행\n",
      "70번째 진행\n",
      "80번째 진행\n",
      "90번째 진행\n",
      "100번째 진행\n",
      "110번째 진행\n",
      "120번째 진행\n",
      "130번째 진행\n",
      "140번째 진행\n",
      "150번째 진행\n",
      "160번째 진행\n",
      "170번째 진행\n",
      "180번째 진행\n",
      "190번째 진행\n",
      "200번째 진행\n",
      "210번째 진행\n",
      "220번째 진행\n",
      "230번째 진행\n",
      "240번째 진행\n",
      "250번째 진행\n",
      "260번째 진행\n",
      "270번째 진행\n",
      "280번째 진행\n",
      "290번째 진행\n",
      "300번째 진행\n",
      "310번째 진행\n",
      "320번째 진행\n",
      "330번째 진행\n",
      "340번째 진행\n",
      "350번째 진행\n",
      "360번째 진행\n",
      "370번째 진행\n",
      "380번째 진행\n",
      "390번째 진행\n",
      "400번째 진행\n",
      "410번째 진행\n",
      "420번째 진행\n",
      "430번째 진행\n",
      "440번째 진행\n",
      "450번째 진행\n",
      "460번째 진행\n",
      "470번째 진행\n",
      "480번째 진행\n",
      "490번째 진행\n",
      "500번째 진행\n",
      "510번째 진행\n",
      "520번째 진행\n",
      "530번째 진행\n",
      "540번째 진행\n",
      "550번째 진행\n",
      "560번째 진행\n",
      "570번째 진행\n",
      "580번째 진행\n",
      "590번째 진행\n",
      "600번째 진행\n",
      "610번째 진행\n",
      "620번째 진행\n",
      "630번째 진행\n",
      "640번째 진행\n",
      "650번째 진행\n",
      "660번째 진행\n",
      "670번째 진행\n",
      "680번째 진행\n",
      "690번째 진행\n",
      "700번째 진행\n",
      "710번째 진행\n",
      "720번째 진행\n",
      "730번째 진행\n",
      "740번째 진행\n",
      "750번째 진행\n",
      "760번째 진행\n",
      "770번째 진행\n",
      "780번째 진행\n",
      "790번째 진행\n",
      "800번째 진행\n",
      "810번째 진행\n",
      "820번째 진행\n",
      "830번째 진행\n",
      "840번째 진행\n",
      "850번째 진행\n",
      "860번째 진행\n",
      "870번째 진행\n",
      "880번째 진행\n",
      "890번째 진행\n",
      "900번째 진행\n",
      "910번째 진행\n",
      "920번째 진행\n",
      "930번째 진행\n",
      "940번째 진행\n",
      "950번째 진행\n",
      "960번째 진행\n",
      "970번째 진행\n",
      "980번째 진행\n",
      "990번째 진행\n",
      "1000번째 진행\n",
      "1010번째 진행\n",
      "1020번째 진행\n",
      "1030번째 진행\n",
      "1040번째 진행\n",
      "1050번째 진행\n",
      "1060번째 진행\n",
      "1070번째 진행\n",
      "1080번째 진행\n",
      "1090번째 진행\n",
      "1100번째 진행\n",
      "1110번째 진행\n",
      "1120번째 진행\n",
      "1130번째 진행\n",
      "1140번째 진행\n",
      "1150번째 진행\n",
      "1160번째 진행\n",
      "1170번째 진행\n",
      "1180번째 진행\n",
      "1190번째 진행\n",
      "1200번째 진행\n",
      "1210번째 진행\n",
      "1220번째 진행\n",
      "1230번째 진행\n",
      "1240번째 진행\n",
      "1250번째 진행\n",
      "1260번째 진행\n",
      "1270번째 진행\n",
      "1280번째 진행\n",
      "1290번째 진행\n",
      "1300번째 진행\n",
      "1310번째 진행\n",
      "1320번째 진행\n",
      "1330번째 진행\n",
      "1340번째 진행\n",
      "1350번째 진행\n",
      "1360번째 진행\n",
      "1370번째 진행\n",
      "1380번째 진행\n",
      "1390번째 진행\n",
      "1400번째 진행\n",
      "1410번째 진행\n",
      "1420번째 진행\n",
      "1430번째 진행\n",
      "1440번째 진행\n",
      "1450번째 진행\n",
      "1460번째 진행\n",
      "1470번째 진행\n",
      "1480번째 진행\n",
      "1490번째 진행\n",
      "1500번째 진행\n",
      "1510번째 진행\n",
      "1520번째 진행\n",
      "1530번째 진행\n",
      "1540번째 진행\n",
      "1550번째 진행\n",
      "1560번째 진행\n",
      "1570번째 진행\n",
      "1580번째 진행\n",
      "1590번째 진행\n",
      "1600번째 진행\n",
      "1610번째 진행\n",
      "1620번째 진행\n",
      "1630번째 진행\n",
      "1640번째 진행\n",
      "1650번째 진행\n",
      "1660번째 진행\n",
      "1670번째 진행\n",
      "1680번째 진행\n",
      "1690번째 진행\n",
      "1700번째 진행\n",
      "1710번째 진행\n",
      "1720번째 진행\n",
      "1730번째 진행\n",
      "1740번째 진행\n",
      "1750번째 진행\n",
      "1760번째 진행\n",
      "1770번째 진행\n",
      "1780번째 진행\n",
      "1790번째 진행\n",
      "1800번째 진행\n",
      "1810번째 진행\n",
      "1820번째 진행\n",
      "1830번째 진행\n",
      "1840번째 진행\n",
      "1850번째 진행\n",
      "1860번째 진행\n",
      "1870번째 진행\n",
      "1880번째 진행\n",
      "1890번째 진행\n",
      "1900번째 진행\n",
      "1910번째 진행\n",
      "1920번째 진행\n",
      "1930번째 진행\n",
      "1940번째 진행\n",
      "1950번째 진행\n",
      "1960번째 진행\n",
      "1970번째 진행\n",
      "1980번째 진행\n",
      "1990번째 진행\n",
      "2000번째 진행\n"
     ]
    }
   ],
   "source": [
    "import matplotlib.pyplot as plt\n",
    "plt.rc('font', family = \"Malgun Gothic\")\n",
    "train_acc = []\n",
    "val_acc = []\n",
    "\n",
    "for i in range(1, len(train_loss) + 1):  # train_loss는 boosting round 개수와 같음\n",
    "    # 각 iteration별 예측\n",
    "    if i%50 == 0 :\n",
    "        print(f\"{i}번째 진행\")\n",
    "    y_pred_train = lgbm.predict(train_X, num_iteration=i)\n",
    "    y_pred_val = lgbm.predict(val_X, num_iteration=i)\n",
    "    train_acc.append(accuracy_score(train_y, y_pred_train))\n",
    "    val_acc.append(accuracy_score(val_y, y_pred_val))"
   ]
  },
  {
   "cell_type": "code",
   "execution_count": 235,
   "id": "ca670dc6",
   "metadata": {},
   "outputs": [
    {
     "data": {
      "image/png": "[encoded data removed]",
      "text/plain": [
       "<Figure size 1000x500 with 2 Axes>"
      ]
     },
     "metadata": {},
     "output_type": "display_data"
    }
   ],
   "source": [
    "fig, ax1 = plt.subplots(figsize=(10,5))\n",
    "# accuracy 곡선 그리기\n",
    "ax1.plot(train_acc, label='Train Accuracy')\n",
    "ax1.plot(val_acc, label='Val Accuracy')\n",
    "ax1.set_xlabel('iteration(epochs)')\n",
    "ax1.set_ylabel('accuracy')\n",
    "ax1.legend(loc=(0.8,0.7))\n",
    "\n",
    "ax2 = ax1.twinx()\n",
    "ax2.plot(val_loss, label='Val Loss',color='red')\n",
    "ax2.plot(train_loss, label='Train Loss',color='blue')\n",
    "ax2.set_ylim((1.18,1.7))\n",
    "ax2.set_ylabel('loss')\n",
    "ax2.legend(loc=(0.8,0.5))\n",
    "plt.title('LightGBM')\n",
    "plt.show()"
   ]
  },
  {
   "cell_type": "markdown",
   "id": "68b33a57",
   "metadata": {},
   "source": [
    "## val_loss와 train_loss 차이가 1e-3 이하로 몹시 작아 그래프 상 겹친 것과 같이 보임\n",
    "## accuracy가 2000개의 boosting에서 지속 상승 중으로 n_estimators를 증가시켜서 재시도"
   ]
  },
  {
   "cell_type": "markdown",
   "id": "154c078b",
   "metadata": {},
   "source": [
    "# 모델의 평가"
   ]
  },
  {
   "cell_type": "code",
   "execution_count": 236,
   "id": "8d9af31f",
   "metadata": {},
   "outputs": [],
   "source": [
    "test_y\n",
    "y_pred = lgbm.predict(test_X)"
   ]
  },
  {
   "cell_type": "code",
   "execution_count": 40,
   "id": "c42ef55c",
   "metadata": {},
   "outputs": [
    {
     "name": "stdout",
     "output_type": "stream",
     "text": [
      "accuracy : 0.78 %\n",
      "precision : 0.84 %\n",
      "recall : 0.78 %\n",
      "f1_score : 0.8 %\n"
     ]
    }
   ],
   "source": [
    "from sklearn.metrics import precision_score, recall_score, f1_score\n",
    "print('accuracy :',round(accuracy_score(test_y, pred),2), '%')\n",
    "print('precision :',round(precision_score(test_y,pred,average='weighted'),2), '%')\n",
    "print('recall :',round(recall_score(test_y,pred,average='weighted'),2), '%')\n",
    "print('f1_score :',round(f1_score(test_y,pred,average='weighted'),2), '%')"
   ]
  },
  {
   "cell_type": "code",
   "execution_count": 41,
   "id": "819e2da2",
   "metadata": {
    "scrolled": true
   },
   "outputs": [
    {
     "data": {
      "text/html": [
       "<div>\n",
       "<style scoped>\n",
       "    .dataframe tbody tr th:only-of-type {\n",
       "        vertical-align: middle;\n",
       "    }\n",
       "\n",
       "    .dataframe tbody tr th {\n",
       "        vertical-align: top;\n",
       "    }\n",
       "\n",
       "    .dataframe thead th {\n",
       "        text-align: right;\n",
       "    }\n",
       "</style>\n",
       "<table border=\"1\" class=\"dataframe\">\n",
       "  <thead>\n",
       "    <tr style=\"text-align: right;\">\n",
       "      <th>예측값</th>\n",
       "      <th>0</th>\n",
       "      <th>1</th>\n",
       "      <th>2</th>\n",
       "      <th>3</th>\n",
       "      <th>4</th>\n",
       "    </tr>\n",
       "    <tr>\n",
       "      <th>실제값</th>\n",
       "      <th></th>\n",
       "      <th></th>\n",
       "      <th></th>\n",
       "      <th></th>\n",
       "      <th></th>\n",
       "    </tr>\n",
       "  </thead>\n",
       "  <tbody>\n",
       "    <tr>\n",
       "      <th>0</th>\n",
       "      <td>29346</td>\n",
       "      <td>4884</td>\n",
       "      <td>4671</td>\n",
       "      <td>245</td>\n",
       "      <td>3283</td>\n",
       "    </tr>\n",
       "    <tr>\n",
       "      <th>1</th>\n",
       "      <td>271</td>\n",
       "      <td>23582</td>\n",
       "      <td>4185</td>\n",
       "      <td>6</td>\n",
       "      <td>1038</td>\n",
       "    </tr>\n",
       "    <tr>\n",
       "      <th>2</th>\n",
       "      <td>124</td>\n",
       "      <td>1305</td>\n",
       "      <td>9924</td>\n",
       "      <td>1220</td>\n",
       "      <td>0</td>\n",
       "    </tr>\n",
       "    <tr>\n",
       "      <th>3</th>\n",
       "      <td>3</td>\n",
       "      <td>0</td>\n",
       "      <td>608</td>\n",
       "      <td>5050</td>\n",
       "      <td>0</td>\n",
       "    </tr>\n",
       "    <tr>\n",
       "      <th>4</th>\n",
       "      <td>2261</td>\n",
       "      <td>9143</td>\n",
       "      <td>1618</td>\n",
       "      <td>5271</td>\n",
       "      <td>76250</td>\n",
       "    </tr>\n",
       "  </tbody>\n",
       "</table>\n",
       "</div>"
      ],
      "text/plain": [
       "예측값      0      1     2     3      4\n",
       "실제값                                 \n",
       "0    29346   4884  4671   245   3283\n",
       "1      271  23582  4185     6   1038\n",
       "2      124   1305  9924  1220      0\n",
       "3        3      0   608  5050      0\n",
       "4     2261   9143  1618  5271  76250"
      ]
     },
     "metadata": {},
     "output_type": "display_data"
    },
    {
     "data": {
      "image/png": "[encoded data removed]",
      "text/plain": [
       "<Figure size 900x400 with 2 Axes>"
      ]
     },
     "metadata": {},
     "output_type": "display_data"
    }
   ],
   "source": [
    "import seaborn as sns\n",
    "crosstab_y = test_y.reshape(-1)\n",
    "cm_test = pd.crosstab(crosstab_y, pred,rownames=['실제값'],colnames=['예측값'])\n",
    "display(cm_test)\n",
    "plt.figure(figsize=(9,4))\n",
    "sns.heatmap(cm_test.values, annot=True, fmt='d', cmap='Greens')\n",
    "plt.title('Confusion Matrix (Test Set)')\n",
    "plt.xlabel('예측값')\n",
    "plt.ylabel('실제값')\n",
    "plt.show()"
   ]
  },
  {
   "cell_type": "markdown",
   "id": "eeede9a7",
   "metadata": {},
   "source": [
    "## 모델평가 : 원하는 accuracy와 recall, precision, f1_score\n",
    "- 가장 중요한 실제값 4(공급 절대 부족)의 경우 0(공급 과다)로 분류값 또한 양호"
   ]
  },
  {
   "cell_type": "code",
   "execution_count": 32,
   "id": "b9557909",
   "metadata": {},
   "outputs": [],
   "source": [
    "import joblib\n",
    "from lightgbm import LGBMClassifier\n",
    "from sklearn.metrics import accuracy_score, recall_score, precision_score, f1_score, classification_report"
   ]
  },
  {
   "cell_type": "code",
   "execution_count": 35,
   "id": "22be1329",
   "metadata": {},
   "outputs": [
    {
     "name": "stderr",
     "output_type": "stream",
     "text": [
      "C:\\Users\\Admin\\anaconda3\\envs\\ml-dl-nlp\\lib\\site-packages\\sklearn\\base.py:318: UserWarning: Trying to unpickle estimator LabelEncoder from version 1.2.1 when using version 1.2.2. This might lead to breaking code or invalid results. Use at your own risk. For more info please refer to:\n",
      "https://scikit-learn.org/stable/model_persistence.html#security-maintainability-limitations\n",
      "  warnings.warn(\n"
     ]
    },
    {
     "name": "stdout",
     "output_type": "stream",
     "text": [
      "              precision    recall  f1-score   support\n",
      "\n",
      "           0       0.92      0.69      0.79     42429\n",
      "           1       0.61      0.81      0.69     29082\n",
      "           2       0.47      0.79      0.59     12573\n",
      "           3       0.43      0.89      0.58      5661\n",
      "           4       0.95      0.81      0.87     94543\n",
      "\n",
      "    accuracy                           0.78    184288\n",
      "   macro avg       0.67      0.80      0.70    184288\n",
      "weighted avg       0.84      0.78      0.80    184288\n",
      "\n"
     ]
    }
   ],
   "source": [
    "model = joblib.load('M2_categorical_LGBM.pkl')\n",
    "pred = model.predict(test_X)\n",
    "result = classification_report(test_y, pred)\n",
    "print(result)"
   ]
  },
  {
   "cell_type": "code",
   "execution_count": 39,
   "id": "3eb30624",
   "metadata": {},
   "outputs": [
    {
     "data": {
      "text/plain": [
       "[(0, '공급과다'), (1, '공급다소부족'), (2, '공급부족'), (3, '공급절대부족'), (4, '공급평균')]"
      ]
     },
     "execution_count": 39,
     "metadata": {},
     "output_type": "execute_result"
    }
   ],
   "source": [
    "[data for data in zip(model.classes_,le_target.classes_)]"
   ]
  },
  {
   "cell_type": "markdown",
   "id": "3408e1d3",
   "metadata": {},
   "source": [
    "## class에 따른 평가\n",
    "- 0 : 공급 과다 -> 재배치 필요 X\n",
    "- 1 : 공급 다소 부족 -> 재배치 필요성 낮음\n",
    "- 2 : 공급 부족 -> 재배치 시 수익성 소폭 상승 예상\n",
    "- 3 : 공급절대부족 -> 재배치 시 수익성 대폭 상승 예상\n",
    "- 4 : 공급 평균 -> 재배치 필요 X\n",
    "\n",
    "위 class에 입각하여 가장 중요한 것은 실제 class가 [2, 3] 일 때 재배치를 할 수 있게 예측하는가에 대해 확인 필요, \n",
    "실제 class가 2,3 일 때 2,3으로 분류한 기준이 중요"
   ]
  },
  {
   "cell_type": "code",
   "execution_count": 49,
   "id": "064afc9b",
   "metadata": {},
   "outputs": [
    {
     "data": {
      "text/html": [
       "<div>\n",
       "<style scoped>\n",
       "    .dataframe tbody tr th:only-of-type {\n",
       "        vertical-align: middle;\n",
       "    }\n",
       "\n",
       "    .dataframe tbody tr th {\n",
       "        vertical-align: top;\n",
       "    }\n",
       "\n",
       "    .dataframe thead th {\n",
       "        text-align: right;\n",
       "    }\n",
       "</style>\n",
       "<table border=\"1\" class=\"dataframe\">\n",
       "  <thead>\n",
       "    <tr style=\"text-align: right;\">\n",
       "      <th>예측값</th>\n",
       "      <th>0</th>\n",
       "      <th>1</th>\n",
       "      <th>2</th>\n",
       "      <th>3</th>\n",
       "      <th>4</th>\n",
       "    </tr>\n",
       "    <tr>\n",
       "      <th>실제값</th>\n",
       "      <th></th>\n",
       "      <th></th>\n",
       "      <th></th>\n",
       "      <th></th>\n",
       "      <th></th>\n",
       "    </tr>\n",
       "  </thead>\n",
       "  <tbody>\n",
       "    <tr>\n",
       "      <th>0</th>\n",
       "      <td>29346</td>\n",
       "      <td>4884</td>\n",
       "      <td>4671</td>\n",
       "      <td>245</td>\n",
       "      <td>3283</td>\n",
       "    </tr>\n",
       "    <tr>\n",
       "      <th>1</th>\n",
       "      <td>271</td>\n",
       "      <td>23582</td>\n",
       "      <td>4185</td>\n",
       "      <td>6</td>\n",
       "      <td>1038</td>\n",
       "    </tr>\n",
       "    <tr>\n",
       "      <th>2</th>\n",
       "      <td>124</td>\n",
       "      <td>1305</td>\n",
       "      <td>9924</td>\n",
       "      <td>1220</td>\n",
       "      <td>0</td>\n",
       "    </tr>\n",
       "    <tr>\n",
       "      <th>3</th>\n",
       "      <td>3</td>\n",
       "      <td>0</td>\n",
       "      <td>608</td>\n",
       "      <td>5050</td>\n",
       "      <td>0</td>\n",
       "    </tr>\n",
       "    <tr>\n",
       "      <th>4</th>\n",
       "      <td>2261</td>\n",
       "      <td>9143</td>\n",
       "      <td>1618</td>\n",
       "      <td>5271</td>\n",
       "      <td>76250</td>\n",
       "    </tr>\n",
       "  </tbody>\n",
       "</table>\n",
       "</div>"
      ],
      "text/plain": [
       "예측값      0      1     2     3      4\n",
       "실제값                                 \n",
       "0    29346   4884  4671   245   3283\n",
       "1      271  23582  4185     6   1038\n",
       "2      124   1305  9924  1220      0\n",
       "3        3      0   608  5050      0\n",
       "4     2261   9143  1618  5271  76250"
      ]
     },
     "metadata": {},
     "output_type": "display_data"
    },
    {
     "name": "stdout",
     "output_type": "stream",
     "text": [
      "실제 class가 2와 3일 때 : 18234 건\n",
      "실제 class가 2와 3일 때, 2와 3으로 예측한 값 : 16802 건\n",
      "재배치를 예측 비율 : 0.92%\n"
     ]
    }
   ],
   "source": [
    "display(cm_test)\n",
    "cm_test.values\n",
    "print(\"실제 class가 2와 3일 때 :\", cm_test.values[2:4,:].sum(), \"건\")\n",
    "print(\"실제 class가 2와 3일 때, 2와 3으로 예측한 값 :\",cm_test.values[2:4,2:4].sum(),\"건\")\n",
    "print(f\"재배치를 예측 비율 : {cm_test.values[2:4,2:4].sum()/cm_test.values[2:4,:].sum():.2f}%\")"
   ]
  },
  {
   "cell_type": "markdown",
   "id": "ee7edfd2",
   "metadata": {},
   "source": [
    "## 재배치 예측 비율은 0.92%로 실용성 有"
   ]
  },
  {
   "cell_type": "markdown",
   "id": "d1da766b",
   "metadata": {},
   "source": [
    "## 공급절대부족 판별을 높이기 위한 방법\n",
    "    1. feature 수정\n",
    "    2. 다른 모델 활용"
   ]
  },
  {
   "cell_type": "markdown",
   "id": "9bbff979",
   "metadata": {},
   "source": [
    "# 모델 저장"
   ]
  },
  {
   "cell_type": "code",
   "execution_count": 156,
   "id": "f70d793d",
   "metadata": {},
   "outputs": [
    {
     "data": {
      "text/plain": [
       "['M2_ENCODER\\\\타겟변수라벨인코더.pkl']"
      ]
     },
     "execution_count": 156,
     "metadata": {},
     "output_type": "execute_result"
    }
   ],
   "source": [
    "# 모델, 스케일러, 인코더, feature 리스트 저장\n",
    "# pm_gu_list : PM운영 행정구\n",
    "# gu_list : 서울시 전체 행정구\n",
    "# le_season : 계절 라벨인코더\n",
    "# le_commute : 출퇴근시간여부 라벨 인코더\n",
    "# le_gu : 행정구 인코더\n",
    "# scaler : 독립변수 스케일러 / cols_scale = ['총생활인구수', '강수', '기온','습도','풍속','공공자전거대여량']\n",
    "# le_target : 타겟변수 라벨인코더\n",
    "# feature_cols : 상관계수가 10퍼센트 이상의 feature만 사용\n",
    "import joblib\n",
    "joblib.dump(lgbm,'M2_categorical_LGBM.pkl')\n",
    "joblib.dump(pm_gu_list,'M2_ENCODER\\PM활용행정구리스트.pkl')\n",
    "joblib.dump(gu_list, 'M2_ENCODER\\서울전역행정구리스트.pkl')\n",
    "joblib.dump(le_season, 'M2_ENCODER\\계절라벨인코더.pkl')\n",
    "joblib.dump(le_commute, 'M2_ENCODER\\출퇴근시간여부라벨인코더.pkl')\n",
    "joblib.dump(le_gu, 'M2_ENCODER\\행정구라벨인코더.pkl')\n",
    "joblib.dump(cols_scale, 'M2_ENCODER\\독립변수리스트.pkl')\n",
    "joblib.dump(cols_X, 'M2_ENCODER\\실제사용한독립변수리스트.pkl')\n",
    "joblib.dump(scaler, 'M2_ENCODER\\독립변수스케일러.pkl')\n",
    "joblib.dump(le_target,'M2_ENCODER\\타겟변수라벨인코더.pkl')"
   ]
  },
  {
   "cell_type": "markdown",
   "id": "d94dc149",
   "metadata": {},
   "source": [
    "# 향후 모델 사용 시 활용 함수"
   ]
  },
  {
   "cell_type": "code",
   "execution_count": 157,
   "id": "3d6e18b3",
   "metadata": {},
   "outputs": [],
   "source": [
    "def class_to_range(pred_class):\n",
    "    ''' 모델 예측 결과를 범주형 결과로 반환하는 함수 '''\n",
    "    labels = ['공급과다', '공급평균', '공급다소부족', '공급부족', '공급절대부족']\n",
    "    pred_class = int(pred_class)\n",
    "    return labels[pred_class]"
   ]
  }
 ],
 "metadata": {
  "kernelspec": {
   "display_name": "ml-dl-nlp",
   "language": "python",
   "name": "ml-dl-nlp"
  },
  "language_info": {
   "codemirror_mode": {
    "name": "ipython",
    "version": 3
   },
   "file_extension": ".py",
   "mimetype": "text/x-python",
   "name": "python",
   "nbconvert_exporter": "python",
   "pygments_lexer": "ipython3",
   "version": "3.10.18"
  },
  "toc": {
   "base_numbering": 1,
   "nav_menu": {},
   "number_sections": true,
   "sideBar": true,
   "skip_h1_title": false,
   "title_cell": "Table of Contents",
   "title_sidebar": "Contents",
   "toc_cell": false,
   "toc_position": {
    "height": "calc(100% - 180px)",
    "left": "10px",
    "top": "150px",
    "width": "234.391px"
   },
   "toc_section_display": true,
   "toc_window_display": true
  }
 },
 "nbformat": 4,
 "nbformat_minor": 5
}
