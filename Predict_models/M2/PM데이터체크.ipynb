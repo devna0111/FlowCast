{
 "cells": [
  {
   "cell_type": "code",
   "execution_count": 1,
   "id": "dae9044c",
   "metadata": {},
   "outputs": [
    {
     "data": {
      "text/html": [
       "\n",
       "<style>\n",
       "div.container{width:86% !important;}\n",
       "div.cell.code_cell.rendered{width:100%;}\n",
       "div.CodeMirror {font-family:Consolas; font-size:12pt;}\n",
       "div.output {font-size:15pt; font-weight:bold;}\n",
       "div.input {font-family:Consolas; font-size:12pt;}\n",
       "div.prompt {min-width:70px;}\n",
       "div#toc-wrapper{padding-top:120px;}\n",
       "div.text_cell_render ul li{font-size:12pt;padding:5px;}\n",
       "table.dataframe{font-size:15px;}\n",
       "</style>\n"
      ],
      "text/plain": [
       "<IPython.core.display.HTML object>"
      ]
     },
     "metadata": {},
     "output_type": "display_data"
    }
   ],
   "source": [
    "from IPython.display import display, HTML\n",
    "display(HTML(\"\"\"\n",
    "<style>\n",
    "div.container{width:86% !important;}\n",
    "div.cell.code_cell.rendered{width:100%;}\n",
    "div.CodeMirror {font-family:Consolas; font-size:12pt;}\n",
    "div.output {font-size:15pt; font-weight:bold;}\n",
    "div.input {font-family:Consolas; font-size:12pt;}\n",
    "div.prompt {min-width:70px;}\n",
    "div#toc-wrapper{padding-top:120px;}\n",
    "div.text_cell_render ul li{font-size:12pt;padding:5px;}\n",
    "table.dataframe{font-size:15px;}\n",
    "</style>\n",
    "\"\"\"))"
   ]
  },
  {
   "cell_type": "code",
   "execution_count": 3,
   "id": "875b3f9e",
   "metadata": {},
   "outputs": [
    {
     "data": {
      "text/html": [
       "<div>\n",
       "<style scoped>\n",
       "    .dataframe tbody tr th:only-of-type {\n",
       "        vertical-align: middle;\n",
       "    }\n",
       "\n",
       "    .dataframe tbody tr th {\n",
       "        vertical-align: top;\n",
       "    }\n",
       "\n",
       "    .dataframe thead th {\n",
       "        text-align: right;\n",
       "    }\n",
       "</style>\n",
       "<table border=\"1\" class=\"dataframe\">\n",
       "  <thead>\n",
       "    <tr style=\"text-align: right;\">\n",
       "      <th></th>\n",
       "      <th>일시</th>\n",
       "      <th>행정구</th>\n",
       "      <th>PM대여량</th>\n",
       "    </tr>\n",
       "  </thead>\n",
       "  <tbody>\n",
       "    <tr>\n",
       "      <th>0</th>\n",
       "      <td>2021-01-01 00:00:00</td>\n",
       "      <td>강남구</td>\n",
       "      <td>24</td>\n",
       "    </tr>\n",
       "    <tr>\n",
       "      <th>1</th>\n",
       "      <td>2021-01-01 01:00:00</td>\n",
       "      <td>강남구</td>\n",
       "      <td>24</td>\n",
       "    </tr>\n",
       "    <tr>\n",
       "      <th>2</th>\n",
       "      <td>2021-01-01 02:00:00</td>\n",
       "      <td>강남구</td>\n",
       "      <td>24</td>\n",
       "    </tr>\n",
       "    <tr>\n",
       "      <th>3</th>\n",
       "      <td>2021-01-01 03:00:00</td>\n",
       "      <td>강남구</td>\n",
       "      <td>24</td>\n",
       "    </tr>\n",
       "    <tr>\n",
       "      <th>4</th>\n",
       "      <td>2021-01-01 04:00:00</td>\n",
       "      <td>강남구</td>\n",
       "      <td>24</td>\n",
       "    </tr>\n",
       "    <tr>\n",
       "      <th>...</th>\n",
       "      <td>...</td>\n",
       "      <td>...</td>\n",
       "      <td>...</td>\n",
       "    </tr>\n",
       "    <tr>\n",
       "      <th>832651</th>\n",
       "      <td>2025-12-31 19:00:00</td>\n",
       "      <td>은평구</td>\n",
       "      <td>77</td>\n",
       "    </tr>\n",
       "    <tr>\n",
       "      <th>832652</th>\n",
       "      <td>2025-12-31 20:00:00</td>\n",
       "      <td>은평구</td>\n",
       "      <td>53</td>\n",
       "    </tr>\n",
       "    <tr>\n",
       "      <th>832653</th>\n",
       "      <td>2025-12-31 21:00:00</td>\n",
       "      <td>은평구</td>\n",
       "      <td>53</td>\n",
       "    </tr>\n",
       "    <tr>\n",
       "      <th>832654</th>\n",
       "      <td>2025-12-31 22:00:00</td>\n",
       "      <td>은평구</td>\n",
       "      <td>53</td>\n",
       "    </tr>\n",
       "    <tr>\n",
       "      <th>832655</th>\n",
       "      <td>2025-12-31 23:00:00</td>\n",
       "      <td>은평구</td>\n",
       "      <td>53</td>\n",
       "    </tr>\n",
       "  </tbody>\n",
       "</table>\n",
       "<p>832656 rows × 3 columns</p>\n",
       "</div>"
      ],
      "text/plain": [
       "                        일시  행정구  PM대여량\n",
       "0      2021-01-01 00:00:00  강남구     24\n",
       "1      2021-01-01 01:00:00  강남구     24\n",
       "2      2021-01-01 02:00:00  강남구     24\n",
       "3      2021-01-01 03:00:00  강남구     24\n",
       "4      2021-01-01 04:00:00  강남구     24\n",
       "...                    ...  ...    ...\n",
       "832651 2025-12-31 19:00:00  은평구     77\n",
       "832652 2025-12-31 20:00:00  은평구     53\n",
       "832653 2025-12-31 21:00:00  은평구     53\n",
       "832654 2025-12-31 22:00:00  은평구     53\n",
       "832655 2025-12-31 23:00:00  은평구     53\n",
       "\n",
       "[832656 rows x 3 columns]"
      ]
     },
     "execution_count": 3,
     "metadata": {},
     "output_type": "execute_result"
    }
   ],
   "source": [
    "import pandas as pd\n",
    "df = pd.read_csv('PM_data/서울시_시간별_PM_배치_2021_2025.csv', parse_dates=['일시'])\n",
    "df"
   ]
  },
  {
   "cell_type": "code",
   "execution_count": 7,
   "id": "c5bfacac",
   "metadata": {},
   "outputs": [
    {
     "data": {
      "text/html": [
       "<div>\n",
       "<style scoped>\n",
       "    .dataframe tbody tr th:only-of-type {\n",
       "        vertical-align: middle;\n",
       "    }\n",
       "\n",
       "    .dataframe tbody tr th {\n",
       "        vertical-align: top;\n",
       "    }\n",
       "\n",
       "    .dataframe thead th {\n",
       "        text-align: right;\n",
       "    }\n",
       "</style>\n",
       "<table border=\"1\" class=\"dataframe\">\n",
       "  <thead>\n",
       "    <tr style=\"text-align: right;\">\n",
       "      <th></th>\n",
       "      <th>일시</th>\n",
       "      <th>행정구</th>\n",
       "      <th>PM대여량</th>\n",
       "    </tr>\n",
       "  </thead>\n",
       "  <tbody>\n",
       "    <tr>\n",
       "      <th>332881</th>\n",
       "      <td>2023-01-01 01:00:00</td>\n",
       "      <td>강남구</td>\n",
       "      <td>34</td>\n",
       "    </tr>\n",
       "    <tr>\n",
       "      <th>332882</th>\n",
       "      <td>2023-01-01 02:00:00</td>\n",
       "      <td>강남구</td>\n",
       "      <td>34</td>\n",
       "    </tr>\n",
       "    <tr>\n",
       "      <th>332883</th>\n",
       "      <td>2023-01-01 03:00:00</td>\n",
       "      <td>강남구</td>\n",
       "      <td>34</td>\n",
       "    </tr>\n",
       "    <tr>\n",
       "      <th>332884</th>\n",
       "      <td>2023-01-01 04:00:00</td>\n",
       "      <td>강남구</td>\n",
       "      <td>34</td>\n",
       "    </tr>\n",
       "    <tr>\n",
       "      <th>332885</th>\n",
       "      <td>2023-01-01 05:00:00</td>\n",
       "      <td>강남구</td>\n",
       "      <td>34</td>\n",
       "    </tr>\n",
       "    <tr>\n",
       "      <th>...</th>\n",
       "      <td>...</td>\n",
       "      <td>...</td>\n",
       "      <td>...</td>\n",
       "    </tr>\n",
       "    <tr>\n",
       "      <th>666211</th>\n",
       "      <td>2024-12-31 19:00:00</td>\n",
       "      <td>은평구</td>\n",
       "      <td>75</td>\n",
       "    </tr>\n",
       "    <tr>\n",
       "      <th>666212</th>\n",
       "      <td>2024-12-31 20:00:00</td>\n",
       "      <td>은평구</td>\n",
       "      <td>52</td>\n",
       "    </tr>\n",
       "    <tr>\n",
       "      <th>666213</th>\n",
       "      <td>2024-12-31 21:00:00</td>\n",
       "      <td>은평구</td>\n",
       "      <td>52</td>\n",
       "    </tr>\n",
       "    <tr>\n",
       "      <th>666214</th>\n",
       "      <td>2024-12-31 22:00:00</td>\n",
       "      <td>은평구</td>\n",
       "      <td>52</td>\n",
       "    </tr>\n",
       "    <tr>\n",
       "      <th>666215</th>\n",
       "      <td>2024-12-31 23:00:00</td>\n",
       "      <td>은평구</td>\n",
       "      <td>52</td>\n",
       "    </tr>\n",
       "  </tbody>\n",
       "</table>\n",
       "<p>333317 rows × 3 columns</p>\n",
       "</div>"
      ],
      "text/plain": [
       "                        일시  행정구  PM대여량\n",
       "332881 2023-01-01 01:00:00  강남구     34\n",
       "332882 2023-01-01 02:00:00  강남구     34\n",
       "332883 2023-01-01 03:00:00  강남구     34\n",
       "332884 2023-01-01 04:00:00  강남구     34\n",
       "332885 2023-01-01 05:00:00  강남구     34\n",
       "...                    ...  ...    ...\n",
       "666211 2024-12-31 19:00:00  은평구     75\n",
       "666212 2024-12-31 20:00:00  은평구     52\n",
       "666213 2024-12-31 21:00:00  은평구     52\n",
       "666214 2024-12-31 22:00:00  은평구     52\n",
       "666215 2024-12-31 23:00:00  은평구     52\n",
       "\n",
       "[333317 rows x 3 columns]"
      ]
     },
     "execution_count": 7,
     "metadata": {},
     "output_type": "execute_result"
    }
   ],
   "source": [
    "df_2024 = df[(df['일시'] >\"2023\")&(df['일시']<\"2025\")]\n",
    "df_2024"
   ]
  },
  {
   "cell_type": "code",
   "execution_count": 8,
   "id": "ebf05051",
   "metadata": {},
   "outputs": [
    {
     "data": {
      "text/html": [
       "<div>\n",
       "<style scoped>\n",
       "    .dataframe tbody tr th:only-of-type {\n",
       "        vertical-align: middle;\n",
       "    }\n",
       "\n",
       "    .dataframe tbody tr th {\n",
       "        vertical-align: top;\n",
       "    }\n",
       "\n",
       "    .dataframe thead th {\n",
       "        text-align: right;\n",
       "    }\n",
       "</style>\n",
       "<table border=\"1\" class=\"dataframe\">\n",
       "  <thead>\n",
       "    <tr style=\"text-align: right;\">\n",
       "      <th></th>\n",
       "      <th>일시</th>\n",
       "      <th>행정구</th>\n",
       "      <th>PM대여량</th>\n",
       "    </tr>\n",
       "  </thead>\n",
       "  <tbody>\n",
       "    <tr>\n",
       "      <th>333319</th>\n",
       "      <td>2023-01-01 07:00:00</td>\n",
       "      <td>은평구</td>\n",
       "      <td>98</td>\n",
       "    </tr>\n",
       "    <tr>\n",
       "      <th>333320</th>\n",
       "      <td>2023-01-01 08:00:00</td>\n",
       "      <td>은평구</td>\n",
       "      <td>98</td>\n",
       "    </tr>\n",
       "    <tr>\n",
       "      <th>333321</th>\n",
       "      <td>2023-01-01 09:00:00</td>\n",
       "      <td>은평구</td>\n",
       "      <td>98</td>\n",
       "    </tr>\n",
       "    <tr>\n",
       "      <th>333329</th>\n",
       "      <td>2023-01-01 17:00:00</td>\n",
       "      <td>은평구</td>\n",
       "      <td>98</td>\n",
       "    </tr>\n",
       "    <tr>\n",
       "      <th>333330</th>\n",
       "      <td>2023-01-01 18:00:00</td>\n",
       "      <td>은평구</td>\n",
       "      <td>98</td>\n",
       "    </tr>\n",
       "    <tr>\n",
       "      <th>...</th>\n",
       "      <td>...</td>\n",
       "      <td>...</td>\n",
       "      <td>...</td>\n",
       "    </tr>\n",
       "    <tr>\n",
       "      <th>665288</th>\n",
       "      <td>2024-12-29 08:00:00</td>\n",
       "      <td>은평구</td>\n",
       "      <td>100</td>\n",
       "    </tr>\n",
       "    <tr>\n",
       "      <th>665289</th>\n",
       "      <td>2024-12-29 09:00:00</td>\n",
       "      <td>은평구</td>\n",
       "      <td>100</td>\n",
       "    </tr>\n",
       "    <tr>\n",
       "      <th>665297</th>\n",
       "      <td>2024-12-29 17:00:00</td>\n",
       "      <td>은평구</td>\n",
       "      <td>100</td>\n",
       "    </tr>\n",
       "    <tr>\n",
       "      <th>665298</th>\n",
       "      <td>2024-12-29 18:00:00</td>\n",
       "      <td>은평구</td>\n",
       "      <td>100</td>\n",
       "    </tr>\n",
       "    <tr>\n",
       "      <th>665299</th>\n",
       "      <td>2024-12-29 19:00:00</td>\n",
       "      <td>은평구</td>\n",
       "      <td>100</td>\n",
       "    </tr>\n",
       "  </tbody>\n",
       "</table>\n",
       "<p>6067 rows × 3 columns</p>\n",
       "</div>"
      ],
      "text/plain": [
       "                        일시  행정구  PM대여량\n",
       "333319 2023-01-01 07:00:00  은평구     98\n",
       "333320 2023-01-01 08:00:00  은평구     98\n",
       "333321 2023-01-01 09:00:00  은평구     98\n",
       "333329 2023-01-01 17:00:00  은평구     98\n",
       "333330 2023-01-01 18:00:00  은평구     98\n",
       "...                    ...  ...    ...\n",
       "665288 2024-12-29 08:00:00  은평구    100\n",
       "665289 2024-12-29 09:00:00  은평구    100\n",
       "665297 2024-12-29 17:00:00  은평구    100\n",
       "665298 2024-12-29 18:00:00  은평구    100\n",
       "665299 2024-12-29 19:00:00  은평구    100\n",
       "\n",
       "[6067 rows x 3 columns]"
      ]
     },
     "execution_count": 8,
     "metadata": {},
     "output_type": "execute_result"
    }
   ],
   "source": [
    "df_2024[df_2024['PM대여량']>90]"
   ]
  },
  {
   "cell_type": "code",
   "execution_count": 9,
   "id": "e5abe4b1",
   "metadata": {},
   "outputs": [],
   "source": [
    "import joblib\n",
    "le_target = joblib.load('M2_ENCODER\\타겟변수라벨인코더.pkl')"
   ]
  },
  {
   "cell_type": "code",
   "execution_count": 11,
   "id": "9803528a",
   "metadata": {},
   "outputs": [
    {
     "data": {
      "text/plain": [
       "array(['공급과다', '공급다소부족', '공급부족', '공급절대부족', '공급평균'], dtype=object)"
      ]
     },
     "execution_count": 11,
     "metadata": {},
     "output_type": "execute_result"
    }
   ],
   "source": [
    "le_target.classes_"
   ]
  },
  {
   "cell_type": "code",
   "execution_count": 12,
   "id": "b6bbccf3",
   "metadata": {},
   "outputs": [
    {
     "data": {
      "text/plain": [
       "[(0, '공급과다'), (1, '공급다소부족'), (2, '공급부족'), (3, '공급절대부족'), (4, '공급평균')]"
      ]
     },
     "execution_count": 12,
     "metadata": {},
     "output_type": "execute_result"
    }
   ],
   "source": [
    "label_target_index = [(idx, class_name) for idx, class_name in enumerate(le_target.classes_.tolist())]\n",
    "label_target_index"
   ]
  },
  {
   "cell_type": "code",
   "execution_count": 14,
   "id": "fffba5e5",
   "metadata": {},
   "outputs": [
    {
     "data": {
      "text/plain": [
       "['M2_ENCODER\\\\타겟변수라벨인코더_index별_정보list.pkl']"
      ]
     },
     "execution_count": 14,
     "metadata": {},
     "output_type": "execute_result"
    }
   ],
   "source": [
    "joblib.dump(label_target_index,'M2_ENCODER\\타겟변수라벨인코더_index별_정보list.pkl')"
   ]
  },
  {
   "cell_type": "code",
   "execution_count": null,
   "id": "f4b6b31c",
   "metadata": {},
   "outputs": [],
   "source": []
  }
 ],
 "metadata": {
  "kernelspec": {
   "display_name": "ml-dl-nlp",
   "language": "python",
   "name": "ml-dl-nlp"
  },
  "language_info": {
   "codemirror_mode": {
    "name": "ipython",
    "version": 3
   },
   "file_extension": ".py",
   "mimetype": "text/x-python",
   "name": "python",
   "nbconvert_exporter": "python",
   "pygments_lexer": "ipython3",
   "version": "3.10.18"
  },
  "toc": {
   "base_numbering": 1,
   "nav_menu": {},
   "number_sections": false,
   "sideBar": true,
   "skip_h1_title": false,
   "title_cell": "Table of Contents",
   "title_sidebar": "Contents",
   "toc_cell": false,
   "toc_position": {},
   "toc_section_display": true,
   "toc_window_display": false
  }
 },
 "nbformat": 4,
 "nbformat_minor": 5
}
