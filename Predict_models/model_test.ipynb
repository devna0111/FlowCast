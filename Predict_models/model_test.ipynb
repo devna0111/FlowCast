{
 "cells": [
  {
   "cell_type": "code",
   "execution_count": 1,
   "id": "438c8328",
   "metadata": {},
   "outputs": [
    {
     "data": {
      "text/html": [
       "\n",
       "<style>\n",
       "div.container{width:86% !important;}\n",
       "div.cell.code_cell.rendered{width:100%;}\n",
       "div.CodeMirror {font-family:Consolas; font-size:12pt;}\n",
       "div.output {font-size:15pt; font-weight:bold;}\n",
       "div.input {font-family:Consolas; font-size:12pt;}\n",
       "div.prompt {min-width:70px;}\n",
       "div#toc-wrapper{padding-top:120px;}\n",
       "div.text_cell_render ul li{font-size:12pt;padding:5px;}\n",
       "table.dataframe{font-size:15px;}\n",
       "</style>\n"
      ],
      "text/plain": [
       "<IPython.core.display.HTML object>"
      ]
     },
     "metadata": {},
     "output_type": "display_data"
    }
   ],
   "source": [
    "from IPython.display import display, HTML\n",
    "display(HTML(\"\"\"\n",
    "<style>\n",
    "div.container{width:86% !important;}\n",
    "div.cell.code_cell.rendered{width:100%;}\n",
    "div.CodeMirror {font-family:Consolas; font-size:12pt;}\n",
    "div.output {font-size:15pt; font-weight:bold;}\n",
    "div.input {font-family:Consolas; font-size:12pt;}\n",
    "div.prompt {min-width:70px;}\n",
    "div#toc-wrapper{padding-top:120px;}\n",
    "div.text_cell_render ul li{font-size:12pt;padding:5px;}\n",
    "table.dataframe{font-size:15px;}\n",
    "</style>\n",
    "\"\"\"))"
   ]
  },
  {
   "cell_type": "code",
   "execution_count": 2,
   "id": "9c970868",
   "metadata": {},
   "outputs": [],
   "source": [
    "# 필요 라이브러리 import\n",
    "import pandas as pd\n",
    "import numpy as np\n",
    "from datetime import timedelta\n",
    "\n",
    "from sklearn.preprocessing import StandardScaler, MinMaxScaler, LabelEncoder, OneHotEncoder\n",
    "import joblib # 인코더 저장용\n",
    "from tensorflow.keras.utils import to_categorical\n",
    "\n",
    "from tensorflow.keras import Model\n",
    "from tensorflow.keras.models import Sequential\n",
    "from tensorflow.keras.optimizers import Adam, RMSprop\n",
    "from tensorflow.keras.layers import Input, LSTM, Dense, Dropout, BatchNormalization\n",
    "from sklearn.model_selection import train_test_split\n",
    "from tensorflow.keras.callbacks   import EarlyStopping, ModelCheckpoint\n",
    "\n",
    "from sklearn.metrics import recall_score, precision_score, f1_score\n",
    "import matplotlib.pyplot as plt"
   ]
  },
  {
   "cell_type": "code",
   "execution_count": 3,
   "id": "2525f268",
   "metadata": {},
   "outputs": [],
   "source": [
    "# 파라미터 튜닝\n",
    "my_optimizer = Adam(learning_rate=0.01)\n",
    "my_patience = 5\n",
    "my_epochs = 100000\n",
    "my_batch_size = 1024"
   ]
  },
  {
   "cell_type": "markdown",
   "id": "52578dcc",
   "metadata": {},
   "source": [
    "# LSTM (Long Short-Term Memory)\n",
    "\n",
    "시계열 데이터에서 과거 패턴을 학습해 미래를 예측\n",
    "\n",
    "순서를 고려한 학습 (timesteps 필요)\n",
    "\n",
    "입력은 3D 텐서 (samples, timesteps, features)\n",
    "\n",
    "시간 간격 정보가 중요한 문제에 적합\n",
    "\n",
    "# DNN (Deep Neural Network)\n",
    "\n",
    "일반적인 피드포워드 신경망\n",
    "\n",
    "순서를 고려하지 않음\n",
    "\n",
    "모든 feature가 평평하게 주어질 때 효과적\n",
    "\n",
    "비교적 빠르게 학습됨\n",
    "\n",
    "# LightGBM\n",
    "Microsoft가 개발한 Gradient Boosting Tree 기반의 알고리즘\n",
    "\n",
    "범주형 변수, 결측치 처리에 강함\n",
    "\n",
    "빠른 속도와 높은 성능\n",
    "\n",
    "시계열 구조는 직접 반영되지 않지만, lag feature 활용으로 보완 가능"
   ]
  },
  {
   "cell_type": "code",
   "execution_count": 4,
   "id": "667b2cd7",
   "metadata": {},
   "outputs": [],
   "source": [
    "df = pd.read_csv('LSTM최종데이터_X_Y_라벨링등전.csv')\n",
    "# # 결측 제거\n",
    "# df = df.dropna(subset=['대여량'])\n",
    "\n",
    "# 대여량을 범주형으로 변환\n",
    "def label_rent(value):\n",
    "    if value < 100: return 0\n",
    "    elif value < 200: return 1\n",
    "    elif value < 400: return 2\n",
    "    elif value < 800: return 3\n",
    "    elif value < 1600: return 4\n",
    "    else: return 5\n",
    "\n",
    "df['rent_class'] = df['대여량'].apply(label_rent)\n",
    "\n",
    "# 필요 없는 열 제거\n",
    "drop_cols = ['연도', '월', '일', '일시', '대여량']  # 원래 대여량 제거\n",
    "df_model = df.drop(columns=drop_cols)\n",
    "\n",
    "# 범주형 → 숫자 인코딩\n",
    "categorical_cols = ['행정구', '계절', '출퇴근시간']\n",
    "df_model[categorical_cols] = df_model[categorical_cols].apply(LabelEncoder().fit_transform)\n",
    "\n",
    "# X, y 분리\n",
    "X = df_model.drop(columns='rent_class')\n",
    "y = df_model['rent_class']\n",
    "\n",
    "# 스케일링 (DNN/LSTM)\n",
    "scaler = StandardScaler()\n",
    "X_scaled = scaler.fit_transform(X)\n",
    "\n",
    "# DNN, LightGBM용 train/test\n",
    "X_train_flat, X_test_flat, y_train, y_test = train_test_split(X_scaled, y, test_size=0.2, random_state=42)\n",
    "\n",
    "# LSTM용 reshape\n",
    "timesteps = 1  # 시계열 길이 = 1 (각 row가 t 시점 데이터)\n",
    "X_lstm = X_scaled.reshape((X_scaled.shape[0], timesteps, X_scaled.shape[1]))\n",
    "X_train_seq, X_test_seq, y_train_seq, y_test_seq = train_test_split(X_lstm, y, test_size=0.2, random_state=42)\n",
    "\n",
    "# 콜백함수 적용\n",
    "es = EarlyStopping(patience=my_patience)\n",
    "model_lstm_checkpoint = ModelCheckpoint('ver1_model/lstm_accuracy{val_accuracy}_loss{val_loss}',save_best_only=True)\n",
    "model_dnn_checkpoint = ModelCheckpoint('ver1_model/dnn_accuracy{val_accuracy}_loss{val_loss}',save_best_only=True)"
   ]
  },
  {
   "cell_type": "markdown",
   "id": "6272c35e",
   "metadata": {},
   "source": [
    "# LSTM"
   ]
  },
  {
   "cell_type": "code",
   "execution_count": 5,
   "id": "c470463f",
   "metadata": {},
   "outputs": [],
   "source": [
    "from tensorflow.keras.models import Sequential\n",
    "from tensorflow.keras.layers import LSTM, Dense\n",
    "\n",
    "model_lstm = Sequential([\n",
    "    LSTM(64, input_shape=(X_train_seq.shape[1], X_train_seq.shape[2])),\n",
    "    Dense(64, activation='relu'),\n",
    "    Dense(6, activation='softmax')  # 6개 클래스\n",
    "])\n",
    "model_lstm.compile(optimizer=my_optimizer, loss='sparse_categorical_crossentropy', metrics=['accuracy'])\n"
   ]
  },
  {
   "cell_type": "markdown",
   "id": "97b6eeab",
   "metadata": {},
   "source": [
    "# DNN"
   ]
  },
  {
   "cell_type": "code",
   "execution_count": 6,
   "id": "789152aa",
   "metadata": {},
   "outputs": [],
   "source": [
    "from tensorflow.keras.models import Sequential\n",
    "from tensorflow.keras.layers import Dense, Dropout\n",
    "\n",
    "model_dnn = Sequential([\n",
    "    Dense(128, activation='relu', input_shape=(X_train_flat.shape[1],)),\n",
    "    Dropout(0.3),\n",
    "    Dense(64, activation='relu'),\n",
    "    Dense(6, activation='softmax')\n",
    "])\n",
    "model_dnn.compile(optimizer=my_optimizer, loss='sparse_categorical_crossentropy', metrics=['accuracy'])\n"
   ]
  },
  {
   "cell_type": "markdown",
   "id": "420f7b27",
   "metadata": {},
   "source": [
    "# LightGBM"
   ]
  },
  {
   "cell_type": "code",
   "execution_count": 7,
   "id": "e92a1895",
   "metadata": {},
   "outputs": [],
   "source": [
    "import lightgbm as lgb\n",
    "\n",
    "model_lgbm = lgb.LGBMClassifier(objective='multiclass', num_class=6, random_state=42)"
   ]
  },
  {
   "cell_type": "code",
   "execution_count": 8,
   "id": "1bbfc357",
   "metadata": {},
   "outputs": [
    {
     "name": "stdout",
     "output_type": "stream",
     "text": [
      "Epoch 1/100000\n",
      "4808/4814 [============================>.] - ETA: 0s - loss: 0.9227 - accuracy: 0.6072"
     ]
    },
    {
     "name": "stderr",
     "output_type": "stream",
     "text": [
      "WARNING:absl:Found untraced functions such as lstm_cell_layer_call_fn, lstm_cell_layer_call_and_return_conditional_losses while saving (showing 2 of 2). These functions will not be directly callable after loading.\n"
     ]
    },
    {
     "name": "stdout",
     "output_type": "stream",
     "text": [
      "INFO:tensorflow:Assets written to: ver1_model\\lstm_accuracy0.644533634185791_loss0.8378322124481201\\assets\n"
     ]
    },
    {
     "name": "stderr",
     "output_type": "stream",
     "text": [
      "INFO:tensorflow:Assets written to: ver1_model\\lstm_accuracy0.644533634185791_loss0.8378322124481201\\assets\n"
     ]
    },
    {
     "name": "stdout",
     "output_type": "stream",
     "text": [
      "4814/4814 [==============================] - 19s 3ms/step - loss: 0.9226 - accuracy: 0.6072 - val_loss: 0.8378 - val_accuracy: 0.6445\n",
      "Epoch 2/100000\n",
      "4804/4814 [============================>.] - ETA: 0s - loss: 0.8083 - accuracy: 0.6584"
     ]
    },
    {
     "name": "stderr",
     "output_type": "stream",
     "text": [
      "WARNING:absl:Found untraced functions such as lstm_cell_layer_call_fn, lstm_cell_layer_call_and_return_conditional_losses while saving (showing 2 of 2). These functions will not be directly callable after loading.\n"
     ]
    },
    {
     "name": "stdout",
     "output_type": "stream",
     "text": [
      "INFO:tensorflow:Assets written to: ver1_model\\lstm_accuracy0.6647513508796692_loss0.7934332489967346\\assets\n"
     ]
    },
    {
     "name": "stderr",
     "output_type": "stream",
     "text": [
      "INFO:tensorflow:Assets written to: ver1_model\\lstm_accuracy0.6647513508796692_loss0.7934332489967346\\assets\n"
     ]
    },
    {
     "name": "stdout",
     "output_type": "stream",
     "text": [
      "4814/4814 [==============================] - 17s 4ms/step - loss: 0.8083 - accuracy: 0.6584 - val_loss: 0.7934 - val_accuracy: 0.6648\n",
      "Epoch 3/100000\n",
      "4812/4814 [============================>.] - ETA: 0s - loss: 0.7777 - accuracy: 0.6716"
     ]
    },
    {
     "name": "stderr",
     "output_type": "stream",
     "text": [
      "WARNING:absl:Found untraced functions such as lstm_cell_layer_call_fn, lstm_cell_layer_call_and_return_conditional_losses while saving (showing 2 of 2). These functions will not be directly callable after loading.\n"
     ]
    },
    {
     "name": "stdout",
     "output_type": "stream",
     "text": [
      "INFO:tensorflow:Assets written to: ver1_model\\lstm_accuracy0.67169189453125_loss0.7760080099105835\\assets\n"
     ]
    },
    {
     "name": "stderr",
     "output_type": "stream",
     "text": [
      "INFO:tensorflow:Assets written to: ver1_model\\lstm_accuracy0.67169189453125_loss0.7760080099105835\\assets\n"
     ]
    },
    {
     "name": "stdout",
     "output_type": "stream",
     "text": [
      "4814/4814 [==============================] - 18s 4ms/step - loss: 0.7777 - accuracy: 0.6716 - val_loss: 0.7760 - val_accuracy: 0.6717\n",
      "Epoch 4/100000\n",
      "4795/4814 [============================>.] - ETA: 0s - loss: 0.7628 - accuracy: 0.6776"
     ]
    },
    {
     "name": "stderr",
     "output_type": "stream",
     "text": [
      "WARNING:absl:Found untraced functions such as lstm_cell_layer_call_fn, lstm_cell_layer_call_and_return_conditional_losses while saving (showing 2 of 2). These functions will not be directly callable after loading.\n"
     ]
    },
    {
     "name": "stdout",
     "output_type": "stream",
     "text": [
      "INFO:tensorflow:Assets written to: ver1_model\\lstm_accuracy0.6795348525047302_loss0.7569786906242371\\assets\n"
     ]
    },
    {
     "name": "stderr",
     "output_type": "stream",
     "text": [
      "INFO:tensorflow:Assets written to: ver1_model\\lstm_accuracy0.6795348525047302_loss0.7569786906242371\\assets\n"
     ]
    },
    {
     "name": "stdout",
     "output_type": "stream",
     "text": [
      "4814/4814 [==============================] - 17s 4ms/step - loss: 0.7628 - accuracy: 0.6776 - val_loss: 0.7570 - val_accuracy: 0.6795\n",
      "Epoch 5/100000\n",
      "4801/4814 [============================>.] - ETA: 0s - loss: 0.7531 - accuracy: 0.6822"
     ]
    },
    {
     "name": "stderr",
     "output_type": "stream",
     "text": [
      "WARNING:absl:Found untraced functions such as lstm_cell_layer_call_fn, lstm_cell_layer_call_and_return_conditional_losses while saving (showing 2 of 2). These functions will not be directly callable after loading.\n"
     ]
    },
    {
     "name": "stdout",
     "output_type": "stream",
     "text": [
      "INFO:tensorflow:Assets written to: ver1_model\\lstm_accuracy0.6852743029594421_loss0.7506646513938904\\assets\n"
     ]
    },
    {
     "name": "stderr",
     "output_type": "stream",
     "text": [
      "INFO:tensorflow:Assets written to: ver1_model\\lstm_accuracy0.6852743029594421_loss0.7506646513938904\\assets\n"
     ]
    },
    {
     "name": "stdout",
     "output_type": "stream",
     "text": [
      "4814/4814 [==============================] - 17s 4ms/step - loss: 0.7532 - accuracy: 0.6822 - val_loss: 0.7507 - val_accuracy: 0.6853\n",
      "Epoch 6/100000\n",
      "4812/4814 [============================>.] - ETA: 0s - loss: 0.7454 - accuracy: 0.6856"
     ]
    },
    {
     "name": "stderr",
     "output_type": "stream",
     "text": [
      "WARNING:absl:Found untraced functions such as lstm_cell_layer_call_fn, lstm_cell_layer_call_and_return_conditional_losses while saving (showing 2 of 2). These functions will not be directly callable after loading.\n"
     ]
    },
    {
     "name": "stdout",
     "output_type": "stream",
     "text": [
      "INFO:tensorflow:Assets written to: ver1_model\\lstm_accuracy0.6894944310188293_loss0.7391098141670227\\assets\n"
     ]
    },
    {
     "name": "stderr",
     "output_type": "stream",
     "text": [
      "INFO:tensorflow:Assets written to: ver1_model\\lstm_accuracy0.6894944310188293_loss0.7391098141670227\\assets\n"
     ]
    },
    {
     "name": "stdout",
     "output_type": "stream",
     "text": [
      "4814/4814 [==============================] - 17s 4ms/step - loss: 0.7454 - accuracy: 0.6855 - val_loss: 0.7391 - val_accuracy: 0.6895\n",
      "Epoch 7/100000\n",
      "4812/4814 [============================>.] - ETA: 0s - loss: 0.7382 - accuracy: 0.6883"
     ]
    },
    {
     "name": "stderr",
     "output_type": "stream",
     "text": [
      "WARNING:absl:Found untraced functions such as lstm_cell_layer_call_fn, lstm_cell_layer_call_and_return_conditional_losses while saving (showing 2 of 2). These functions will not be directly callable after loading.\n"
     ]
    },
    {
     "name": "stdout",
     "output_type": "stream",
     "text": [
      "INFO:tensorflow:Assets written to: ver1_model\\lstm_accuracy0.6904163956642151_loss0.7335837483406067\\assets\n"
     ]
    },
    {
     "name": "stderr",
     "output_type": "stream",
     "text": [
      "INFO:tensorflow:Assets written to: ver1_model\\lstm_accuracy0.6904163956642151_loss0.7335837483406067\\assets\n"
     ]
    },
    {
     "name": "stdout",
     "output_type": "stream",
     "text": [
      "4814/4814 [==============================] - 17s 4ms/step - loss: 0.7382 - accuracy: 0.6883 - val_loss: 0.7336 - val_accuracy: 0.6904\n",
      "Epoch 8/100000\n",
      "4805/4814 [============================>.] - ETA: 0s - loss: 0.7328 - accuracy: 0.6908"
     ]
    },
    {
     "name": "stderr",
     "output_type": "stream",
     "text": [
      "WARNING:absl:Found untraced functions such as lstm_cell_layer_call_fn, lstm_cell_layer_call_and_return_conditional_losses while saving (showing 2 of 2). These functions will not be directly callable after loading.\n"
     ]
    },
    {
     "name": "stdout",
     "output_type": "stream",
     "text": [
      "INFO:tensorflow:Assets written to: ver1_model\\lstm_accuracy0.6929029822349548_loss0.7317086458206177\\assets\n"
     ]
    },
    {
     "name": "stderr",
     "output_type": "stream",
     "text": [
      "INFO:tensorflow:Assets written to: ver1_model\\lstm_accuracy0.6929029822349548_loss0.7317086458206177\\assets\n"
     ]
    },
    {
     "name": "stdout",
     "output_type": "stream",
     "text": [
      "4814/4814 [==============================] - 18s 4ms/step - loss: 0.7328 - accuracy: 0.6908 - val_loss: 0.7317 - val_accuracy: 0.6929\n",
      "Epoch 9/100000\n",
      "4814/4814 [==============================] - 15s 3ms/step - loss: 0.7291 - accuracy: 0.6919 - val_loss: 0.7403 - val_accuracy: 0.6870\n",
      "Epoch 10/100000\n",
      "4814/4814 [==============================] - 15s 3ms/step - loss: 0.7259 - accuracy: 0.6937 - val_loss: 0.7340 - val_accuracy: 0.6913\n",
      "Epoch 11/100000\n",
      "4803/4814 [============================>.] - ETA: 0s - loss: 0.7229 - accuracy: 0.6946"
     ]
    },
    {
     "name": "stderr",
     "output_type": "stream",
     "text": [
      "WARNING:absl:Found untraced functions such as lstm_cell_layer_call_fn, lstm_cell_layer_call_and_return_conditional_losses while saving (showing 2 of 2). These functions will not be directly callable after loading.\n"
     ]
    },
    {
     "name": "stdout",
     "output_type": "stream",
     "text": [
      "INFO:tensorflow:Assets written to: ver1_model\\lstm_accuracy0.6948702335357666_loss0.7238137722015381\\assets\n"
     ]
    },
    {
     "name": "stderr",
     "output_type": "stream",
     "text": [
      "INFO:tensorflow:Assets written to: ver1_model\\lstm_accuracy0.6948702335357666_loss0.7238137722015381\\assets\n"
     ]
    },
    {
     "name": "stdout",
     "output_type": "stream",
     "text": [
      "4814/4814 [==============================] - 17s 3ms/step - loss: 0.7229 - accuracy: 0.6946 - val_loss: 0.7238 - val_accuracy: 0.6949\n",
      "Epoch 12/100000\n",
      "4812/4814 [============================>.] - ETA: 0s - loss: 0.7205 - accuracy: 0.6956"
     ]
    },
    {
     "name": "stderr",
     "output_type": "stream",
     "text": [
      "WARNING:absl:Found untraced functions such as lstm_cell_layer_call_fn, lstm_cell_layer_call_and_return_conditional_losses while saving (showing 2 of 2). These functions will not be directly callable after loading.\n"
     ]
    },
    {
     "name": "stdout",
     "output_type": "stream",
     "text": [
      "INFO:tensorflow:Assets written to: ver1_model\\lstm_accuracy0.6949287056922913_loss0.7227702736854553\\assets\n"
     ]
    },
    {
     "name": "stderr",
     "output_type": "stream",
     "text": [
      "INFO:tensorflow:Assets written to: ver1_model\\lstm_accuracy0.6949287056922913_loss0.7227702736854553\\assets\n"
     ]
    },
    {
     "name": "stdout",
     "output_type": "stream",
     "text": [
      "4814/4814 [==============================] - 17s 4ms/step - loss: 0.7206 - accuracy: 0.6956 - val_loss: 0.7228 - val_accuracy: 0.6949\n",
      "Epoch 13/100000\n",
      "4813/4814 [============================>.] - ETA: 0s - loss: 0.7179 - accuracy: 0.6973"
     ]
    },
    {
     "name": "stderr",
     "output_type": "stream",
     "text": [
      "WARNING:absl:Found untraced functions such as lstm_cell_layer_call_fn, lstm_cell_layer_call_and_return_conditional_losses while saving (showing 2 of 2). These functions will not be directly callable after loading.\n"
     ]
    },
    {
     "name": "stdout",
     "output_type": "stream",
     "text": [
      "INFO:tensorflow:Assets written to: ver1_model\\lstm_accuracy0.6938379406929016_loss0.7225635051727295\\assets\n"
     ]
    },
    {
     "name": "stderr",
     "output_type": "stream",
     "text": [
      "INFO:tensorflow:Assets written to: ver1_model\\lstm_accuracy0.6938379406929016_loss0.7225635051727295\\assets\n"
     ]
    },
    {
     "name": "stdout",
     "output_type": "stream",
     "text": [
      "4814/4814 [==============================] - 18s 4ms/step - loss: 0.7179 - accuracy: 0.6973 - val_loss: 0.7226 - val_accuracy: 0.6938\n",
      "Epoch 14/100000\n",
      "4809/4814 [============================>.] - ETA: 0s - loss: 0.7154 - accuracy: 0.6976"
     ]
    },
    {
     "name": "stderr",
     "output_type": "stream",
     "text": [
      "WARNING:absl:Found untraced functions such as lstm_cell_layer_call_fn, lstm_cell_layer_call_and_return_conditional_losses while saving (showing 2 of 2). These functions will not be directly callable after loading.\n"
     ]
    },
    {
     "name": "stdout",
     "output_type": "stream",
     "text": [
      "INFO:tensorflow:Assets written to: ver1_model\\lstm_accuracy0.6981814503669739_loss0.7161579132080078\\assets\n"
     ]
    },
    {
     "name": "stderr",
     "output_type": "stream",
     "text": [
      "INFO:tensorflow:Assets written to: ver1_model\\lstm_accuracy0.6981814503669739_loss0.7161579132080078\\assets\n"
     ]
    },
    {
     "name": "stdout",
     "output_type": "stream",
     "text": [
      "4814/4814 [==============================] - 18s 4ms/step - loss: 0.7154 - accuracy: 0.6977 - val_loss: 0.7162 - val_accuracy: 0.6982\n",
      "Epoch 15/100000\n",
      "4812/4814 [============================>.] - ETA: 0s - loss: 0.7132 - accuracy: 0.6990"
     ]
    },
    {
     "name": "stderr",
     "output_type": "stream",
     "text": [
      "WARNING:absl:Found untraced functions such as lstm_cell_layer_call_fn, lstm_cell_layer_call_and_return_conditional_losses while saving (showing 2 of 2). These functions will not be directly callable after loading.\n"
     ]
    },
    {
     "name": "stdout",
     "output_type": "stream",
     "text": [
      "INFO:tensorflow:Assets written to: ver1_model\\lstm_accuracy0.696772575378418_loss0.7155903577804565\\assets\n"
     ]
    },
    {
     "name": "stderr",
     "output_type": "stream",
     "text": [
      "INFO:tensorflow:Assets written to: ver1_model\\lstm_accuracy0.696772575378418_loss0.7155903577804565\\assets\n"
     ]
    },
    {
     "name": "stdout",
     "output_type": "stream",
     "text": [
      "4814/4814 [==============================] - 17s 4ms/step - loss: 0.7133 - accuracy: 0.6990 - val_loss: 0.7156 - val_accuracy: 0.6968\n",
      "Epoch 16/100000\n",
      "4814/4814 [==============================] - 15s 3ms/step - loss: 0.7121 - accuracy: 0.6991 - val_loss: 0.7231 - val_accuracy: 0.6961\n",
      "Epoch 17/100000\n",
      "4804/4814 [============================>.] - ETA: 0s - loss: 0.7100 - accuracy: 0.7001"
     ]
    },
    {
     "name": "stderr",
     "output_type": "stream",
     "text": [
      "WARNING:absl:Found untraced functions such as lstm_cell_layer_call_fn, lstm_cell_layer_call_and_return_conditional_losses while saving (showing 2 of 2). These functions will not be directly callable after loading.\n"
     ]
    },
    {
     "name": "stdout",
     "output_type": "stream",
     "text": [
      "INFO:tensorflow:Assets written to: ver1_model\\lstm_accuracy0.6995578408241272_loss0.7144275903701782\\assets\n"
     ]
    },
    {
     "name": "stderr",
     "output_type": "stream",
     "text": [
      "INFO:tensorflow:Assets written to: ver1_model\\lstm_accuracy0.6995578408241272_loss0.7144275903701782\\assets\n"
     ]
    },
    {
     "name": "stdout",
     "output_type": "stream",
     "text": [
      "4814/4814 [==============================] - 17s 3ms/step - loss: 0.7101 - accuracy: 0.7001 - val_loss: 0.7144 - val_accuracy: 0.6996\n",
      "Epoch 18/100000\n",
      "4814/4814 [==============================] - 16s 3ms/step - loss: 0.7085 - accuracy: 0.7006 - val_loss: 0.7231 - val_accuracy: 0.6945\n",
      "Epoch 19/100000\n",
      "4803/4814 [============================>.] - ETA: 0s - loss: 0.7071 - accuracy: 0.7008"
     ]
    },
    {
     "name": "stderr",
     "output_type": "stream",
     "text": [
      "WARNING:absl:Found untraced functions such as lstm_cell_layer_call_fn, lstm_cell_layer_call_and_return_conditional_losses while saving (showing 2 of 2). These functions will not be directly callable after loading.\n"
     ]
    },
    {
     "name": "stdout",
     "output_type": "stream",
     "text": [
      "INFO:tensorflow:Assets written to: ver1_model\\lstm_accuracy0.7052388191223145_loss0.7038297057151794\\assets\n"
     ]
    },
    {
     "name": "stderr",
     "output_type": "stream",
     "text": [
      "INFO:tensorflow:Assets written to: ver1_model\\lstm_accuracy0.7052388191223145_loss0.7038297057151794\\assets\n"
     ]
    },
    {
     "name": "stdout",
     "output_type": "stream",
     "text": [
      "4814/4814 [==============================] - 19s 4ms/step - loss: 0.7071 - accuracy: 0.7008 - val_loss: 0.7038 - val_accuracy: 0.7052\n",
      "Epoch 20/100000\n",
      "4814/4814 [==============================] - 16s 3ms/step - loss: 0.7055 - accuracy: 0.7014 - val_loss: 0.7168 - val_accuracy: 0.6970\n",
      "Epoch 21/100000\n",
      "4814/4814 [==============================] - 15s 3ms/step - loss: 0.7043 - accuracy: 0.7015 - val_loss: 0.7055 - val_accuracy: 0.7010\n",
      "Epoch 22/100000\n",
      "4814/4814 [==============================] - 15s 3ms/step - loss: 0.7024 - accuracy: 0.7024 - val_loss: 0.7108 - val_accuracy: 0.7009\n",
      "Epoch 23/100000\n",
      "4809/4814 [============================>.] - ETA: 0s - loss: 0.7014 - accuracy: 0.7034"
     ]
    },
    {
     "name": "stderr",
     "output_type": "stream",
     "text": [
      "WARNING:absl:Found untraced functions such as lstm_cell_layer_call_fn, lstm_cell_layer_call_and_return_conditional_losses while saving (showing 2 of 2). These functions will not be directly callable after loading.\n"
     ]
    },
    {
     "name": "stdout",
     "output_type": "stream",
     "text": [
      "INFO:tensorflow:Assets written to: ver1_model\\lstm_accuracy0.7056608200073242_loss0.7000747919082642\\assets\n"
     ]
    },
    {
     "name": "stderr",
     "output_type": "stream",
     "text": [
      "INFO:tensorflow:Assets written to: ver1_model\\lstm_accuracy0.7056608200073242_loss0.7000747919082642\\assets\n"
     ]
    },
    {
     "name": "stdout",
     "output_type": "stream",
     "text": [
      "4814/4814 [==============================] - 17s 4ms/step - loss: 0.7014 - accuracy: 0.7035 - val_loss: 0.7001 - val_accuracy: 0.7057\n",
      "Epoch 24/100000\n",
      "4814/4814 [==============================] - 15s 3ms/step - loss: 0.7000 - accuracy: 0.7037 - val_loss: 0.7037 - val_accuracy: 0.7015\n",
      "Epoch 25/100000\n",
      "4814/4814 [==============================] - 15s 3ms/step - loss: 0.6994 - accuracy: 0.7040 - val_loss: 0.7140 - val_accuracy: 0.6990\n",
      "Epoch 26/100000\n",
      "4814/4814 [==============================] - 15s 3ms/step - loss: 0.6983 - accuracy: 0.7050 - val_loss: 0.7016 - val_accuracy: 0.7041\n",
      "Epoch 27/100000\n",
      "4810/4814 [============================>.] - ETA: 0s - loss: 0.6976 - accuracy: 0.7053"
     ]
    },
    {
     "name": "stderr",
     "output_type": "stream",
     "text": [
      "WARNING:absl:Found untraced functions such as lstm_cell_layer_call_fn, lstm_cell_layer_call_and_return_conditional_losses while saving (showing 2 of 2). These functions will not be directly callable after loading.\n"
     ]
    },
    {
     "name": "stdout",
     "output_type": "stream",
     "text": [
      "INFO:tensorflow:Assets written to: ver1_model\\lstm_accuracy0.7063230872154236_loss0.69852215051651\\assets\n"
     ]
    },
    {
     "name": "stderr",
     "output_type": "stream",
     "text": [
      "INFO:tensorflow:Assets written to: ver1_model\\lstm_accuracy0.7063230872154236_loss0.69852215051651\\assets\n"
     ]
    },
    {
     "name": "stdout",
     "output_type": "stream",
     "text": [
      "4814/4814 [==============================] - 17s 4ms/step - loss: 0.6975 - accuracy: 0.7053 - val_loss: 0.6985 - val_accuracy: 0.7063\n",
      "Epoch 28/100000\n",
      "4814/4814 [==============================] - 15s 3ms/step - loss: 0.6971 - accuracy: 0.7055 - val_loss: 0.7018 - val_accuracy: 0.7046\n",
      "Epoch 29/100000\n",
      "4814/4814 [==============================] - 15s 3ms/step - loss: 0.6969 - accuracy: 0.7059 - val_loss: 0.7033 - val_accuracy: 0.7056\n",
      "Epoch 30/100000\n",
      "4814/4814 [==============================] - 15s 3ms/step - loss: 0.6957 - accuracy: 0.7063 - val_loss: 0.7047 - val_accuracy: 0.7036\n",
      "Epoch 31/100000\n",
      "4814/4814 [==============================] - 15s 3ms/step - loss: 0.6951 - accuracy: 0.7061 - val_loss: 0.7126 - val_accuracy: 0.6976\n",
      "Epoch 32/100000\n",
      "4814/4814 [==============================] - 15s 3ms/step - loss: 0.6949 - accuracy: 0.7067 - val_loss: 0.7030 - val_accuracy: 0.7059\n",
      "Epoch 1/100000\n",
      "4804/4814 [============================>.] - ETA: 0s - loss: 1.0602 - accuracy: 0.5518INFO:tensorflow:Assets written to: ver1_model\\dnn_accuracy0.5777838230133057_loss0.9881194829940796\\assets\n"
     ]
    },
    {
     "name": "stderr",
     "output_type": "stream",
     "text": [
      "INFO:tensorflow:Assets written to: ver1_model\\dnn_accuracy0.5777838230133057_loss0.9881194829940796\\assets\n"
     ]
    },
    {
     "name": "stdout",
     "output_type": "stream",
     "text": [
      "4814/4814 [==============================] - 11s 2ms/step - loss: 1.0601 - accuracy: 0.5518 - val_loss: 0.9881 - val_accuracy: 0.5778\n",
      "Epoch 2/100000\n",
      "4808/4814 [============================>.] - ETA: 0s - loss: 1.0141 - accuracy: 0.5668INFO:tensorflow:Assets written to: ver1_model\\dnn_accuracy0.5877044200897217_loss0.9683213829994202\\assets\n"
     ]
    },
    {
     "name": "stderr",
     "output_type": "stream",
     "text": [
      "INFO:tensorflow:Assets written to: ver1_model\\dnn_accuracy0.5877044200897217_loss0.9683213829994202\\assets\n"
     ]
    },
    {
     "name": "stdout",
     "output_type": "stream",
     "text": [
      "4814/4814 [==============================] - 10s 2ms/step - loss: 1.0141 - accuracy: 0.5668 - val_loss: 0.9683 - val_accuracy: 0.5877\n",
      "Epoch 3/100000\n",
      "4791/4814 [============================>.] - ETA: 0s - loss: 0.9982 - accuracy: 0.5740INFO:tensorflow:Assets written to: ver1_model\\dnn_accuracy0.5971900224685669_loss0.9392558336257935\\assets\n"
     ]
    },
    {
     "name": "stderr",
     "output_type": "stream",
     "text": [
      "INFO:tensorflow:Assets written to: ver1_model\\dnn_accuracy0.5971900224685669_loss0.9392558336257935\\assets\n"
     ]
    },
    {
     "name": "stdout",
     "output_type": "stream",
     "text": [
      "4814/4814 [==============================] - 11s 2ms/step - loss: 0.9981 - accuracy: 0.5740 - val_loss: 0.9393 - val_accuracy: 0.5972\n",
      "Epoch 4/100000\n",
      "4786/4814 [============================>.] - ETA: 0s - loss: 0.9791 - accuracy: 0.5834INFO:tensorflow:Assets written to: ver1_model\\dnn_accuracy0.6035526990890503_loss0.9307987689971924\\assets\n"
     ]
    },
    {
     "name": "stderr",
     "output_type": "stream",
     "text": [
      "INFO:tensorflow:Assets written to: ver1_model\\dnn_accuracy0.6035526990890503_loss0.9307987689971924\\assets\n"
     ]
    },
    {
     "name": "stdout",
     "output_type": "stream",
     "text": [
      "4814/4814 [==============================] - 10s 2ms/step - loss: 0.9791 - accuracy: 0.5834 - val_loss: 0.9308 - val_accuracy: 0.6036\n",
      "Epoch 5/100000\n",
      "4802/4814 [============================>.] - ETA: 0s - loss: 0.9705 - accuracy: 0.5883INFO:tensorflow:Assets written to: ver1_model\\dnn_accuracy0.604169487953186_loss0.9229382276535034\\assets\n"
     ]
    },
    {
     "name": "stderr",
     "output_type": "stream",
     "text": [
      "INFO:tensorflow:Assets written to: ver1_model\\dnn_accuracy0.604169487953186_loss0.9229382276535034\\assets\n"
     ]
    },
    {
     "name": "stdout",
     "output_type": "stream",
     "text": [
      "4814/4814 [==============================] - 11s 2ms/step - loss: 0.9705 - accuracy: 0.5883 - val_loss: 0.9229 - val_accuracy: 0.6042\n",
      "Epoch 6/100000\n",
      "4808/4814 [============================>.] - ETA: 0s - loss: 0.9654 - accuracy: 0.5905INFO:tensorflow:Assets written to: ver1_model\\dnn_accuracy0.608266294002533_loss0.9169731140136719\\assets\n"
     ]
    },
    {
     "name": "stderr",
     "output_type": "stream",
     "text": [
      "INFO:tensorflow:Assets written to: ver1_model\\dnn_accuracy0.608266294002533_loss0.9169731140136719\\assets\n"
     ]
    },
    {
     "name": "stdout",
     "output_type": "stream",
     "text": [
      "4814/4814 [==============================] - 10s 2ms/step - loss: 0.9654 - accuracy: 0.5905 - val_loss: 0.9170 - val_accuracy: 0.6083\n",
      "Epoch 7/100000\n",
      "4802/4814 [============================>.] - ETA: 0s - loss: 0.9628 - accuracy: 0.5913INFO:tensorflow:Assets written to: ver1_model\\dnn_accuracy0.6070067286491394_loss0.915817141532898\\assets\n"
     ]
    },
    {
     "name": "stderr",
     "output_type": "stream",
     "text": [
      "INFO:tensorflow:Assets written to: ver1_model\\dnn_accuracy0.6070067286491394_loss0.915817141532898\\assets\n"
     ]
    },
    {
     "name": "stdout",
     "output_type": "stream",
     "text": [
      "4814/4814 [==============================] - 11s 2ms/step - loss: 0.9627 - accuracy: 0.5913 - val_loss: 0.9158 - val_accuracy: 0.6070\n",
      "Epoch 8/100000\n",
      "4812/4814 [============================>.] - ETA: 0s - loss: 0.9610 - accuracy: 0.5923INFO:tensorflow:Assets written to: ver1_model\\dnn_accuracy0.6096556782722473_loss0.9157711267471313\\assets\n"
     ]
    },
    {
     "name": "stderr",
     "output_type": "stream",
     "text": [
      "INFO:tensorflow:Assets written to: ver1_model\\dnn_accuracy0.6096556782722473_loss0.9157711267471313\\assets\n"
     ]
    },
    {
     "name": "stdout",
     "output_type": "stream",
     "text": [
      "4814/4814 [==============================] - 11s 2ms/step - loss: 0.9610 - accuracy: 0.5923 - val_loss: 0.9158 - val_accuracy: 0.6097\n",
      "Epoch 9/100000\n",
      "4812/4814 [============================>.] - ETA: 0s - loss: 0.9605 - accuracy: 0.5931INFO:tensorflow:Assets written to: ver1_model\\dnn_accuracy0.6078637838363647_loss0.9146209955215454\\assets\n"
     ]
    },
    {
     "name": "stderr",
     "output_type": "stream",
     "text": [
      "INFO:tensorflow:Assets written to: ver1_model\\dnn_accuracy0.6078637838363647_loss0.9146209955215454\\assets\n"
     ]
    },
    {
     "name": "stdout",
     "output_type": "stream",
     "text": [
      "4814/4814 [==============================] - 11s 2ms/step - loss: 0.9605 - accuracy: 0.5931 - val_loss: 0.9146 - val_accuracy: 0.6079\n",
      "Epoch 10/100000\n",
      "4814/4814 [==============================] - 10s 2ms/step - loss: 0.9597 - accuracy: 0.5924 - val_loss: 0.9159 - val_accuracy: 0.6011\n",
      "Epoch 11/100000\n",
      "4814/4814 [==============================] - 10s 2ms/step - loss: 0.9576 - accuracy: 0.5940 - val_loss: 0.9258 - val_accuracy: 0.6044\n",
      "Epoch 12/100000\n",
      "4814/4814 [==============================] - 10s 2ms/step - loss: 0.9556 - accuracy: 0.5949 - val_loss: 0.9321 - val_accuracy: 0.6048\n",
      "Epoch 13/100000\n",
      "4808/4814 [============================>.] - ETA: 0s - loss: 0.9541 - accuracy: 0.5952INFO:tensorflow:Assets written to: ver1_model\\dnn_accuracy0.6160184144973755_loss0.9054508209228516\\assets\n"
     ]
    },
    {
     "name": "stderr",
     "output_type": "stream",
     "text": [
      "INFO:tensorflow:Assets written to: ver1_model\\dnn_accuracy0.6160184144973755_loss0.9054508209228516\\assets\n"
     ]
    },
    {
     "name": "stdout",
     "output_type": "stream",
     "text": [
      "4814/4814 [==============================] - 11s 2ms/step - loss: 0.9541 - accuracy: 0.5952 - val_loss: 0.9055 - val_accuracy: 0.6160\n",
      "Epoch 14/100000\n",
      "4814/4814 [==============================] - 10s 2ms/step - loss: 0.9520 - accuracy: 0.5972 - val_loss: 0.9076 - val_accuracy: 0.6148\n",
      "Epoch 15/100000\n",
      "4814/4814 [==============================] - 10s 2ms/step - loss: 0.9507 - accuracy: 0.5978 - val_loss: 0.9076 - val_accuracy: 0.6192\n",
      "Epoch 16/100000\n",
      "4788/4814 [============================>.] - ETA: 0s - loss: 0.9506 - accuracy: 0.5974INFO:tensorflow:Assets written to: ver1_model\\dnn_accuracy0.6134408712387085_loss0.9039753675460815\\assets\n"
     ]
    },
    {
     "name": "stderr",
     "output_type": "stream",
     "text": [
      "INFO:tensorflow:Assets written to: ver1_model\\dnn_accuracy0.6134408712387085_loss0.9039753675460815\\assets\n"
     ]
    },
    {
     "name": "stdout",
     "output_type": "stream",
     "text": [
      "4814/4814 [==============================] - 10s 2ms/step - loss: 0.9505 - accuracy: 0.5975 - val_loss: 0.9040 - val_accuracy: 0.6134\n",
      "Epoch 17/100000\n",
      "4814/4814 [==============================] - 10s 2ms/step - loss: 0.9491 - accuracy: 0.5987 - val_loss: 0.9044 - val_accuracy: 0.6085\n",
      "Epoch 18/100000\n",
      "4807/4814 [============================>.] - ETA: 0s - loss: 0.9499 - accuracy: 0.5981INFO:tensorflow:Assets written to: ver1_model\\dnn_accuracy0.6187776923179626_loss0.8969689011573792\\assets\n"
     ]
    },
    {
     "name": "stderr",
     "output_type": "stream",
     "text": [
      "INFO:tensorflow:Assets written to: ver1_model\\dnn_accuracy0.6187776923179626_loss0.8969689011573792\\assets\n"
     ]
    },
    {
     "name": "stdout",
     "output_type": "stream",
     "text": [
      "4814/4814 [==============================] - 11s 2ms/step - loss: 0.9499 - accuracy: 0.5981 - val_loss: 0.8970 - val_accuracy: 0.6188\n",
      "Epoch 19/100000\n",
      "4814/4814 [==============================] - 10s 2ms/step - loss: 0.9490 - accuracy: 0.5982 - val_loss: 0.9090 - val_accuracy: 0.6116\n",
      "Epoch 20/100000\n",
      "4814/4814 [==============================] - 10s 2ms/step - loss: 0.9487 - accuracy: 0.5989 - val_loss: 0.9049 - val_accuracy: 0.6190\n",
      "Epoch 21/100000\n",
      "4814/4814 [==============================] - 10s 2ms/step - loss: 0.9493 - accuracy: 0.5977 - val_loss: 0.9081 - val_accuracy: 0.6059\n",
      "Epoch 22/100000\n",
      "4800/4814 [============================>.] - ETA: 0s - loss: 0.9490 - accuracy: 0.5989INFO:tensorflow:Assets written to: ver1_model\\dnn_accuracy0.6183362007141113_loss0.8938277363777161\\assets\n"
     ]
    },
    {
     "name": "stderr",
     "output_type": "stream",
     "text": [
      "INFO:tensorflow:Assets written to: ver1_model\\dnn_accuracy0.6183362007141113_loss0.8938277363777161\\assets\n"
     ]
    },
    {
     "name": "stdout",
     "output_type": "stream",
     "text": [
      "4814/4814 [==============================] - 10s 2ms/step - loss: 0.9489 - accuracy: 0.5989 - val_loss: 0.8938 - val_accuracy: 0.6183\n",
      "Epoch 23/100000\n",
      "4814/4814 [==============================] - 10s 2ms/step - loss: 0.9465 - accuracy: 0.5999 - val_loss: 0.8962 - val_accuracy: 0.6223\n",
      "Epoch 24/100000\n",
      "4800/4814 [============================>.] - ETA: 0s - loss: 0.9448 - accuracy: 0.6013INFO:tensorflow:Assets written to: ver1_model\\dnn_accuracy0.6196022629737854_loss0.892235279083252\\assets\n"
     ]
    },
    {
     "name": "stderr",
     "output_type": "stream",
     "text": [
      "INFO:tensorflow:Assets written to: ver1_model\\dnn_accuracy0.6196022629737854_loss0.892235279083252\\assets\n"
     ]
    },
    {
     "name": "stdout",
     "output_type": "stream",
     "text": [
      "4814/4814 [==============================] - 10s 2ms/step - loss: 0.9449 - accuracy: 0.6013 - val_loss: 0.8922 - val_accuracy: 0.6196\n",
      "Epoch 25/100000\n",
      "4814/4814 [==============================] - 10s 2ms/step - loss: 0.9442 - accuracy: 0.6014 - val_loss: 0.9015 - val_accuracy: 0.6179\n",
      "Epoch 26/100000\n",
      "4814/4814 [==============================] - 10s 2ms/step - loss: 0.9431 - accuracy: 0.6015 - val_loss: 0.8957 - val_accuracy: 0.6172\n",
      "Epoch 27/100000\n",
      "4814/4814 [==============================] - 10s 2ms/step - loss: 0.9454 - accuracy: 0.6009 - val_loss: 0.8999 - val_accuracy: 0.6219\n",
      "Epoch 28/100000\n",
      "4814/4814 [==============================] - 10s 2ms/step - loss: 0.9432 - accuracy: 0.6018 - val_loss: 0.8989 - val_accuracy: 0.6207\n",
      "Epoch 29/100000\n",
      "4814/4814 [==============================] - 10s 2ms/step - loss: 0.9431 - accuracy: 0.6015 - val_loss: 0.9070 - val_accuracy: 0.6159\n",
      "[LightGBM] [Info] Auto-choosing row-wise multi-threading, the overhead of testing was 0.013229 seconds.\n",
      "You can set `force_row_wise=true` to remove the overhead.\n",
      "And if memory is not enough, you can set `force_col_wise=true`.\n",
      "[LightGBM] [Info] Total Bins 901\n",
      "[LightGBM] [Info] Number of data points in the train set: 770114, number of used features: 10\n",
      "[LightGBM] [Info] Start training from score -0.862329\n",
      "[LightGBM] [Info] Start training from score -1.550007\n",
      "[LightGBM] [Info] Start training from score -1.749699\n",
      "[LightGBM] [Info] Start training from score -2.566242\n",
      "[LightGBM] [Info] Start training from score -3.994494\n",
      "[LightGBM] [Info] Start training from score -2.338118\n"
     ]
    },
    {
     "data": {
      "text/html": [
       "<style>#sk-container-id-1 {color: black;background-color: white;}#sk-container-id-1 pre{padding: 0;}#sk-container-id-1 div.sk-toggleable {background-color: white;}#sk-container-id-1 label.sk-toggleable__label {cursor: pointer;display: block;width: 100%;margin-bottom: 0;padding: 0.3em;box-sizing: border-box;text-align: center;}#sk-container-id-1 label.sk-toggleable__label-arrow:before {content: \"▸\";float: left;margin-right: 0.25em;color: #696969;}#sk-container-id-1 label.sk-toggleable__label-arrow:hover:before {color: black;}#sk-container-id-1 div.sk-estimator:hover label.sk-toggleable__label-arrow:before {color: black;}#sk-container-id-1 div.sk-toggleable__content {max-height: 0;max-width: 0;overflow: hidden;text-align: left;background-color: #f0f8ff;}#sk-container-id-1 div.sk-toggleable__content pre {margin: 0.2em;color: black;border-radius: 0.25em;background-color: #f0f8ff;}#sk-container-id-1 input.sk-toggleable__control:checked~div.sk-toggleable__content {max-height: 200px;max-width: 100%;overflow: auto;}#sk-container-id-1 input.sk-toggleable__control:checked~label.sk-toggleable__label-arrow:before {content: \"▾\";}#sk-container-id-1 div.sk-estimator input.sk-toggleable__control:checked~label.sk-toggleable__label {background-color: #d4ebff;}#sk-container-id-1 div.sk-label input.sk-toggleable__control:checked~label.sk-toggleable__label {background-color: #d4ebff;}#sk-container-id-1 input.sk-hidden--visually {border: 0;clip: rect(1px 1px 1px 1px);clip: rect(1px, 1px, 1px, 1px);height: 1px;margin: -1px;overflow: hidden;padding: 0;position: absolute;width: 1px;}#sk-container-id-1 div.sk-estimator {font-family: monospace;background-color: #f0f8ff;border: 1px dotted black;border-radius: 0.25em;box-sizing: border-box;margin-bottom: 0.5em;}#sk-container-id-1 div.sk-estimator:hover {background-color: #d4ebff;}#sk-container-id-1 div.sk-parallel-item::after {content: \"\";width: 100%;border-bottom: 1px solid gray;flex-grow: 1;}#sk-container-id-1 div.sk-label:hover label.sk-toggleable__label {background-color: #d4ebff;}#sk-container-id-1 div.sk-serial::before {content: \"\";position: absolute;border-left: 1px solid gray;box-sizing: border-box;top: 0;bottom: 0;left: 50%;z-index: 0;}#sk-container-id-1 div.sk-serial {display: flex;flex-direction: column;align-items: center;background-color: white;padding-right: 0.2em;padding-left: 0.2em;position: relative;}#sk-container-id-1 div.sk-item {position: relative;z-index: 1;}#sk-container-id-1 div.sk-parallel {display: flex;align-items: stretch;justify-content: center;background-color: white;position: relative;}#sk-container-id-1 div.sk-item::before, #sk-container-id-1 div.sk-parallel-item::before {content: \"\";position: absolute;border-left: 1px solid gray;box-sizing: border-box;top: 0;bottom: 0;left: 50%;z-index: -1;}#sk-container-id-1 div.sk-parallel-item {display: flex;flex-direction: column;z-index: 1;position: relative;background-color: white;}#sk-container-id-1 div.sk-parallel-item:first-child::after {align-self: flex-end;width: 50%;}#sk-container-id-1 div.sk-parallel-item:last-child::after {align-self: flex-start;width: 50%;}#sk-container-id-1 div.sk-parallel-item:only-child::after {width: 0;}#sk-container-id-1 div.sk-dashed-wrapped {border: 1px dashed gray;margin: 0 0.4em 0.5em 0.4em;box-sizing: border-box;padding-bottom: 0.4em;background-color: white;}#sk-container-id-1 div.sk-label label {font-family: monospace;font-weight: bold;display: inline-block;line-height: 1.2em;}#sk-container-id-1 div.sk-label-container {text-align: center;}#sk-container-id-1 div.sk-container {/* jupyter's `normalize.less` sets `[hidden] { display: none; }` but bootstrap.min.css set `[hidden] { display: none !important; }` so we also need the `!important` here to be able to override the default hidden behavior on the sphinx rendered scikit-learn.org. See: https://github.com/scikit-learn/scikit-learn/issues/21755 */display: inline-block !important;position: relative;}#sk-container-id-1 div.sk-text-repr-fallback {display: none;}</style><div id=\"sk-container-id-1\" class=\"sk-top-container\"><div class=\"sk-text-repr-fallback\"><pre>LGBMClassifier(num_class=6, objective=&#x27;multiclass&#x27;, random_state=42)</pre><b>In a Jupyter environment, please rerun this cell to show the HTML representation or trust the notebook. <br />On GitHub, the HTML representation is unable to render, please try loading this page with nbviewer.org.</b></div><div class=\"sk-container\" hidden><div class=\"sk-item\"><div class=\"sk-estimator sk-toggleable\"><input class=\"sk-toggleable__control sk-hidden--visually\" id=\"sk-estimator-id-1\" type=\"checkbox\" checked><label for=\"sk-estimator-id-1\" class=\"sk-toggleable__label sk-toggleable__label-arrow\">LGBMClassifier</label><div class=\"sk-toggleable__content\"><pre>LGBMClassifier(num_class=6, objective=&#x27;multiclass&#x27;, random_state=42)</pre></div></div></div></div></div>"
      ],
      "text/plain": [
       "LGBMClassifier(num_class=6, objective='multiclass', random_state=42)"
      ]
     },
     "execution_count": 8,
     "metadata": {},
     "output_type": "execute_result"
    }
   ],
   "source": [
    "\n",
    "# LSTM\n",
    "history_lstm = model_lstm.fit(X_train_seq, y_train_seq, epochs=my_epochs, batch_size=128, validation_split=0.2, verbose=1,\n",
    "                             callbacks=[es,model_lstm_checkpoint])\n",
    "\n",
    "# # DNN\n",
    "history_dnn = model_dnn.fit(X_train_flat, y_train, epochs=my_epochs, batch_size=128, validation_split=0.2, verbose=1,\n",
    "                           callbacks=[es,model_dnn_checkpoint])\n",
    "\n",
    "# # LightGBM\n",
    "model_lgbm.fit(X_train_flat, y_train)\n"
   ]
  },
  {
   "cell_type": "code",
   "execution_count": 9,
   "id": "fc6aa016",
   "metadata": {
    "scrolled": true
   },
   "outputs": [
    {
     "data": {
      "image/png": "[encoded data removed]",
      "text/plain": [
       "<Figure size 1000x500 with 2 Axes>"
      ]
     },
     "metadata": {},
     "output_type": "display_data"
    },
    {
     "data": {
      "image/png": "[encoded data removed]",
      "text/plain": [
       "<Figure size 1000x500 with 2 Axes>"
      ]
     },
     "metadata": {},
     "output_type": "display_data"
    }
   ],
   "source": [
    "import matplotlib.pyplot as plt\n",
    "\n",
    "def plot_history(history, title='Model'):\n",
    "    fig, loss_ax = plt.subplots(figsize = (10,5))\n",
    "    loss_ax.plot(history.history.get('loss'), color='yellow', label='train loss')\n",
    "    loss_ax.plot(history.history.get('val_loss'), color='red', label='val loss')\n",
    "    loss_ax.legend(loc=(1.1,1))\n",
    "    loss_ax.set_xlabel('epochs')\n",
    "    loss_ax.set_ylabel('loss')\n",
    "    acc_ax = loss_ax.twinx()\n",
    "    acc_ax.plot(history.history.get('accuracy'), color='green', label='train accuracy')\n",
    "    acc_ax.plot(history.history.get('val_accuracy'), color='blue', label='val accuracy')\n",
    "    acc_ax.legend(loc=(1.1,0.8))\n",
    "    acc_ax.set_ylabel('accuracy')\n",
    "    plt.title(title)\n",
    "    plt.show()\n",
    "\n",
    "plot_history(history_lstm, 'LSTM')\n",
    "plot_history(history_dnn, 'DNN')"
   ]
  },
  {
   "cell_type": "code",
   "execution_count": 10,
   "id": "74f58092",
   "metadata": {},
   "outputs": [
    {
     "name": "stdout",
     "output_type": "stream",
     "text": [
      "6017/6017 [==============================] - 6s 987us/step\n",
      "LSTM:\n",
      "               precision    recall  f1-score   support\n",
      "\n",
      "           0       0.82      0.86      0.83     81425\n",
      "           1       0.61      0.62      0.61     40700\n",
      "           2       0.62      0.71      0.66     33453\n",
      "           3       0.67      0.61      0.64     14941\n",
      "           4       0.58      0.69      0.63      3500\n",
      "           5       0.60      0.31      0.41     18510\n",
      "\n",
      "    accuracy                           0.71    192529\n",
      "   macro avg       0.65      0.63      0.63    192529\n",
      "weighted avg       0.70      0.71      0.70    192529\n",
      "\n",
      "6017/6017 [==============================] - 4s 644us/step\n",
      "DNN:\n",
      "               precision    recall  f1-score   support\n",
      "\n",
      "           0       0.76      0.80      0.78     81425\n",
      "           1       0.48      0.61      0.54     40700\n",
      "           2       0.52      0.62      0.57     33453\n",
      "           3       0.53      0.48      0.50     14941\n",
      "           4       0.47      0.15      0.23      3500\n",
      "           5       0.31      0.01      0.02     18510\n",
      "\n",
      "    accuracy                           0.62    192529\n",
      "   macro avg       0.51      0.44      0.44    192529\n",
      "weighted avg       0.59      0.62      0.59    192529\n",
      "\n",
      "LightGBM:\n",
      "               precision    recall  f1-score   support\n",
      "\n",
      "           0       0.79      0.88      0.83     81425\n",
      "           1       0.61      0.57      0.59     40700\n",
      "           2       0.61      0.69      0.65     33453\n",
      "           3       0.63      0.68      0.65     14941\n",
      "           4       0.60      0.64      0.62      3500\n",
      "           5       0.66      0.22      0.33     18510\n",
      "\n",
      "    accuracy                           0.70    192529\n",
      "   macro avg       0.65      0.61      0.61    192529\n",
      "weighted avg       0.69      0.70      0.68    192529\n",
      "\n"
     ]
    }
   ],
   "source": [
    "from sklearn.metrics import classification_report\n",
    "\n",
    "# LSTM\n",
    "y_pred_lstm = np.argmax(model_lstm.predict(X_test_seq), axis=1)\n",
    "print(\"LSTM:\\n\", classification_report(y_test_seq, y_pred_lstm))\n",
    "\n",
    "# DNN\n",
    "y_pred_dnn = np.argmax(model_dnn.predict(X_test_flat), axis=1)\n",
    "print(\"DNN:\\n\", classification_report(y_test, y_pred_dnn))\n",
    "\n",
    "# LightGBM\n",
    "y_pred_lgbm = model_lgbm.predict(X_test_flat)\n",
    "print(\"LightGBM:\\n\", classification_report(y_test, y_pred_lgbm))\n"
   ]
  },
  {
   "cell_type": "code",
   "execution_count": 11,
   "id": "5ee5a11c",
   "metadata": {},
   "outputs": [
    {
     "name": "stdout",
     "output_type": "stream",
     "text": [
      "LSTM :\n"
     ]
    },
    {
     "data": {
      "text/html": [
       "<div>\n",
       "<style scoped>\n",
       "    .dataframe tbody tr th:only-of-type {\n",
       "        vertical-align: middle;\n",
       "    }\n",
       "\n",
       "    .dataframe tbody tr th {\n",
       "        vertical-align: top;\n",
       "    }\n",
       "\n",
       "    .dataframe thead th {\n",
       "        text-align: right;\n",
       "    }\n",
       "</style>\n",
       "<table border=\"1\" class=\"dataframe\">\n",
       "  <thead>\n",
       "    <tr style=\"text-align: right;\">\n",
       "      <th>예측값</th>\n",
       "      <th>0</th>\n",
       "      <th>1</th>\n",
       "      <th>2</th>\n",
       "      <th>3</th>\n",
       "      <th>4</th>\n",
       "      <th>5</th>\n",
       "    </tr>\n",
       "    <tr>\n",
       "      <th>실제값</th>\n",
       "      <th></th>\n",
       "      <th></th>\n",
       "      <th></th>\n",
       "      <th></th>\n",
       "      <th></th>\n",
       "      <th></th>\n",
       "    </tr>\n",
       "  </thead>\n",
       "  <tbody>\n",
       "    <tr>\n",
       "      <th>0</th>\n",
       "      <td>69639</td>\n",
       "      <td>7860</td>\n",
       "      <td>2024</td>\n",
       "      <td>415</td>\n",
       "      <td>76</td>\n",
       "      <td>1411</td>\n",
       "    </tr>\n",
       "    <tr>\n",
       "      <th>1</th>\n",
       "      <td>7864</td>\n",
       "      <td>25260</td>\n",
       "      <td>6383</td>\n",
       "      <td>285</td>\n",
       "      <td>40</td>\n",
       "      <td>868</td>\n",
       "    </tr>\n",
       "    <tr>\n",
       "      <th>2</th>\n",
       "      <td>990</td>\n",
       "      <td>5422</td>\n",
       "      <td>23805</td>\n",
       "      <td>2481</td>\n",
       "      <td>111</td>\n",
       "      <td>644</td>\n",
       "    </tr>\n",
       "    <tr>\n",
       "      <th>3</th>\n",
       "      <td>279</td>\n",
       "      <td>43</td>\n",
       "      <td>3864</td>\n",
       "      <td>9040</td>\n",
       "      <td>1181</td>\n",
       "      <td>534</td>\n",
       "    </tr>\n",
       "    <tr>\n",
       "      <th>4</th>\n",
       "      <td>29</td>\n",
       "      <td>0</td>\n",
       "      <td>22</td>\n",
       "      <td>681</td>\n",
       "      <td>2414</td>\n",
       "      <td>354</td>\n",
       "    </tr>\n",
       "    <tr>\n",
       "      <th>5</th>\n",
       "      <td>6629</td>\n",
       "      <td>2862</td>\n",
       "      <td>2338</td>\n",
       "      <td>597</td>\n",
       "      <td>328</td>\n",
       "      <td>5756</td>\n",
       "    </tr>\n",
       "  </tbody>\n",
       "</table>\n",
       "</div>"
      ],
      "text/plain": [
       "예측값      0      1      2     3     4     5\n",
       "실제값                                       \n",
       "0    69639   7860   2024   415    76  1411\n",
       "1     7864  25260   6383   285    40   868\n",
       "2      990   5422  23805  2481   111   644\n",
       "3      279     43   3864  9040  1181   534\n",
       "4       29      0     22   681  2414   354\n",
       "5     6629   2862   2338   597   328  5756"
      ]
     },
     "metadata": {},
     "output_type": "display_data"
    },
    {
     "name": "stdout",
     "output_type": "stream",
     "text": [
      "DNN :\n"
     ]
    },
    {
     "data": {
      "text/html": [
       "<div>\n",
       "<style scoped>\n",
       "    .dataframe tbody tr th:only-of-type {\n",
       "        vertical-align: middle;\n",
       "    }\n",
       "\n",
       "    .dataframe tbody tr th {\n",
       "        vertical-align: top;\n",
       "    }\n",
       "\n",
       "    .dataframe thead th {\n",
       "        text-align: right;\n",
       "    }\n",
       "</style>\n",
       "<table border=\"1\" class=\"dataframe\">\n",
       "  <thead>\n",
       "    <tr style=\"text-align: right;\">\n",
       "      <th>예측값</th>\n",
       "      <th>0</th>\n",
       "      <th>1</th>\n",
       "      <th>2</th>\n",
       "      <th>3</th>\n",
       "      <th>4</th>\n",
       "      <th>5</th>\n",
       "    </tr>\n",
       "    <tr>\n",
       "      <th>실제값</th>\n",
       "      <th></th>\n",
       "      <th></th>\n",
       "      <th></th>\n",
       "      <th></th>\n",
       "      <th></th>\n",
       "      <th></th>\n",
       "    </tr>\n",
       "  </thead>\n",
       "  <tbody>\n",
       "    <tr>\n",
       "      <th>0</th>\n",
       "      <td>65427</td>\n",
       "      <td>13382</td>\n",
       "      <td>2188</td>\n",
       "      <td>331</td>\n",
       "      <td>24</td>\n",
       "      <td>73</td>\n",
       "    </tr>\n",
       "    <tr>\n",
       "      <th>1</th>\n",
       "      <td>8406</td>\n",
       "      <td>24825</td>\n",
       "      <td>7061</td>\n",
       "      <td>295</td>\n",
       "      <td>16</td>\n",
       "      <td>97</td>\n",
       "    </tr>\n",
       "    <tr>\n",
       "      <th>2</th>\n",
       "      <td>1569</td>\n",
       "      <td>8965</td>\n",
       "      <td>20671</td>\n",
       "      <td>2137</td>\n",
       "      <td>40</td>\n",
       "      <td>71</td>\n",
       "    </tr>\n",
       "    <tr>\n",
       "      <th>3</th>\n",
       "      <td>329</td>\n",
       "      <td>380</td>\n",
       "      <td>6876</td>\n",
       "      <td>7150</td>\n",
       "      <td>121</td>\n",
       "      <td>85</td>\n",
       "    </tr>\n",
       "    <tr>\n",
       "      <th>4</th>\n",
       "      <td>62</td>\n",
       "      <td>10</td>\n",
       "      <td>143</td>\n",
       "      <td>2687</td>\n",
       "      <td>524</td>\n",
       "      <td>74</td>\n",
       "    </tr>\n",
       "    <tr>\n",
       "      <th>5</th>\n",
       "      <td>10019</td>\n",
       "      <td>4301</td>\n",
       "      <td>2630</td>\n",
       "      <td>993</td>\n",
       "      <td>386</td>\n",
       "      <td>181</td>\n",
       "    </tr>\n",
       "  </tbody>\n",
       "</table>\n",
       "</div>"
      ],
      "text/plain": [
       "예측값      0      1      2     3    4    5\n",
       "실제값                                     \n",
       "0    65427  13382   2188   331   24   73\n",
       "1     8406  24825   7061   295   16   97\n",
       "2     1569   8965  20671  2137   40   71\n",
       "3      329    380   6876  7150  121   85\n",
       "4       62     10    143  2687  524   74\n",
       "5    10019   4301   2630   993  386  181"
      ]
     },
     "metadata": {},
     "output_type": "display_data"
    },
    {
     "name": "stdout",
     "output_type": "stream",
     "text": [
      "LightGBM :\n"
     ]
    },
    {
     "data": {
      "text/html": [
       "<div>\n",
       "<style scoped>\n",
       "    .dataframe tbody tr th:only-of-type {\n",
       "        vertical-align: middle;\n",
       "    }\n",
       "\n",
       "    .dataframe tbody tr th {\n",
       "        vertical-align: top;\n",
       "    }\n",
       "\n",
       "    .dataframe thead th {\n",
       "        text-align: right;\n",
       "    }\n",
       "</style>\n",
       "<table border=\"1\" class=\"dataframe\">\n",
       "  <thead>\n",
       "    <tr style=\"text-align: right;\">\n",
       "      <th>예측값</th>\n",
       "      <th>0</th>\n",
       "      <th>1</th>\n",
       "      <th>2</th>\n",
       "      <th>3</th>\n",
       "      <th>4</th>\n",
       "      <th>5</th>\n",
       "    </tr>\n",
       "    <tr>\n",
       "      <th>실제값</th>\n",
       "      <th></th>\n",
       "      <th></th>\n",
       "      <th></th>\n",
       "      <th></th>\n",
       "      <th></th>\n",
       "      <th></th>\n",
       "    </tr>\n",
       "  </thead>\n",
       "  <tbody>\n",
       "    <tr>\n",
       "      <th>0</th>\n",
       "      <td>71339</td>\n",
       "      <td>6521</td>\n",
       "      <td>2140</td>\n",
       "      <td>607</td>\n",
       "      <td>99</td>\n",
       "      <td>719</td>\n",
       "    </tr>\n",
       "    <tr>\n",
       "      <th>1</th>\n",
       "      <td>9556</td>\n",
       "      <td>23398</td>\n",
       "      <td>6513</td>\n",
       "      <td>395</td>\n",
       "      <td>56</td>\n",
       "      <td>782</td>\n",
       "    </tr>\n",
       "    <tr>\n",
       "      <th>2</th>\n",
       "      <td>1378</td>\n",
       "      <td>5443</td>\n",
       "      <td>23109</td>\n",
       "      <td>2989</td>\n",
       "      <td>82</td>\n",
       "      <td>452</td>\n",
       "    </tr>\n",
       "    <tr>\n",
       "      <th>3</th>\n",
       "      <td>213</td>\n",
       "      <td>62</td>\n",
       "      <td>3579</td>\n",
       "      <td>10189</td>\n",
       "      <td>768</td>\n",
       "      <td>130</td>\n",
       "    </tr>\n",
       "    <tr>\n",
       "      <th>4</th>\n",
       "      <td>7</td>\n",
       "      <td>0</td>\n",
       "      <td>25</td>\n",
       "      <td>1148</td>\n",
       "      <td>2241</td>\n",
       "      <td>79</td>\n",
       "    </tr>\n",
       "    <tr>\n",
       "      <th>5</th>\n",
       "      <td>7750</td>\n",
       "      <td>2782</td>\n",
       "      <td>2446</td>\n",
       "      <td>904</td>\n",
       "      <td>520</td>\n",
       "      <td>4108</td>\n",
       "    </tr>\n",
       "  </tbody>\n",
       "</table>\n",
       "</div>"
      ],
      "text/plain": [
       "예측값      0      1      2      3     4     5\n",
       "실제값                                        \n",
       "0    71339   6521   2140    607    99   719\n",
       "1     9556  23398   6513    395    56   782\n",
       "2     1378   5443  23109   2989    82   452\n",
       "3      213     62   3579  10189   768   130\n",
       "4        7      0     25   1148  2241    79\n",
       "5     7750   2782   2446    904   520  4108"
      ]
     },
     "metadata": {},
     "output_type": "display_data"
    }
   ],
   "source": [
    "print('LSTM :')\n",
    "display(pd.crosstab(y_test_seq,y_pred_lstm,rownames=['실제값'],colnames=['예측값']))\n",
    "print('DNN :')\n",
    "display(pd.crosstab(y_test_seq,y_pred_dnn,rownames=['실제값'],colnames=['예측값']))\n",
    "print('LightGBM :')\n",
    "display(pd.crosstab(y_test_seq,y_pred_lgbm,rownames=['실제값'],colnames=['예측값']))"
   ]
  },
  {
   "cell_type": "code",
   "execution_count": 12,
   "id": "03a652b1",
   "metadata": {},
   "outputs": [
    {
     "ename": "NameError",
     "evalue": "name 'input_data' is not defined",
     "output_type": "error",
     "traceback": [
      "\u001b[1;31m---------------------------------------------------------------------------\u001b[0m",
      "\u001b[1;31mNameError\u001b[0m                                 Traceback (most recent call last)",
      "Cell \u001b[1;32mIn[12], line 5\u001b[0m\n\u001b[0;32m      1\u001b[0m \u001b[38;5;66;03m# 예시: 2025년 어느 날, 특정 행정구의 feature 벡터 (scaler 적용 필요)\u001b[39;00m\n\u001b[0;32m      2\u001b[0m \u001b[38;5;66;03m# input_data: shape = (1, feature_dim)\u001b[39;00m\n\u001b[0;32m      3\u001b[0m \n\u001b[0;32m      4\u001b[0m \u001b[38;5;66;03m# 전처리 → 예측\u001b[39;00m\n\u001b[1;32m----> 5\u001b[0m input_scaled \u001b[38;5;241m=\u001b[39m scaler\u001b[38;5;241m.\u001b[39mtransform(\u001b[43minput_data\u001b[49m)\n\u001b[0;32m      7\u001b[0m \u001b[38;5;66;03m# LSTM\u001b[39;00m\n\u001b[0;32m      8\u001b[0m input_seq \u001b[38;5;241m=\u001b[39m input_scaled\u001b[38;5;241m.\u001b[39mreshape((\u001b[38;5;241m1\u001b[39m, \u001b[38;5;241m1\u001b[39m, input_scaled\u001b[38;5;241m.\u001b[39mshape[\u001b[38;5;241m1\u001b[39m]))\n",
      "\u001b[1;31mNameError\u001b[0m: name 'input_data' is not defined"
     ]
    }
   ],
   "source": [
    "# 예시: 2025년 어느 날, 특정 행정구의 feature 벡터 (scaler 적용 필요)\n",
    "# input_data: shape = (1, feature_dim)\n",
    "\n",
    "# 전처리 → 예측\n",
    "input_scaled = scaler.transform(input_data)\n",
    "\n",
    "# LSTM\n",
    "input_seq = input_scaled.reshape((1, 1, input_scaled.shape[1]))\n",
    "pred_lstm = np.argmax(model_lstm.predict(input_seq))\n",
    "\n",
    "# DNN\n",
    "pred_dnn = np.argmax(model_dnn.predict(input_scaled))\n",
    "\n",
    "# LightGBM\n",
    "pred_lgbm = model_lgbm.predict(input_scaled)[0]\n",
    "\n",
    "print(f\"LSTM 예측: {pred_lstm} / DNN 예측: {pred_dnn} / LightGBM 예측: {pred_lgbm}\")\n"
   ]
  }
 ],
 "metadata": {
  "kernelspec": {
   "display_name": "ml-dl-nlp",
   "language": "python",
   "name": "ml-dl-nlp"
  },
  "language_info": {
   "codemirror_mode": {
    "name": "ipython",
    "version": 3
   },
   "file_extension": ".py",
   "mimetype": "text/x-python",
   "name": "python",
   "nbconvert_exporter": "python",
   "pygments_lexer": "ipython3",
   "version": "3.9.23"
  },
  "toc": {
   "base_numbering": 1,
   "nav_menu": {},
   "number_sections": true,
   "sideBar": true,
   "skip_h1_title": false,
   "title_cell": "Table of Contents",
   "title_sidebar": "Contents",
   "toc_cell": false,
   "toc_position": {
    "height": "calc(100% - 180px)",
    "left": "10px",
    "top": "150px",
    "width": "240.391px"
   },
   "toc_section_display": true,
   "toc_window_display": true
  }
 },
 "nbformat": 4,
 "nbformat_minor": 5
}
